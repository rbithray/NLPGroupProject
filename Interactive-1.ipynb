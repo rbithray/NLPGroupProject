{
 "cells": [
  {
   "cell_type": "code",
   "execution_count": null,
   "id": "21b2f071-f3e2-46cf-bf6a-5e1ddd85ae81",
   "metadata": {},
   "outputs": [],
   "source": [
    "# Initializing and fitting the model\n",
    "model = BERTopic()\n",
    "topics, probs = model.fit_transform(comments['body'])"
   ]
  },
  {
   "cell_type": "code",
   "execution_count": null,
   "id": "34b023a7-420f-4954-a209-f93031683f2e",
   "metadata": {},
   "outputs": [
    {
     "ename": "ValueError",
     "evalue": "Mime type rendering requires nbformat>=4.2.0 but it is not installed",
     "output_type": "error",
     "traceback": [
      "\u001b[1;31m---------------------------------------------------------------------------\u001b[0m",
      "\u001b[1;31mValueError\u001b[0m                                Traceback (most recent call last)",
      "File \u001b[1;32mc:\\TU Delft\\BSc WB4\\TI3160TU - Natural Language Processing\\Group Assignment\\NLPGroupProject\\RQ2.py:23\u001b[0m\n\u001b[0;32m     19\u001b[0m topics_over_time \u001b[39m=\u001b[39m model\u001b[39m.\u001b[39mtopics_over_time(comments[\u001b[39m'\u001b[39m\u001b[39mbody\u001b[39m\u001b[39m'\u001b[39m], comments[\u001b[39m'\u001b[39m\u001b[39mdate\u001b[39m\u001b[39m'\u001b[39m], nr_bins\u001b[39m=\u001b[39m\u001b[39m7\u001b[39m, datetime_format\u001b[39m=\u001b[39m\u001b[39m'\u001b[39m\u001b[39m%d\u001b[39;00m\u001b[39m, \u001b[39m\u001b[39m%\u001b[39m\u001b[39mm, \u001b[39m\u001b[39m%\u001b[39m\u001b[39mY\u001b[39m\u001b[39m'\u001b[39m)\n\u001b[0;32m     22\u001b[0m fig \u001b[39m=\u001b[39m model\u001b[39m.\u001b[39mvisualize_topics_over_time(topics_over_time, top_n_topics\u001b[39m=\u001b[39m\u001b[39m10\u001b[39m)\n\u001b[1;32m---> 23\u001b[0m fig\u001b[39m.\u001b[39;49mshow()\n\u001b[0;32m     24\u001b[0m \u001b[39m# model.visualize_topics_over_time(topics_over_time, top_n_topics=10)\u001b[39;00m\n",
      "File \u001b[1;32mc:\\TU Delft\\BSc WB4\\TI3160TU - Natural Language Processing\\Group Assignment\\NLPGroupProject\\.venv\\Lib\\site-packages\\plotly\\basedatatypes.py:3410\u001b[0m, in \u001b[0;36mBaseFigure.show\u001b[1;34m(self, *args, **kwargs)\u001b[0m\n\u001b[0;32m   3377\u001b[0m \u001b[39m\u001b[39m\u001b[39m\"\"\"\u001b[39;00m\n\u001b[0;32m   3378\u001b[0m \u001b[39mShow a figure using either the default renderer(s) or the renderer(s)\u001b[39;00m\n\u001b[0;32m   3379\u001b[0m \u001b[39mspecified by the renderer argument\u001b[39;00m\n\u001b[1;32m   (...)\u001b[0m\n\u001b[0;32m   3406\u001b[0m \u001b[39mNone\u001b[39;00m\n\u001b[0;32m   3407\u001b[0m \u001b[39m\"\"\"\u001b[39;00m\n\u001b[0;32m   3408\u001b[0m \u001b[39mimport\u001b[39;00m \u001b[39mplotly\u001b[39;00m\u001b[39m.\u001b[39;00m\u001b[39mio\u001b[39;00m \u001b[39mas\u001b[39;00m \u001b[39mpio\u001b[39;00m\n\u001b[1;32m-> 3410\u001b[0m \u001b[39mreturn\u001b[39;00m pio\u001b[39m.\u001b[39;49mshow(\u001b[39mself\u001b[39;49m, \u001b[39m*\u001b[39;49margs, \u001b[39m*\u001b[39;49m\u001b[39m*\u001b[39;49mkwargs)\n",
      "File \u001b[1;32mc:\\TU Delft\\BSc WB4\\TI3160TU - Natural Language Processing\\Group Assignment\\NLPGroupProject\\.venv\\Lib\\site-packages\\plotly\\io\\_renderers.py:394\u001b[0m, in \u001b[0;36mshow\u001b[1;34m(fig, renderer, validate, **kwargs)\u001b[0m\n\u001b[0;32m    389\u001b[0m         \u001b[39mraise\u001b[39;00m \u001b[39mValueError\u001b[39;00m(\n\u001b[0;32m    390\u001b[0m             \u001b[39m\"\u001b[39m\u001b[39mMime type rendering requires ipython but it is not installed\u001b[39m\u001b[39m\"\u001b[39m\n\u001b[0;32m    391\u001b[0m         )\n\u001b[0;32m    393\u001b[0m     \u001b[39mif\u001b[39;00m \u001b[39mnot\u001b[39;00m nbformat \u001b[39mor\u001b[39;00m Version(nbformat\u001b[39m.\u001b[39m__version__) \u001b[39m<\u001b[39m Version(\u001b[39m\"\u001b[39m\u001b[39m4.2.0\u001b[39m\u001b[39m\"\u001b[39m):\n\u001b[1;32m--> 394\u001b[0m         \u001b[39mraise\u001b[39;00m \u001b[39mValueError\u001b[39;00m(\n\u001b[0;32m    395\u001b[0m             \u001b[39m\"\u001b[39m\u001b[39mMime type rendering requires nbformat>=4.2.0 but it is not installed\u001b[39m\u001b[39m\"\u001b[39m\n\u001b[0;32m    396\u001b[0m         )\n\u001b[0;32m    398\u001b[0m     ipython_display\u001b[39m.\u001b[39mdisplay(bundle, raw\u001b[39m=\u001b[39m\u001b[39mTrue\u001b[39;00m)\n\u001b[0;32m    400\u001b[0m \u001b[39m# external renderers\u001b[39;00m\n",
      "\u001b[1;31mValueError\u001b[0m: Mime type rendering requires nbformat>=4.2.0 but it is not installed"
     ]
    }
   ],
   "source": [
    "# model.visualize_topics()\n",
    "# model.get_topic_info()\n",
    "\n",
    "new_topic_labels = {\n",
    "    0: \"AI and Humanity\",\n",
    "    1: \"Creative Arts with AI\",\n",
    "    2: \"Learning with AI\",\n",
    "    3: \"Music and AI\",\n",
    "    4: \"AI in Jobs and Economy\",\n",
    "    5: \"AI Research Discussions\",\n",
    "    6: \"Question-Answer Systems\",\n",
    "    7: \"AGI and Future\",\n",
    "    8: \"Chatbots and Conversations\",\n",
    "    9: \"Stable Diffusion and AI Art\",\n",
    "}\n",
    "\n",
    "model.set_topic_labels(new_topic_labels)\n",
    "topics_over_time = model.topics_over_time(comments['body'], comments['date'], nr_bins=7, datetime_format='%d, %m, %Y')\n",
    "\n",
    "\n",
    "fig = model.visualize_topics_over_time(topics_over_time, top_n_topics=10)\n",
    "fig.show()\n",
    "# model.visualize_topics_over_time(topics_over_time, top_n_topics=10)"
   ]
  },
  {
   "cell_type": "code",
   "execution_count": null,
   "id": "9474fd3b-8c89-4c7b-9673-cb4c07fa7012",
   "metadata": {},
   "outputs": [
    {
     "name": "stdout",
     "output_type": "stream",
     "text": [
      "0        01, 06, 2022\n",
      "1        01, 06, 2022\n",
      "2        01, 06, 2022\n",
      "3        01, 06, 2022\n",
      "4        01, 06, 2022\n",
      "             ...     \n",
      "14953    31, 12, 2022\n",
      "14954    31, 12, 2022\n",
      "14955    31, 12, 2022\n",
      "14956    31, 12, 2022\n",
      "14957    31, 12, 2022\n",
      "Name: date, Length: 14041, dtype: object\n"
     ]
    }
   ],
   "source": [
    "from bertopic import BERTopic\n",
    "import numpy as np\n",
    "import pandas as pd\n",
    "import json\n",
    "from os import path\n",
    "import nbformat\n",
    "\n",
    "comments_path = 'data/comments.ndjson'\n",
    "submissions_path = 'data/submissions.ndjson'\n",
    "\n",
    "\n",
    "comments_df = pd.read_json(path.join('data', 'comments.ndjson'), lines=True)\n",
    "submission_data = pd.read_json(path.join('data', 'comments.ndjson'), lines=True)\n",
    "\n",
    "\n",
    "comments = comments_df[(comments_df['body'] != '[removed]') & (comments_df['body'] != '[deleted]')]\n",
    "comments['date'] = pd.to_datetime(comments['created_utc'], unit='s').dt.strftime(\"%d, %m, %Y\")\n",
    "print(comments['date'])"
   ]
  },
  {
   "cell_type": "code",
   "execution_count": null,
   "id": "e45da59f-8da0-47bc-a3bf-e93988e0bf2f",
   "metadata": {},
   "outputs": [
    {
     "ename": "ValueError",
     "evalue": "Mime type rendering requires nbformat>=4.2.0 but it is not installed",
     "output_type": "error",
     "traceback": [
      "\u001b[1;31m---------------------------------------------------------------------------\u001b[0m",
      "\u001b[1;31mValueError\u001b[0m                                Traceback (most recent call last)",
      "File \u001b[1;32mc:\\TU Delft\\BSc WB4\\TI3160TU - Natural Language Processing\\Group Assignment\\NLPGroupProject\\RQ2.py:23\u001b[0m\n\u001b[0;32m     19\u001b[0m topics_over_time \u001b[39m=\u001b[39m model\u001b[39m.\u001b[39mtopics_over_time(comments[\u001b[39m'\u001b[39m\u001b[39mbody\u001b[39m\u001b[39m'\u001b[39m], comments[\u001b[39m'\u001b[39m\u001b[39mdate\u001b[39m\u001b[39m'\u001b[39m], nr_bins\u001b[39m=\u001b[39m\u001b[39m7\u001b[39m, datetime_format\u001b[39m=\u001b[39m\u001b[39m'\u001b[39m\u001b[39m%d\u001b[39;00m\u001b[39m, \u001b[39m\u001b[39m%\u001b[39m\u001b[39mm, \u001b[39m\u001b[39m%\u001b[39m\u001b[39mY\u001b[39m\u001b[39m'\u001b[39m)\n\u001b[0;32m     22\u001b[0m fig \u001b[39m=\u001b[39m model\u001b[39m.\u001b[39mvisualize_topics_over_time(topics_over_time, top_n_topics\u001b[39m=\u001b[39m\u001b[39m10\u001b[39m)\n\u001b[1;32m---> 23\u001b[0m fig\u001b[39m.\u001b[39;49mshow()\n\u001b[0;32m     24\u001b[0m \u001b[39m# model.visualize_topics_over_time(topics_over_time, top_n_topics=10)\u001b[39;00m\n",
      "File \u001b[1;32mc:\\TU Delft\\BSc WB4\\TI3160TU - Natural Language Processing\\Group Assignment\\NLPGroupProject\\.venv\\Lib\\site-packages\\plotly\\basedatatypes.py:3410\u001b[0m, in \u001b[0;36mBaseFigure.show\u001b[1;34m(self, *args, **kwargs)\u001b[0m\n\u001b[0;32m   3377\u001b[0m \u001b[39m\u001b[39m\u001b[39m\"\"\"\u001b[39;00m\n\u001b[0;32m   3378\u001b[0m \u001b[39mShow a figure using either the default renderer(s) or the renderer(s)\u001b[39;00m\n\u001b[0;32m   3379\u001b[0m \u001b[39mspecified by the renderer argument\u001b[39;00m\n\u001b[1;32m   (...)\u001b[0m\n\u001b[0;32m   3406\u001b[0m \u001b[39mNone\u001b[39;00m\n\u001b[0;32m   3407\u001b[0m \u001b[39m\"\"\"\u001b[39;00m\n\u001b[0;32m   3408\u001b[0m \u001b[39mimport\u001b[39;00m \u001b[39mplotly\u001b[39;00m\u001b[39m.\u001b[39;00m\u001b[39mio\u001b[39;00m \u001b[39mas\u001b[39;00m \u001b[39mpio\u001b[39;00m\n\u001b[1;32m-> 3410\u001b[0m \u001b[39mreturn\u001b[39;00m pio\u001b[39m.\u001b[39;49mshow(\u001b[39mself\u001b[39;49m, \u001b[39m*\u001b[39;49margs, \u001b[39m*\u001b[39;49m\u001b[39m*\u001b[39;49mkwargs)\n",
      "File \u001b[1;32mc:\\TU Delft\\BSc WB4\\TI3160TU - Natural Language Processing\\Group Assignment\\NLPGroupProject\\.venv\\Lib\\site-packages\\plotly\\io\\_renderers.py:394\u001b[0m, in \u001b[0;36mshow\u001b[1;34m(fig, renderer, validate, **kwargs)\u001b[0m\n\u001b[0;32m    389\u001b[0m         \u001b[39mraise\u001b[39;00m \u001b[39mValueError\u001b[39;00m(\n\u001b[0;32m    390\u001b[0m             \u001b[39m\"\u001b[39m\u001b[39mMime type rendering requires ipython but it is not installed\u001b[39m\u001b[39m\"\u001b[39m\n\u001b[0;32m    391\u001b[0m         )\n\u001b[0;32m    393\u001b[0m     \u001b[39mif\u001b[39;00m \u001b[39mnot\u001b[39;00m nbformat \u001b[39mor\u001b[39;00m Version(nbformat\u001b[39m.\u001b[39m__version__) \u001b[39m<\u001b[39m Version(\u001b[39m\"\u001b[39m\u001b[39m4.2.0\u001b[39m\u001b[39m\"\u001b[39m):\n\u001b[1;32m--> 394\u001b[0m         \u001b[39mraise\u001b[39;00m \u001b[39mValueError\u001b[39;00m(\n\u001b[0;32m    395\u001b[0m             \u001b[39m\"\u001b[39m\u001b[39mMime type rendering requires nbformat>=4.2.0 but it is not installed\u001b[39m\u001b[39m\"\u001b[39m\n\u001b[0;32m    396\u001b[0m         )\n\u001b[0;32m    398\u001b[0m     ipython_display\u001b[39m.\u001b[39mdisplay(bundle, raw\u001b[39m=\u001b[39m\u001b[39mTrue\u001b[39;00m)\n\u001b[0;32m    400\u001b[0m \u001b[39m# external renderers\u001b[39;00m\n",
      "\u001b[1;31mValueError\u001b[0m: Mime type rendering requires nbformat>=4.2.0 but it is not installed"
     ]
    }
   ],
   "source": [
    "# model.visualize_topics()\n",
    "# model.get_topic_info()\n",
    "\n",
    "new_topic_labels = {\n",
    "    0: \"AI and Humanity\",\n",
    "    1: \"Creative Arts with AI\",\n",
    "    2: \"Learning with AI\",\n",
    "    3: \"Music and AI\",\n",
    "    4: \"AI in Jobs and Economy\",\n",
    "    5: \"AI Research Discussions\",\n",
    "    6: \"Question-Answer Systems\",\n",
    "    7: \"AGI and Future\",\n",
    "    8: \"Chatbots and Conversations\",\n",
    "    9: \"Stable Diffusion and AI Art\",\n",
    "}\n",
    "\n",
    "model.set_topic_labels(new_topic_labels)\n",
    "topics_over_time = model.topics_over_time(comments['body'], comments['date'], nr_bins=7, datetime_format='%d, %m, %Y')\n",
    "\n",
    "\n",
    "fig = model.visualize_topics_over_time(topics_over_time, top_n_topics=10)\n",
    "fig.show()\n",
    "# model.visualize_topics_over_time(topics_over_time, top_n_topics=10)"
   ]
  },
  {
   "cell_type": "code",
   "execution_count": null,
   "id": "29d60417-1966-47b5-8beb-66714e52d53c",
   "metadata": {},
   "outputs": [
    {
     "ename": "ValueError",
     "evalue": "Mime type rendering requires nbformat>=4.2.0 but it is not installed",
     "output_type": "error",
     "traceback": [
      "\u001b[1;31m---------------------------------------------------------------------------\u001b[0m",
      "\u001b[1;31mValueError\u001b[0m                                Traceback (most recent call last)",
      "File \u001b[1;32mc:\\TU Delft\\BSc WB4\\TI3160TU - Natural Language Processing\\Group Assignment\\NLPGroupProject\\.venv\\Lib\\site-packages\\IPython\\core\\formatters.py:984\u001b[0m, in \u001b[0;36mIPythonDisplayFormatter.__call__\u001b[1;34m(self, obj)\u001b[0m\n\u001b[0;32m    982\u001b[0m method \u001b[39m=\u001b[39m get_real_method(obj, \u001b[39mself\u001b[39m\u001b[39m.\u001b[39mprint_method)\n\u001b[0;32m    983\u001b[0m \u001b[39mif\u001b[39;00m method \u001b[39mis\u001b[39;00m \u001b[39mnot\u001b[39;00m \u001b[39mNone\u001b[39;00m:\n\u001b[1;32m--> 984\u001b[0m     method()\n\u001b[0;32m    985\u001b[0m     \u001b[39mreturn\u001b[39;00m \u001b[39mTrue\u001b[39;00m\n",
      "File \u001b[1;32mc:\\TU Delft\\BSc WB4\\TI3160TU - Natural Language Processing\\Group Assignment\\NLPGroupProject\\.venv\\Lib\\site-packages\\plotly\\basedatatypes.py:832\u001b[0m, in \u001b[0;36mBaseFigure._ipython_display_\u001b[1;34m(self)\u001b[0m\n\u001b[0;32m    829\u001b[0m \u001b[39mimport\u001b[39;00m \u001b[39mplotly\u001b[39;00m\u001b[39m.\u001b[39;00m\u001b[39mio\u001b[39;00m \u001b[39mas\u001b[39;00m \u001b[39mpio\u001b[39;00m\n\u001b[0;32m    831\u001b[0m \u001b[39mif\u001b[39;00m pio\u001b[39m.\u001b[39mrenderers\u001b[39m.\u001b[39mrender_on_display \u001b[39mand\u001b[39;00m pio\u001b[39m.\u001b[39mrenderers\u001b[39m.\u001b[39mdefault:\n\u001b[1;32m--> 832\u001b[0m     pio\u001b[39m.\u001b[39;49mshow(\u001b[39mself\u001b[39;49m)\n\u001b[0;32m    833\u001b[0m \u001b[39melse\u001b[39;00m:\n\u001b[0;32m    834\u001b[0m     \u001b[39mprint\u001b[39m(\u001b[39mrepr\u001b[39m(\u001b[39mself\u001b[39m))\n",
      "File \u001b[1;32mc:\\TU Delft\\BSc WB4\\TI3160TU - Natural Language Processing\\Group Assignment\\NLPGroupProject\\.venv\\Lib\\site-packages\\plotly\\io\\_renderers.py:394\u001b[0m, in \u001b[0;36mshow\u001b[1;34m(fig, renderer, validate, **kwargs)\u001b[0m\n\u001b[0;32m    389\u001b[0m         \u001b[39mraise\u001b[39;00m \u001b[39mValueError\u001b[39;00m(\n\u001b[0;32m    390\u001b[0m             \u001b[39m\"\u001b[39m\u001b[39mMime type rendering requires ipython but it is not installed\u001b[39m\u001b[39m\"\u001b[39m\n\u001b[0;32m    391\u001b[0m         )\n\u001b[0;32m    393\u001b[0m     \u001b[39mif\u001b[39;00m \u001b[39mnot\u001b[39;00m nbformat \u001b[39mor\u001b[39;00m Version(nbformat\u001b[39m.\u001b[39m__version__) \u001b[39m<\u001b[39m Version(\u001b[39m\"\u001b[39m\u001b[39m4.2.0\u001b[39m\u001b[39m\"\u001b[39m):\n\u001b[1;32m--> 394\u001b[0m         \u001b[39mraise\u001b[39;00m \u001b[39mValueError\u001b[39;00m(\n\u001b[0;32m    395\u001b[0m             \u001b[39m\"\u001b[39m\u001b[39mMime type rendering requires nbformat>=4.2.0 but it is not installed\u001b[39m\u001b[39m\"\u001b[39m\n\u001b[0;32m    396\u001b[0m         )\n\u001b[0;32m    398\u001b[0m     ipython_display\u001b[39m.\u001b[39mdisplay(bundle, raw\u001b[39m=\u001b[39m\u001b[39mTrue\u001b[39;00m)\n\u001b[0;32m    400\u001b[0m \u001b[39m# external renderers\u001b[39;00m\n",
      "\u001b[1;31mValueError\u001b[0m: Mime type rendering requires nbformat>=4.2.0 but it is not installed"
     ]
    },
    {
     "data": {
      "application/vnd.plotly.v1+json": {
       "config": {
        "plotlyServerURL": "https://plot.ly"
       },
       "data": [
        {
         "hoverinfo": "text",
         "hovertext": [
          "<b>Topic 0</b><br>Words: ai, humans, us, we, will",
          "<b>Topic 0</b><br>Words: ai, will, system, humans, we",
          "<b>Topic 0</b><br>Words: ai, we, us, will, humans",
          "<b>Topic 0</b><br>Words: ai, humans, we, will, world",
          "<b>Topic 0</b><br>Words: ai, automation, will, humans, transportation",
          "<b>Topic 0</b><br>Words: ai, humans, will, we, be",
          "<b>Topic 0</b><br>Words: ai, will, humans, we, be"
         ],
         "marker": {
          "color": "#E69F00"
         },
         "mode": "lines",
         "name": "0_ai_will_humans_we",
         "type": "scatter",
         "x": [
          "2022-05-31T18:53:16.800000",
          "2022-07-01T10:17:08.571428",
          "2022-07-31T20:34:17.142857",
          "2022-08-31T06:51:25.714285",
          "2022-09-30T17:08:34.285714",
          "2022-10-31T03:25:42.857142",
          "2022-11-30T13:42:51.428571"
         ],
         "y": [
          55,
          91,
          69,
          56,
          68,
          79,
          153
         ]
        },
        {
         "hoverinfo": "text",
         "hovertext": [
          "<b>Topic 1</b><br>Words: consciousness, conscious, we, nonlocal, of",
          "<b>Topic 1</b><br>Words: consciousness, conscious, we, our, of",
          "<b>Topic 1</b><br>Words: conscious, consciousness, inner, we, think",
          "<b>Topic 1</b><br>Words: consciousness, conscious, we, thought, subconscious",
          "<b>Topic 1</b><br>Words: consciousness, conscious, we, is, of",
          "<b>Topic 1</b><br>Words: consciousness, conscious, deterministic, perception, tngs",
          "<b>Topic 1</b><br>Words: consciousness, conscious, brain, physical, as"
         ],
         "marker": {
          "color": "#56B4E9"
         },
         "mode": "lines",
         "name": "1_consciousness_conscious_we_of",
         "type": "scatter",
         "x": [
          "2022-05-31T18:53:16.800000",
          "2022-07-01T10:17:08.571428",
          "2022-07-31T20:34:17.142857",
          "2022-08-31T06:51:25.714285",
          "2022-09-30T17:08:34.285714",
          "2022-10-31T03:25:42.857142",
          "2022-11-30T13:42:51.428571"
         ],
         "y": [
          86,
          64,
          34,
          14,
          67,
          15,
          31
         ]
        },
        {
         "hoverinfo": "text",
         "hovertext": [
          "<b>Topic 2</b><br>Words: experiences, art, insane, outcome, ourselves",
          "<b>Topic 2</b><br>Words: art, chess, better, artists, time",
          "<b>Topic 2</b><br>Words: art, artists, digital, will, artist",
          "<b>Topic 2</b><br>Words: art, artists, artist, painting, will",
          "<b>Topic 2</b><br>Words: art, artists, talent, artist, people",
          "<b>Topic 2</b><br>Words: art, chess, creative, creativity, lifelike",
          "<b>Topic 2</b><br>Words: art, artists, creative, artist, people"
         ],
         "marker": {
          "color": "#009E73"
         },
         "mode": "lines",
         "name": "2_art_artists_artist_creative",
         "type": "scatter",
         "x": [
          "2022-05-31T18:53:16.800000",
          "2022-07-01T10:17:08.571428",
          "2022-07-31T20:34:17.142857",
          "2022-08-31T06:51:25.714285",
          "2022-09-30T17:08:34.285714",
          "2022-10-31T03:25:42.857142",
          "2022-11-30T13:42:51.428571"
         ],
         "y": [
          4,
          11,
          26,
          74,
          19,
          17,
          69
         ]
        },
        {
         "hoverinfo": "text",
         "hovertext": [
          "<b>Topic 3</b><br>Words: utopia, money, machines, amount, jobs",
          "<b>Topic 3</b><br>Words: wealth, money, jobs, prices, society",
          "<b>Topic 3</b><br>Words: jobs, machines, money, printers, people",
          "<b>Topic 3</b><br>Words: horses, technology, tech, insane, fuck",
          "<b>Topic 3</b><br>Words: trades, making, progress, corporations, push",
          "<b>Topic 3</b><br>Words: starve, crop, society, 30, machines",
          "<b>Topic 3</b><br>Words: machines, jobs, labor, wealth, work"
         ],
         "marker": {
          "color": "#F0E442"
         },
         "mode": "lines",
         "name": "3_machines_jobs_money_wealth",
         "type": "scatter",
         "x": [
          "2022-05-31T18:53:16.800000",
          "2022-07-01T10:17:08.571428",
          "2022-07-31T20:34:17.142857",
          "2022-08-31T06:51:25.714285",
          "2022-09-30T17:08:34.285714",
          "2022-10-31T03:25:42.857142",
          "2022-11-30T13:42:51.428571"
         ],
         "y": [
          21,
          33,
          29,
          14,
          11,
          20,
          73
         ]
        },
        {
         "hoverinfo": "text",
         "hovertext": [
          "<b>Topic 4</b><br>Words: ai, showing, gard, trainedfed, nate",
          "<b>Topic 4</b><br>Words: pin, unpinned, clips, deleted, clip",
          "<b>Topic 4</b><br>Words: green, color, fruit, pea, pineapple",
          "<b>Topic 4</b><br>Words: tile, agent, grid, clean, dirty",
          "<b>Topic 4</b><br>Words: ai, how, works, we, methods",
          "<b>Topic 4</b><br>Words: ai, folks, hahahahahaha, dangai, courtesies",
          "<b>Topic 4</b><br>Words: ai, knows, bulls, target, hit"
         ],
         "marker": {
          "color": "#D55E00"
         },
         "mode": "lines",
         "name": "4_ai_tile_agent_green",
         "type": "scatter",
         "x": [
          "2022-05-31T18:53:16.800000",
          "2022-07-01T10:17:08.571428",
          "2022-07-31T20:34:17.142857",
          "2022-08-31T06:51:25.714285",
          "2022-09-30T17:08:34.285714",
          "2022-10-31T03:25:42.857142",
          "2022-11-30T13:42:51.428571"
         ],
         "y": [
          17,
          24,
          21,
          23,
          34,
          25,
          54
         ]
        },
        {
         "hoverinfo": "text",
         "hovertext": [
          "<b>Topic 5</b><br>Words: agi, we, retirement, as, be",
          "<b>Topic 5</b><br>Words: agi, we, will, tasks, any",
          "<b>Topic 5</b><br>Words: agi, tasks, we, close, deep",
          "<b>Topic 5</b><br>Words: agi, symbols, asi, general, suddenly",
          "<b>Topic 5</b><br>Words: agi, approaches, approach, gtthe, system",
          "<b>Topic 5</b><br>Words: agi, filter, space, hunger, animals",
          "<b>Topic 5</b><br>Words: agi, alien, we, control, will"
         ],
         "marker": {
          "color": "#0072B2"
         },
         "mode": "lines",
         "name": "5_agi_we_tasks_as",
         "type": "scatter",
         "x": [
          "2022-05-31T18:53:16.800000",
          "2022-07-01T10:17:08.571428",
          "2022-07-31T20:34:17.142857",
          "2022-08-31T06:51:25.714285",
          "2022-09-30T17:08:34.285714",
          "2022-10-31T03:25:42.857142",
          "2022-11-30T13:42:51.428571"
         ],
         "y": [
          36,
          35,
          17,
          13,
          10,
          12,
          28
         ]
        },
        {
         "hoverinfo": "text",
         "hovertext": [
          "<b>Topic 6</b><br>Words: virgins, neckbeard, theorists, grifter, mccartney",
          "<b>Topic 6</b><br>Words: idiot, reddit, statement, hurts, psychopath",
          "<b>Topic 6</b><br>Words: conspiracy, joke, homophobic, jokes, landing",
          "<b>Topic 6</b><br>Words: excuses, vegan, disagree, dumb, naive",
          "<b>Topic 6</b><br>Words: sociopath, conspiracy, psychologist, greasy, virgin",
          "<b>Topic 6</b><br>Words: responsibility, convenient, his, hangover, psychohistorian",
          "<b>Topic 6</b><br>Words: projecting, kanye, slippery, slope, obviously"
         ],
         "marker": {
          "color": "#CC79A7"
         },
         "mode": "lines",
         "name": "6_conspiracy_excuses_joke_you",
         "type": "scatter",
         "x": [
          "2022-05-31T18:53:16.800000",
          "2022-07-01T10:17:08.571428",
          "2022-07-31T20:34:17.142857",
          "2022-08-31T06:51:25.714285",
          "2022-09-30T17:08:34.285714",
          "2022-10-31T03:25:42.857142",
          "2022-11-30T13:42:51.428571"
         ],
         "y": [
          12,
          19,
          16,
          16,
          34,
          7,
          18
         ]
        },
        {
         "hoverinfo": "text",
         "hovertext": [
          "<b>Topic 7</b><br>Words: diffusion, disco, mj, stable, midjourney",
          "<b>Topic 7</b><br>Words: diffusion, stable, de2, httpshuggingfacecospacesstabilityaistablediffusion, midjourney",
          "<b>Topic 7</b><br>Words: diffusion, stable, midjourney, image, frame",
          "<b>Topic 7</b><br>Words: diffusion, stable, midjourney, dalle2, run",
          "<b>Topic 7</b><br>Words: diffusion, stable, colab, use, locally",
          "<b>Topic 7</b><br>Words: stable, diffusion, midjourney, ckpt, safetensors"
         ],
         "marker": {
          "color": "#E69F00"
         },
         "mode": "lines",
         "name": "7_diffusion_stable_midjourney_disco",
         "type": "scatter",
         "x": [
          "2022-05-31T18:53:16.800000",
          "2022-07-31T20:34:17.142857",
          "2022-08-31T06:51:25.714285",
          "2022-09-30T17:08:34.285714",
          "2022-10-31T03:25:42.857142",
          "2022-11-30T13:42:51.428571"
         ],
         "y": [
          8,
          12,
          27,
          20,
          24,
          30
         ]
        },
        {
         "hoverinfo": "text",
         "hovertext": [
          "<b>Topic 8</b><br>Words: httpseternalboxdevjukeboxindexhtml, synthesizerv, eternal, vocals, jukebox",
          "<b>Topic 8</b><br>Words: music, songs, finalists, advertizing, synth",
          "<b>Topic 8</b><br>Words: music, song, composers, songs, jukebox",
          "<b>Topic 8</b><br>Words: music, lyrics, songs, song, musician",
          "<b>Topic 8</b><br>Words: music, song, songs, riaa, phonk",
          "<b>Topic 8</b><br>Words: music, piano, sound, recipes, recognizes",
          "<b>Topic 8</b><br>Words: music, lyrics, songs, song, musician"
         ],
         "marker": {
          "color": "#56B4E9"
         },
         "mode": "lines",
         "name": "8_music_songs_song_lyrics",
         "type": "scatter",
         "x": [
          "2022-05-31T18:53:16.800000",
          "2022-07-01T10:17:08.571428",
          "2022-07-31T20:34:17.142857",
          "2022-08-31T06:51:25.714285",
          "2022-09-30T17:08:34.285714",
          "2022-10-31T03:25:42.857142",
          "2022-11-30T13:42:51.428571"
         ],
         "y": [
          2,
          7,
          7,
          26,
          24,
          12,
          42
         ]
        },
        {
         "hoverinfo": "text",
         "hovertext": [
          "<b>Topic 9</b><br>Words: command, search, clarify, httpsopenaicomblogcodexappshttpsopenaicomblogcodexapps, httpsiamairoadmap",
          "<b>Topic 9</b><br>Words: routines, commands, zoom, device, robot",
          "<b>Topic 9</b><br>Words: ja, gticsl, murf, httpstmeinternlphttpstmeinternlp, yk",
          "<b>Topic 9</b><br>Words: use, jokes, file, copyai, ai",
          "<b>Topic 9</b><br>Words: gurps, toolshttpswwwaitoolsforcom, tagline, tools, ai",
          "<b>Topic 9</b><br>Words: tools, am, ai, guys, topics",
          "<b>Topic 9</b><br>Words: ai, interested, accessible, thanks, open"
         ],
         "marker": {
          "color": "#009E73"
         },
         "mode": "lines",
         "name": "9_ai_tools_use_your",
         "type": "scatter",
         "x": [
          "2022-05-31T18:53:16.800000",
          "2022-07-01T10:17:08.571428",
          "2022-07-31T20:34:17.142857",
          "2022-08-31T06:51:25.714285",
          "2022-09-30T17:08:34.285714",
          "2022-10-31T03:25:42.857142",
          "2022-11-30T13:42:51.428571"
         ],
         "y": [
          6,
          9,
          6,
          19,
          27,
          19,
          31
         ]
        }
       ],
       "layout": {
        "height": 450,
        "hoverlabel": {
         "bgcolor": "white",
         "font": {
          "family": "Rockwell",
          "size": 16
         }
        },
        "legend": {
         "title": {
          "text": "<b>Global Topic Representation"
         }
        },
        "template": {
         "data": {
          "bar": [
           {
            "error_x": {
             "color": "rgb(36,36,36)"
            },
            "error_y": {
             "color": "rgb(36,36,36)"
            },
            "marker": {
             "line": {
              "color": "white",
              "width": 0.5
             },
             "pattern": {
              "fillmode": "overlay",
              "size": 10,
              "solidity": 0.2
             }
            },
            "type": "bar"
           }
          ],
          "barpolar": [
           {
            "marker": {
             "line": {
              "color": "white",
              "width": 0.5
             },
             "pattern": {
              "fillmode": "overlay",
              "size": 10,
              "solidity": 0.2
             }
            },
            "type": "barpolar"
           }
          ],
          "carpet": [
           {
            "aaxis": {
             "endlinecolor": "rgb(36,36,36)",
             "gridcolor": "white",
             "linecolor": "white",
             "minorgridcolor": "white",
             "startlinecolor": "rgb(36,36,36)"
            },
            "baxis": {
             "endlinecolor": "rgb(36,36,36)",
             "gridcolor": "white",
             "linecolor": "white",
             "minorgridcolor": "white",
             "startlinecolor": "rgb(36,36,36)"
            },
            "type": "carpet"
           }
          ],
          "choropleth": [
           {
            "colorbar": {
             "outlinewidth": 1,
             "tickcolor": "rgb(36,36,36)",
             "ticks": "outside"
            },
            "type": "choropleth"
           }
          ],
          "contour": [
           {
            "colorbar": {
             "outlinewidth": 1,
             "tickcolor": "rgb(36,36,36)",
             "ticks": "outside"
            },
            "colorscale": [
             [
              0,
              "#440154"
             ],
             [
              0.1111111111111111,
              "#482878"
             ],
             [
              0.2222222222222222,
              "#3e4989"
             ],
             [
              0.3333333333333333,
              "#31688e"
             ],
             [
              0.4444444444444444,
              "#26828e"
             ],
             [
              0.5555555555555556,
              "#1f9e89"
             ],
             [
              0.6666666666666666,
              "#35b779"
             ],
             [
              0.7777777777777778,
              "#6ece58"
             ],
             [
              0.8888888888888888,
              "#b5de2b"
             ],
             [
              1,
              "#fde725"
             ]
            ],
            "type": "contour"
           }
          ],
          "contourcarpet": [
           {
            "colorbar": {
             "outlinewidth": 1,
             "tickcolor": "rgb(36,36,36)",
             "ticks": "outside"
            },
            "type": "contourcarpet"
           }
          ],
          "heatmap": [
           {
            "colorbar": {
             "outlinewidth": 1,
             "tickcolor": "rgb(36,36,36)",
             "ticks": "outside"
            },
            "colorscale": [
             [
              0,
              "#440154"
             ],
             [
              0.1111111111111111,
              "#482878"
             ],
             [
              0.2222222222222222,
              "#3e4989"
             ],
             [
              0.3333333333333333,
              "#31688e"
             ],
             [
              0.4444444444444444,
              "#26828e"
             ],
             [
              0.5555555555555556,
              "#1f9e89"
             ],
             [
              0.6666666666666666,
              "#35b779"
             ],
             [
              0.7777777777777778,
              "#6ece58"
             ],
             [
              0.8888888888888888,
              "#b5de2b"
             ],
             [
              1,
              "#fde725"
             ]
            ],
            "type": "heatmap"
           }
          ],
          "heatmapgl": [
           {
            "colorbar": {
             "outlinewidth": 1,
             "tickcolor": "rgb(36,36,36)",
             "ticks": "outside"
            },
            "colorscale": [
             [
              0,
              "#440154"
             ],
             [
              0.1111111111111111,
              "#482878"
             ],
             [
              0.2222222222222222,
              "#3e4989"
             ],
             [
              0.3333333333333333,
              "#31688e"
             ],
             [
              0.4444444444444444,
              "#26828e"
             ],
             [
              0.5555555555555556,
              "#1f9e89"
             ],
             [
              0.6666666666666666,
              "#35b779"
             ],
             [
              0.7777777777777778,
              "#6ece58"
             ],
             [
              0.8888888888888888,
              "#b5de2b"
             ],
             [
              1,
              "#fde725"
             ]
            ],
            "type": "heatmapgl"
           }
          ],
          "histogram": [
           {
            "marker": {
             "line": {
              "color": "white",
              "width": 0.6
             }
            },
            "type": "histogram"
           }
          ],
          "histogram2d": [
           {
            "colorbar": {
             "outlinewidth": 1,
             "tickcolor": "rgb(36,36,36)",
             "ticks": "outside"
            },
            "colorscale": [
             [
              0,
              "#440154"
             ],
             [
              0.1111111111111111,
              "#482878"
             ],
             [
              0.2222222222222222,
              "#3e4989"
             ],
             [
              0.3333333333333333,
              "#31688e"
             ],
             [
              0.4444444444444444,
              "#26828e"
             ],
             [
              0.5555555555555556,
              "#1f9e89"
             ],
             [
              0.6666666666666666,
              "#35b779"
             ],
             [
              0.7777777777777778,
              "#6ece58"
             ],
             [
              0.8888888888888888,
              "#b5de2b"
             ],
             [
              1,
              "#fde725"
             ]
            ],
            "type": "histogram2d"
           }
          ],
          "histogram2dcontour": [
           {
            "colorbar": {
             "outlinewidth": 1,
             "tickcolor": "rgb(36,36,36)",
             "ticks": "outside"
            },
            "colorscale": [
             [
              0,
              "#440154"
             ],
             [
              0.1111111111111111,
              "#482878"
             ],
             [
              0.2222222222222222,
              "#3e4989"
             ],
             [
              0.3333333333333333,
              "#31688e"
             ],
             [
              0.4444444444444444,
              "#26828e"
             ],
             [
              0.5555555555555556,
              "#1f9e89"
             ],
             [
              0.6666666666666666,
              "#35b779"
             ],
             [
              0.7777777777777778,
              "#6ece58"
             ],
             [
              0.8888888888888888,
              "#b5de2b"
             ],
             [
              1,
              "#fde725"
             ]
            ],
            "type": "histogram2dcontour"
           }
          ],
          "mesh3d": [
           {
            "colorbar": {
             "outlinewidth": 1,
             "tickcolor": "rgb(36,36,36)",
             "ticks": "outside"
            },
            "type": "mesh3d"
           }
          ],
          "parcoords": [
           {
            "line": {
             "colorbar": {
              "outlinewidth": 1,
              "tickcolor": "rgb(36,36,36)",
              "ticks": "outside"
             }
            },
            "type": "parcoords"
           }
          ],
          "pie": [
           {
            "automargin": true,
            "type": "pie"
           }
          ],
          "scatter": [
           {
            "fillpattern": {
             "fillmode": "overlay",
             "size": 10,
             "solidity": 0.2
            },
            "type": "scatter"
           }
          ],
          "scatter3d": [
           {
            "line": {
             "colorbar": {
              "outlinewidth": 1,
              "tickcolor": "rgb(36,36,36)",
              "ticks": "outside"
             }
            },
            "marker": {
             "colorbar": {
              "outlinewidth": 1,
              "tickcolor": "rgb(36,36,36)",
              "ticks": "outside"
             }
            },
            "type": "scatter3d"
           }
          ],
          "scattercarpet": [
           {
            "marker": {
             "colorbar": {
              "outlinewidth": 1,
              "tickcolor": "rgb(36,36,36)",
              "ticks": "outside"
             }
            },
            "type": "scattercarpet"
           }
          ],
          "scattergeo": [
           {
            "marker": {
             "colorbar": {
              "outlinewidth": 1,
              "tickcolor": "rgb(36,36,36)",
              "ticks": "outside"
             }
            },
            "type": "scattergeo"
           }
          ],
          "scattergl": [
           {
            "marker": {
             "colorbar": {
              "outlinewidth": 1,
              "tickcolor": "rgb(36,36,36)",
              "ticks": "outside"
             }
            },
            "type": "scattergl"
           }
          ],
          "scattermapbox": [
           {
            "marker": {
             "colorbar": {
              "outlinewidth": 1,
              "tickcolor": "rgb(36,36,36)",
              "ticks": "outside"
             }
            },
            "type": "scattermapbox"
           }
          ],
          "scatterpolar": [
           {
            "marker": {
             "colorbar": {
              "outlinewidth": 1,
              "tickcolor": "rgb(36,36,36)",
              "ticks": "outside"
             }
            },
            "type": "scatterpolar"
           }
          ],
          "scatterpolargl": [
           {
            "marker": {
             "colorbar": {
              "outlinewidth": 1,
              "tickcolor": "rgb(36,36,36)",
              "ticks": "outside"
             }
            },
            "type": "scatterpolargl"
           }
          ],
          "scatterternary": [
           {
            "marker": {
             "colorbar": {
              "outlinewidth": 1,
              "tickcolor": "rgb(36,36,36)",
              "ticks": "outside"
             }
            },
            "type": "scatterternary"
           }
          ],
          "surface": [
           {
            "colorbar": {
             "outlinewidth": 1,
             "tickcolor": "rgb(36,36,36)",
             "ticks": "outside"
            },
            "colorscale": [
             [
              0,
              "#440154"
             ],
             [
              0.1111111111111111,
              "#482878"
             ],
             [
              0.2222222222222222,
              "#3e4989"
             ],
             [
              0.3333333333333333,
              "#31688e"
             ],
             [
              0.4444444444444444,
              "#26828e"
             ],
             [
              0.5555555555555556,
              "#1f9e89"
             ],
             [
              0.6666666666666666,
              "#35b779"
             ],
             [
              0.7777777777777778,
              "#6ece58"
             ],
             [
              0.8888888888888888,
              "#b5de2b"
             ],
             [
              1,
              "#fde725"
             ]
            ],
            "type": "surface"
           }
          ],
          "table": [
           {
            "cells": {
             "fill": {
              "color": "rgb(237,237,237)"
             },
             "line": {
              "color": "white"
             }
            },
            "header": {
             "fill": {
              "color": "rgb(217,217,217)"
             },
             "line": {
              "color": "white"
             }
            },
            "type": "table"
           }
          ]
         },
         "layout": {
          "annotationdefaults": {
           "arrowhead": 0,
           "arrowwidth": 1
          },
          "autotypenumbers": "strict",
          "coloraxis": {
           "colorbar": {
            "outlinewidth": 1,
            "tickcolor": "rgb(36,36,36)",
            "ticks": "outside"
           }
          },
          "colorscale": {
           "diverging": [
            [
             0,
             "rgb(103,0,31)"
            ],
            [
             0.1,
             "rgb(178,24,43)"
            ],
            [
             0.2,
             "rgb(214,96,77)"
            ],
            [
             0.3,
             "rgb(244,165,130)"
            ],
            [
             0.4,
             "rgb(253,219,199)"
            ],
            [
             0.5,
             "rgb(247,247,247)"
            ],
            [
             0.6,
             "rgb(209,229,240)"
            ],
            [
             0.7,
             "rgb(146,197,222)"
            ],
            [
             0.8,
             "rgb(67,147,195)"
            ],
            [
             0.9,
             "rgb(33,102,172)"
            ],
            [
             1,
             "rgb(5,48,97)"
            ]
           ],
           "sequential": [
            [
             0,
             "#440154"
            ],
            [
             0.1111111111111111,
             "#482878"
            ],
            [
             0.2222222222222222,
             "#3e4989"
            ],
            [
             0.3333333333333333,
             "#31688e"
            ],
            [
             0.4444444444444444,
             "#26828e"
            ],
            [
             0.5555555555555556,
             "#1f9e89"
            ],
            [
             0.6666666666666666,
             "#35b779"
            ],
            [
             0.7777777777777778,
             "#6ece58"
            ],
            [
             0.8888888888888888,
             "#b5de2b"
            ],
            [
             1,
             "#fde725"
            ]
           ],
           "sequentialminus": [
            [
             0,
             "#440154"
            ],
            [
             0.1111111111111111,
             "#482878"
            ],
            [
             0.2222222222222222,
             "#3e4989"
            ],
            [
             0.3333333333333333,
             "#31688e"
            ],
            [
             0.4444444444444444,
             "#26828e"
            ],
            [
             0.5555555555555556,
             "#1f9e89"
            ],
            [
             0.6666666666666666,
             "#35b779"
            ],
            [
             0.7777777777777778,
             "#6ece58"
            ],
            [
             0.8888888888888888,
             "#b5de2b"
            ],
            [
             1,
             "#fde725"
            ]
           ]
          },
          "colorway": [
           "#1F77B4",
           "#FF7F0E",
           "#2CA02C",
           "#D62728",
           "#9467BD",
           "#8C564B",
           "#E377C2",
           "#7F7F7F",
           "#BCBD22",
           "#17BECF"
          ],
          "font": {
           "color": "rgb(36,36,36)"
          },
          "geo": {
           "bgcolor": "white",
           "lakecolor": "white",
           "landcolor": "white",
           "showlakes": true,
           "showland": true,
           "subunitcolor": "white"
          },
          "hoverlabel": {
           "align": "left"
          },
          "hovermode": "closest",
          "mapbox": {
           "style": "light"
          },
          "paper_bgcolor": "white",
          "plot_bgcolor": "white",
          "polar": {
           "angularaxis": {
            "gridcolor": "rgb(232,232,232)",
            "linecolor": "rgb(36,36,36)",
            "showgrid": false,
            "showline": true,
            "ticks": "outside"
           },
           "bgcolor": "white",
           "radialaxis": {
            "gridcolor": "rgb(232,232,232)",
            "linecolor": "rgb(36,36,36)",
            "showgrid": false,
            "showline": true,
            "ticks": "outside"
           }
          },
          "scene": {
           "xaxis": {
            "backgroundcolor": "white",
            "gridcolor": "rgb(232,232,232)",
            "gridwidth": 2,
            "linecolor": "rgb(36,36,36)",
            "showbackground": true,
            "showgrid": false,
            "showline": true,
            "ticks": "outside",
            "zeroline": false,
            "zerolinecolor": "rgb(36,36,36)"
           },
           "yaxis": {
            "backgroundcolor": "white",
            "gridcolor": "rgb(232,232,232)",
            "gridwidth": 2,
            "linecolor": "rgb(36,36,36)",
            "showbackground": true,
            "showgrid": false,
            "showline": true,
            "ticks": "outside",
            "zeroline": false,
            "zerolinecolor": "rgb(36,36,36)"
           },
           "zaxis": {
            "backgroundcolor": "white",
            "gridcolor": "rgb(232,232,232)",
            "gridwidth": 2,
            "linecolor": "rgb(36,36,36)",
            "showbackground": true,
            "showgrid": false,
            "showline": true,
            "ticks": "outside",
            "zeroline": false,
            "zerolinecolor": "rgb(36,36,36)"
           }
          },
          "shapedefaults": {
           "fillcolor": "black",
           "line": {
            "width": 0
           },
           "opacity": 0.3
          },
          "ternary": {
           "aaxis": {
            "gridcolor": "rgb(232,232,232)",
            "linecolor": "rgb(36,36,36)",
            "showgrid": false,
            "showline": true,
            "ticks": "outside"
           },
           "baxis": {
            "gridcolor": "rgb(232,232,232)",
            "linecolor": "rgb(36,36,36)",
            "showgrid": false,
            "showline": true,
            "ticks": "outside"
           },
           "bgcolor": "white",
           "caxis": {
            "gridcolor": "rgb(232,232,232)",
            "linecolor": "rgb(36,36,36)",
            "showgrid": false,
            "showline": true,
            "ticks": "outside"
           }
          },
          "title": {
           "x": 0.05
          },
          "xaxis": {
           "automargin": true,
           "gridcolor": "rgb(232,232,232)",
           "linecolor": "rgb(36,36,36)",
           "showgrid": false,
           "showline": true,
           "ticks": "outside",
           "title": {
            "standoff": 15
           },
           "zeroline": false,
           "zerolinecolor": "rgb(36,36,36)"
          },
          "yaxis": {
           "automargin": true,
           "gridcolor": "rgb(232,232,232)",
           "linecolor": "rgb(36,36,36)",
           "showgrid": false,
           "showline": true,
           "ticks": "outside",
           "title": {
            "standoff": 15
           },
           "zeroline": false,
           "zerolinecolor": "rgb(36,36,36)"
          }
         }
        },
        "title": {
         "font": {
          "color": "Black",
          "size": 22
         },
         "text": "<b>Topics over Time</b>",
         "x": 0.4,
         "xanchor": "center",
         "y": 0.95,
         "yanchor": "top"
        },
        "width": 1250,
        "xaxis": {
         "showgrid": true
        },
        "yaxis": {
         "showgrid": true,
         "title": {
          "text": "Frequency"
         }
        }
       }
      },
      "text/html": [
       "<div>                        <script type=\"text/javascript\">window.PlotlyConfig = {MathJaxConfig: 'local'};</script>\n",
       "        <script charset=\"utf-8\" src=\"https://cdn.plot.ly/plotly-2.35.2.min.js\"></script>                <div id=\"e8a81069-04e7-46c5-971e-adcc6d041ddd\" class=\"plotly-graph-div\" style=\"height:450px; width:1250px;\"></div>            <script type=\"text/javascript\">                                    window.PLOTLYENV=window.PLOTLYENV || {};                                    if (document.getElementById(\"e8a81069-04e7-46c5-971e-adcc6d041ddd\")) {                    Plotly.newPlot(                        \"e8a81069-04e7-46c5-971e-adcc6d041ddd\",                        [{\"hoverinfo\":\"text\",\"hovertext\":[\"\\u003cb\\u003eTopic 0\\u003c\\u002fb\\u003e\\u003cbr\\u003eWords: ai, humans, us, we, will\",\"\\u003cb\\u003eTopic 0\\u003c\\u002fb\\u003e\\u003cbr\\u003eWords: ai, will, system, humans, we\",\"\\u003cb\\u003eTopic 0\\u003c\\u002fb\\u003e\\u003cbr\\u003eWords: ai, we, us, will, humans\",\"\\u003cb\\u003eTopic 0\\u003c\\u002fb\\u003e\\u003cbr\\u003eWords: ai, humans, we, will, world\",\"\\u003cb\\u003eTopic 0\\u003c\\u002fb\\u003e\\u003cbr\\u003eWords: ai, automation, will, humans, transportation\",\"\\u003cb\\u003eTopic 0\\u003c\\u002fb\\u003e\\u003cbr\\u003eWords: ai, humans, will, we, be\",\"\\u003cb\\u003eTopic 0\\u003c\\u002fb\\u003e\\u003cbr\\u003eWords: ai, will, humans, we, be\"],\"marker\":{\"color\":\"#E69F00\"},\"mode\":\"lines\",\"name\":\"0_ai_will_humans_we\",\"x\":[\"2022-05-31T18:53:16.800000\",\"2022-07-01T10:17:08.571428\",\"2022-07-31T20:34:17.142857\",\"2022-08-31T06:51:25.714285\",\"2022-09-30T17:08:34.285714\",\"2022-10-31T03:25:42.857142\",\"2022-11-30T13:42:51.428571\"],\"y\":[55,91,69,56,68,79,153],\"type\":\"scatter\"},{\"hoverinfo\":\"text\",\"hovertext\":[\"\\u003cb\\u003eTopic 1\\u003c\\u002fb\\u003e\\u003cbr\\u003eWords: consciousness, conscious, we, nonlocal, of\",\"\\u003cb\\u003eTopic 1\\u003c\\u002fb\\u003e\\u003cbr\\u003eWords: consciousness, conscious, we, our, of\",\"\\u003cb\\u003eTopic 1\\u003c\\u002fb\\u003e\\u003cbr\\u003eWords: conscious, consciousness, inner, we, think\",\"\\u003cb\\u003eTopic 1\\u003c\\u002fb\\u003e\\u003cbr\\u003eWords: consciousness, conscious, we, thought, subconscious\",\"\\u003cb\\u003eTopic 1\\u003c\\u002fb\\u003e\\u003cbr\\u003eWords: consciousness, conscious, we, is, of\",\"\\u003cb\\u003eTopic 1\\u003c\\u002fb\\u003e\\u003cbr\\u003eWords: consciousness, conscious, deterministic, perception, tngs\",\"\\u003cb\\u003eTopic 1\\u003c\\u002fb\\u003e\\u003cbr\\u003eWords: consciousness, conscious, brain, physical, as\"],\"marker\":{\"color\":\"#56B4E9\"},\"mode\":\"lines\",\"name\":\"1_consciousness_conscious_we_of\",\"x\":[\"2022-05-31T18:53:16.800000\",\"2022-07-01T10:17:08.571428\",\"2022-07-31T20:34:17.142857\",\"2022-08-31T06:51:25.714285\",\"2022-09-30T17:08:34.285714\",\"2022-10-31T03:25:42.857142\",\"2022-11-30T13:42:51.428571\"],\"y\":[86,64,34,14,67,15,31],\"type\":\"scatter\"},{\"hoverinfo\":\"text\",\"hovertext\":[\"\\u003cb\\u003eTopic 2\\u003c\\u002fb\\u003e\\u003cbr\\u003eWords: experiences, art, insane, outcome, ourselves\",\"\\u003cb\\u003eTopic 2\\u003c\\u002fb\\u003e\\u003cbr\\u003eWords: art, chess, better, artists, time\",\"\\u003cb\\u003eTopic 2\\u003c\\u002fb\\u003e\\u003cbr\\u003eWords: art, artists, digital, will, artist\",\"\\u003cb\\u003eTopic 2\\u003c\\u002fb\\u003e\\u003cbr\\u003eWords: art, artists, artist, painting, will\",\"\\u003cb\\u003eTopic 2\\u003c\\u002fb\\u003e\\u003cbr\\u003eWords: art, artists, talent, artist, people\",\"\\u003cb\\u003eTopic 2\\u003c\\u002fb\\u003e\\u003cbr\\u003eWords: art, chess, creative, creativity, lifelike\",\"\\u003cb\\u003eTopic 2\\u003c\\u002fb\\u003e\\u003cbr\\u003eWords: art, artists, creative, artist, people\"],\"marker\":{\"color\":\"#009E73\"},\"mode\":\"lines\",\"name\":\"2_art_artists_artist_creative\",\"x\":[\"2022-05-31T18:53:16.800000\",\"2022-07-01T10:17:08.571428\",\"2022-07-31T20:34:17.142857\",\"2022-08-31T06:51:25.714285\",\"2022-09-30T17:08:34.285714\",\"2022-10-31T03:25:42.857142\",\"2022-11-30T13:42:51.428571\"],\"y\":[4,11,26,74,19,17,69],\"type\":\"scatter\"},{\"hoverinfo\":\"text\",\"hovertext\":[\"\\u003cb\\u003eTopic 3\\u003c\\u002fb\\u003e\\u003cbr\\u003eWords: utopia, money, machines, amount, jobs\",\"\\u003cb\\u003eTopic 3\\u003c\\u002fb\\u003e\\u003cbr\\u003eWords: wealth, money, jobs, prices, society\",\"\\u003cb\\u003eTopic 3\\u003c\\u002fb\\u003e\\u003cbr\\u003eWords: jobs, machines, money, printers, people\",\"\\u003cb\\u003eTopic 3\\u003c\\u002fb\\u003e\\u003cbr\\u003eWords: horses, technology, tech, insane, fuck\",\"\\u003cb\\u003eTopic 3\\u003c\\u002fb\\u003e\\u003cbr\\u003eWords: trades, making, progress, corporations, push\",\"\\u003cb\\u003eTopic 3\\u003c\\u002fb\\u003e\\u003cbr\\u003eWords: starve, crop, society, 30, machines\",\"\\u003cb\\u003eTopic 3\\u003c\\u002fb\\u003e\\u003cbr\\u003eWords: machines, jobs, labor, wealth, work\"],\"marker\":{\"color\":\"#F0E442\"},\"mode\":\"lines\",\"name\":\"3_machines_jobs_money_wealth\",\"x\":[\"2022-05-31T18:53:16.800000\",\"2022-07-01T10:17:08.571428\",\"2022-07-31T20:34:17.142857\",\"2022-08-31T06:51:25.714285\",\"2022-09-30T17:08:34.285714\",\"2022-10-31T03:25:42.857142\",\"2022-11-30T13:42:51.428571\"],\"y\":[21,33,29,14,11,20,73],\"type\":\"scatter\"},{\"hoverinfo\":\"text\",\"hovertext\":[\"\\u003cb\\u003eTopic 4\\u003c\\u002fb\\u003e\\u003cbr\\u003eWords: ai, showing, gard, trainedfed, nate\",\"\\u003cb\\u003eTopic 4\\u003c\\u002fb\\u003e\\u003cbr\\u003eWords: pin, unpinned, clips, deleted, clip\",\"\\u003cb\\u003eTopic 4\\u003c\\u002fb\\u003e\\u003cbr\\u003eWords: green, color, fruit, pea, pineapple\",\"\\u003cb\\u003eTopic 4\\u003c\\u002fb\\u003e\\u003cbr\\u003eWords: tile, agent, grid, clean, dirty\",\"\\u003cb\\u003eTopic 4\\u003c\\u002fb\\u003e\\u003cbr\\u003eWords: ai, how, works, we, methods\",\"\\u003cb\\u003eTopic 4\\u003c\\u002fb\\u003e\\u003cbr\\u003eWords: ai, folks, hahahahahaha, dangai, courtesies\",\"\\u003cb\\u003eTopic 4\\u003c\\u002fb\\u003e\\u003cbr\\u003eWords: ai, knows, bulls, target, hit\"],\"marker\":{\"color\":\"#D55E00\"},\"mode\":\"lines\",\"name\":\"4_ai_tile_agent_green\",\"x\":[\"2022-05-31T18:53:16.800000\",\"2022-07-01T10:17:08.571428\",\"2022-07-31T20:34:17.142857\",\"2022-08-31T06:51:25.714285\",\"2022-09-30T17:08:34.285714\",\"2022-10-31T03:25:42.857142\",\"2022-11-30T13:42:51.428571\"],\"y\":[17,24,21,23,34,25,54],\"type\":\"scatter\"},{\"hoverinfo\":\"text\",\"hovertext\":[\"\\u003cb\\u003eTopic 5\\u003c\\u002fb\\u003e\\u003cbr\\u003eWords: agi, we, retirement, as, be\",\"\\u003cb\\u003eTopic 5\\u003c\\u002fb\\u003e\\u003cbr\\u003eWords: agi, we, will, tasks, any\",\"\\u003cb\\u003eTopic 5\\u003c\\u002fb\\u003e\\u003cbr\\u003eWords: agi, tasks, we, close, deep\",\"\\u003cb\\u003eTopic 5\\u003c\\u002fb\\u003e\\u003cbr\\u003eWords: agi, symbols, asi, general, suddenly\",\"\\u003cb\\u003eTopic 5\\u003c\\u002fb\\u003e\\u003cbr\\u003eWords: agi, approaches, approach, gtthe, system\",\"\\u003cb\\u003eTopic 5\\u003c\\u002fb\\u003e\\u003cbr\\u003eWords: agi, filter, space, hunger, animals\",\"\\u003cb\\u003eTopic 5\\u003c\\u002fb\\u003e\\u003cbr\\u003eWords: agi, alien, we, control, will\"],\"marker\":{\"color\":\"#0072B2\"},\"mode\":\"lines\",\"name\":\"5_agi_we_tasks_as\",\"x\":[\"2022-05-31T18:53:16.800000\",\"2022-07-01T10:17:08.571428\",\"2022-07-31T20:34:17.142857\",\"2022-08-31T06:51:25.714285\",\"2022-09-30T17:08:34.285714\",\"2022-10-31T03:25:42.857142\",\"2022-11-30T13:42:51.428571\"],\"y\":[36,35,17,13,10,12,28],\"type\":\"scatter\"},{\"hoverinfo\":\"text\",\"hovertext\":[\"\\u003cb\\u003eTopic 6\\u003c\\u002fb\\u003e\\u003cbr\\u003eWords: virgins, neckbeard, theorists, grifter, mccartney\",\"\\u003cb\\u003eTopic 6\\u003c\\u002fb\\u003e\\u003cbr\\u003eWords: idiot, reddit, statement, hurts, psychopath\",\"\\u003cb\\u003eTopic 6\\u003c\\u002fb\\u003e\\u003cbr\\u003eWords: conspiracy, joke, homophobic, jokes, landing\",\"\\u003cb\\u003eTopic 6\\u003c\\u002fb\\u003e\\u003cbr\\u003eWords: excuses, vegan, disagree, dumb, naive\",\"\\u003cb\\u003eTopic 6\\u003c\\u002fb\\u003e\\u003cbr\\u003eWords: sociopath, conspiracy, psychologist, greasy, virgin\",\"\\u003cb\\u003eTopic 6\\u003c\\u002fb\\u003e\\u003cbr\\u003eWords: responsibility, convenient, his, hangover, psychohistorian\",\"\\u003cb\\u003eTopic 6\\u003c\\u002fb\\u003e\\u003cbr\\u003eWords: projecting, kanye, slippery, slope, obviously\"],\"marker\":{\"color\":\"#CC79A7\"},\"mode\":\"lines\",\"name\":\"6_conspiracy_excuses_joke_you\",\"x\":[\"2022-05-31T18:53:16.800000\",\"2022-07-01T10:17:08.571428\",\"2022-07-31T20:34:17.142857\",\"2022-08-31T06:51:25.714285\",\"2022-09-30T17:08:34.285714\",\"2022-10-31T03:25:42.857142\",\"2022-11-30T13:42:51.428571\"],\"y\":[12,19,16,16,34,7,18],\"type\":\"scatter\"},{\"hoverinfo\":\"text\",\"hovertext\":[\"\\u003cb\\u003eTopic 7\\u003c\\u002fb\\u003e\\u003cbr\\u003eWords: diffusion, disco, mj, stable, midjourney\",\"\\u003cb\\u003eTopic 7\\u003c\\u002fb\\u003e\\u003cbr\\u003eWords: diffusion, stable, de2, httpshuggingfacecospacesstabilityaistablediffusion, midjourney\",\"\\u003cb\\u003eTopic 7\\u003c\\u002fb\\u003e\\u003cbr\\u003eWords: diffusion, stable, midjourney, image, frame\",\"\\u003cb\\u003eTopic 7\\u003c\\u002fb\\u003e\\u003cbr\\u003eWords: diffusion, stable, midjourney, dalle2, run\",\"\\u003cb\\u003eTopic 7\\u003c\\u002fb\\u003e\\u003cbr\\u003eWords: diffusion, stable, colab, use, locally\",\"\\u003cb\\u003eTopic 7\\u003c\\u002fb\\u003e\\u003cbr\\u003eWords: stable, diffusion, midjourney, ckpt, safetensors\"],\"marker\":{\"color\":\"#E69F00\"},\"mode\":\"lines\",\"name\":\"7_diffusion_stable_midjourney_disco\",\"x\":[\"2022-05-31T18:53:16.800000\",\"2022-07-31T20:34:17.142857\",\"2022-08-31T06:51:25.714285\",\"2022-09-30T17:08:34.285714\",\"2022-10-31T03:25:42.857142\",\"2022-11-30T13:42:51.428571\"],\"y\":[8,12,27,20,24,30],\"type\":\"scatter\"},{\"hoverinfo\":\"text\",\"hovertext\":[\"\\u003cb\\u003eTopic 8\\u003c\\u002fb\\u003e\\u003cbr\\u003eWords: httpseternalboxdevjukeboxindexhtml, synthesizerv, eternal, vocals, jukebox\",\"\\u003cb\\u003eTopic 8\\u003c\\u002fb\\u003e\\u003cbr\\u003eWords: music, songs, finalists, advertizing, synth\",\"\\u003cb\\u003eTopic 8\\u003c\\u002fb\\u003e\\u003cbr\\u003eWords: music, song, composers, songs, jukebox\",\"\\u003cb\\u003eTopic 8\\u003c\\u002fb\\u003e\\u003cbr\\u003eWords: music, lyrics, songs, song, musician\",\"\\u003cb\\u003eTopic 8\\u003c\\u002fb\\u003e\\u003cbr\\u003eWords: music, song, songs, riaa, phonk\",\"\\u003cb\\u003eTopic 8\\u003c\\u002fb\\u003e\\u003cbr\\u003eWords: music, piano, sound, recipes, recognizes\",\"\\u003cb\\u003eTopic 8\\u003c\\u002fb\\u003e\\u003cbr\\u003eWords: music, lyrics, songs, song, musician\"],\"marker\":{\"color\":\"#56B4E9\"},\"mode\":\"lines\",\"name\":\"8_music_songs_song_lyrics\",\"x\":[\"2022-05-31T18:53:16.800000\",\"2022-07-01T10:17:08.571428\",\"2022-07-31T20:34:17.142857\",\"2022-08-31T06:51:25.714285\",\"2022-09-30T17:08:34.285714\",\"2022-10-31T03:25:42.857142\",\"2022-11-30T13:42:51.428571\"],\"y\":[2,7,7,26,24,12,42],\"type\":\"scatter\"},{\"hoverinfo\":\"text\",\"hovertext\":[\"\\u003cb\\u003eTopic 9\\u003c\\u002fb\\u003e\\u003cbr\\u003eWords: command, search, clarify, httpsopenaicomblogcodexappshttpsopenaicomblogcodexapps, httpsiamairoadmap\",\"\\u003cb\\u003eTopic 9\\u003c\\u002fb\\u003e\\u003cbr\\u003eWords: routines, commands, zoom, device, robot\",\"\\u003cb\\u003eTopic 9\\u003c\\u002fb\\u003e\\u003cbr\\u003eWords: ja, gticsl, murf, httpstmeinternlphttpstmeinternlp, yk\",\"\\u003cb\\u003eTopic 9\\u003c\\u002fb\\u003e\\u003cbr\\u003eWords: use, jokes, file, copyai, ai\",\"\\u003cb\\u003eTopic 9\\u003c\\u002fb\\u003e\\u003cbr\\u003eWords: gurps, toolshttpswwwaitoolsforcom, tagline, tools, ai\",\"\\u003cb\\u003eTopic 9\\u003c\\u002fb\\u003e\\u003cbr\\u003eWords: tools, am, ai, guys, topics\",\"\\u003cb\\u003eTopic 9\\u003c\\u002fb\\u003e\\u003cbr\\u003eWords: ai, interested, accessible, thanks, open\"],\"marker\":{\"color\":\"#009E73\"},\"mode\":\"lines\",\"name\":\"9_ai_tools_use_your\",\"x\":[\"2022-05-31T18:53:16.800000\",\"2022-07-01T10:17:08.571428\",\"2022-07-31T20:34:17.142857\",\"2022-08-31T06:51:25.714285\",\"2022-09-30T17:08:34.285714\",\"2022-10-31T03:25:42.857142\",\"2022-11-30T13:42:51.428571\"],\"y\":[6,9,6,19,27,19,31],\"type\":\"scatter\"}],                        {\"template\":{\"data\":{\"barpolar\":[{\"marker\":{\"line\":{\"color\":\"white\",\"width\":0.5},\"pattern\":{\"fillmode\":\"overlay\",\"size\":10,\"solidity\":0.2}},\"type\":\"barpolar\"}],\"bar\":[{\"error_x\":{\"color\":\"rgb(36,36,36)\"},\"error_y\":{\"color\":\"rgb(36,36,36)\"},\"marker\":{\"line\":{\"color\":\"white\",\"width\":0.5},\"pattern\":{\"fillmode\":\"overlay\",\"size\":10,\"solidity\":0.2}},\"type\":\"bar\"}],\"carpet\":[{\"aaxis\":{\"endlinecolor\":\"rgb(36,36,36)\",\"gridcolor\":\"white\",\"linecolor\":\"white\",\"minorgridcolor\":\"white\",\"startlinecolor\":\"rgb(36,36,36)\"},\"baxis\":{\"endlinecolor\":\"rgb(36,36,36)\",\"gridcolor\":\"white\",\"linecolor\":\"white\",\"minorgridcolor\":\"white\",\"startlinecolor\":\"rgb(36,36,36)\"},\"type\":\"carpet\"}],\"choropleth\":[{\"colorbar\":{\"outlinewidth\":1,\"tickcolor\":\"rgb(36,36,36)\",\"ticks\":\"outside\"},\"type\":\"choropleth\"}],\"contourcarpet\":[{\"colorbar\":{\"outlinewidth\":1,\"tickcolor\":\"rgb(36,36,36)\",\"ticks\":\"outside\"},\"type\":\"contourcarpet\"}],\"contour\":[{\"colorbar\":{\"outlinewidth\":1,\"tickcolor\":\"rgb(36,36,36)\",\"ticks\":\"outside\"},\"colorscale\":[[0.0,\"#440154\"],[0.1111111111111111,\"#482878\"],[0.2222222222222222,\"#3e4989\"],[0.3333333333333333,\"#31688e\"],[0.4444444444444444,\"#26828e\"],[0.5555555555555556,\"#1f9e89\"],[0.6666666666666666,\"#35b779\"],[0.7777777777777778,\"#6ece58\"],[0.8888888888888888,\"#b5de2b\"],[1.0,\"#fde725\"]],\"type\":\"contour\"}],\"heatmapgl\":[{\"colorbar\":{\"outlinewidth\":1,\"tickcolor\":\"rgb(36,36,36)\",\"ticks\":\"outside\"},\"colorscale\":[[0.0,\"#440154\"],[0.1111111111111111,\"#482878\"],[0.2222222222222222,\"#3e4989\"],[0.3333333333333333,\"#31688e\"],[0.4444444444444444,\"#26828e\"],[0.5555555555555556,\"#1f9e89\"],[0.6666666666666666,\"#35b779\"],[0.7777777777777778,\"#6ece58\"],[0.8888888888888888,\"#b5de2b\"],[1.0,\"#fde725\"]],\"type\":\"heatmapgl\"}],\"heatmap\":[{\"colorbar\":{\"outlinewidth\":1,\"tickcolor\":\"rgb(36,36,36)\",\"ticks\":\"outside\"},\"colorscale\":[[0.0,\"#440154\"],[0.1111111111111111,\"#482878\"],[0.2222222222222222,\"#3e4989\"],[0.3333333333333333,\"#31688e\"],[0.4444444444444444,\"#26828e\"],[0.5555555555555556,\"#1f9e89\"],[0.6666666666666666,\"#35b779\"],[0.7777777777777778,\"#6ece58\"],[0.8888888888888888,\"#b5de2b\"],[1.0,\"#fde725\"]],\"type\":\"heatmap\"}],\"histogram2dcontour\":[{\"colorbar\":{\"outlinewidth\":1,\"tickcolor\":\"rgb(36,36,36)\",\"ticks\":\"outside\"},\"colorscale\":[[0.0,\"#440154\"],[0.1111111111111111,\"#482878\"],[0.2222222222222222,\"#3e4989\"],[0.3333333333333333,\"#31688e\"],[0.4444444444444444,\"#26828e\"],[0.5555555555555556,\"#1f9e89\"],[0.6666666666666666,\"#35b779\"],[0.7777777777777778,\"#6ece58\"],[0.8888888888888888,\"#b5de2b\"],[1.0,\"#fde725\"]],\"type\":\"histogram2dcontour\"}],\"histogram2d\":[{\"colorbar\":{\"outlinewidth\":1,\"tickcolor\":\"rgb(36,36,36)\",\"ticks\":\"outside\"},\"colorscale\":[[0.0,\"#440154\"],[0.1111111111111111,\"#482878\"],[0.2222222222222222,\"#3e4989\"],[0.3333333333333333,\"#31688e\"],[0.4444444444444444,\"#26828e\"],[0.5555555555555556,\"#1f9e89\"],[0.6666666666666666,\"#35b779\"],[0.7777777777777778,\"#6ece58\"],[0.8888888888888888,\"#b5de2b\"],[1.0,\"#fde725\"]],\"type\":\"histogram2d\"}],\"histogram\":[{\"marker\":{\"line\":{\"color\":\"white\",\"width\":0.6}},\"type\":\"histogram\"}],\"mesh3d\":[{\"colorbar\":{\"outlinewidth\":1,\"tickcolor\":\"rgb(36,36,36)\",\"ticks\":\"outside\"},\"type\":\"mesh3d\"}],\"parcoords\":[{\"line\":{\"colorbar\":{\"outlinewidth\":1,\"tickcolor\":\"rgb(36,36,36)\",\"ticks\":\"outside\"}},\"type\":\"parcoords\"}],\"pie\":[{\"automargin\":true,\"type\":\"pie\"}],\"scatter3d\":[{\"line\":{\"colorbar\":{\"outlinewidth\":1,\"tickcolor\":\"rgb(36,36,36)\",\"ticks\":\"outside\"}},\"marker\":{\"colorbar\":{\"outlinewidth\":1,\"tickcolor\":\"rgb(36,36,36)\",\"ticks\":\"outside\"}},\"type\":\"scatter3d\"}],\"scattercarpet\":[{\"marker\":{\"colorbar\":{\"outlinewidth\":1,\"tickcolor\":\"rgb(36,36,36)\",\"ticks\":\"outside\"}},\"type\":\"scattercarpet\"}],\"scattergeo\":[{\"marker\":{\"colorbar\":{\"outlinewidth\":1,\"tickcolor\":\"rgb(36,36,36)\",\"ticks\":\"outside\"}},\"type\":\"scattergeo\"}],\"scattergl\":[{\"marker\":{\"colorbar\":{\"outlinewidth\":1,\"tickcolor\":\"rgb(36,36,36)\",\"ticks\":\"outside\"}},\"type\":\"scattergl\"}],\"scattermapbox\":[{\"marker\":{\"colorbar\":{\"outlinewidth\":1,\"tickcolor\":\"rgb(36,36,36)\",\"ticks\":\"outside\"}},\"type\":\"scattermapbox\"}],\"scatterpolargl\":[{\"marker\":{\"colorbar\":{\"outlinewidth\":1,\"tickcolor\":\"rgb(36,36,36)\",\"ticks\":\"outside\"}},\"type\":\"scatterpolargl\"}],\"scatterpolar\":[{\"marker\":{\"colorbar\":{\"outlinewidth\":1,\"tickcolor\":\"rgb(36,36,36)\",\"ticks\":\"outside\"}},\"type\":\"scatterpolar\"}],\"scatter\":[{\"fillpattern\":{\"fillmode\":\"overlay\",\"size\":10,\"solidity\":0.2},\"type\":\"scatter\"}],\"scatterternary\":[{\"marker\":{\"colorbar\":{\"outlinewidth\":1,\"tickcolor\":\"rgb(36,36,36)\",\"ticks\":\"outside\"}},\"type\":\"scatterternary\"}],\"surface\":[{\"colorbar\":{\"outlinewidth\":1,\"tickcolor\":\"rgb(36,36,36)\",\"ticks\":\"outside\"},\"colorscale\":[[0.0,\"#440154\"],[0.1111111111111111,\"#482878\"],[0.2222222222222222,\"#3e4989\"],[0.3333333333333333,\"#31688e\"],[0.4444444444444444,\"#26828e\"],[0.5555555555555556,\"#1f9e89\"],[0.6666666666666666,\"#35b779\"],[0.7777777777777778,\"#6ece58\"],[0.8888888888888888,\"#b5de2b\"],[1.0,\"#fde725\"]],\"type\":\"surface\"}],\"table\":[{\"cells\":{\"fill\":{\"color\":\"rgb(237,237,237)\"},\"line\":{\"color\":\"white\"}},\"header\":{\"fill\":{\"color\":\"rgb(217,217,217)\"},\"line\":{\"color\":\"white\"}},\"type\":\"table\"}]},\"layout\":{\"annotationdefaults\":{\"arrowhead\":0,\"arrowwidth\":1},\"autotypenumbers\":\"strict\",\"coloraxis\":{\"colorbar\":{\"outlinewidth\":1,\"tickcolor\":\"rgb(36,36,36)\",\"ticks\":\"outside\"}},\"colorscale\":{\"diverging\":[[0.0,\"rgb(103,0,31)\"],[0.1,\"rgb(178,24,43)\"],[0.2,\"rgb(214,96,77)\"],[0.3,\"rgb(244,165,130)\"],[0.4,\"rgb(253,219,199)\"],[0.5,\"rgb(247,247,247)\"],[0.6,\"rgb(209,229,240)\"],[0.7,\"rgb(146,197,222)\"],[0.8,\"rgb(67,147,195)\"],[0.9,\"rgb(33,102,172)\"],[1.0,\"rgb(5,48,97)\"]],\"sequential\":[[0.0,\"#440154\"],[0.1111111111111111,\"#482878\"],[0.2222222222222222,\"#3e4989\"],[0.3333333333333333,\"#31688e\"],[0.4444444444444444,\"#26828e\"],[0.5555555555555556,\"#1f9e89\"],[0.6666666666666666,\"#35b779\"],[0.7777777777777778,\"#6ece58\"],[0.8888888888888888,\"#b5de2b\"],[1.0,\"#fde725\"]],\"sequentialminus\":[[0.0,\"#440154\"],[0.1111111111111111,\"#482878\"],[0.2222222222222222,\"#3e4989\"],[0.3333333333333333,\"#31688e\"],[0.4444444444444444,\"#26828e\"],[0.5555555555555556,\"#1f9e89\"],[0.6666666666666666,\"#35b779\"],[0.7777777777777778,\"#6ece58\"],[0.8888888888888888,\"#b5de2b\"],[1.0,\"#fde725\"]]},\"colorway\":[\"#1F77B4\",\"#FF7F0E\",\"#2CA02C\",\"#D62728\",\"#9467BD\",\"#8C564B\",\"#E377C2\",\"#7F7F7F\",\"#BCBD22\",\"#17BECF\"],\"font\":{\"color\":\"rgb(36,36,36)\"},\"geo\":{\"bgcolor\":\"white\",\"lakecolor\":\"white\",\"landcolor\":\"white\",\"showlakes\":true,\"showland\":true,\"subunitcolor\":\"white\"},\"hoverlabel\":{\"align\":\"left\"},\"hovermode\":\"closest\",\"mapbox\":{\"style\":\"light\"},\"paper_bgcolor\":\"white\",\"plot_bgcolor\":\"white\",\"polar\":{\"angularaxis\":{\"gridcolor\":\"rgb(232,232,232)\",\"linecolor\":\"rgb(36,36,36)\",\"showgrid\":false,\"showline\":true,\"ticks\":\"outside\"},\"bgcolor\":\"white\",\"radialaxis\":{\"gridcolor\":\"rgb(232,232,232)\",\"linecolor\":\"rgb(36,36,36)\",\"showgrid\":false,\"showline\":true,\"ticks\":\"outside\"}},\"scene\":{\"xaxis\":{\"backgroundcolor\":\"white\",\"gridcolor\":\"rgb(232,232,232)\",\"gridwidth\":2,\"linecolor\":\"rgb(36,36,36)\",\"showbackground\":true,\"showgrid\":false,\"showline\":true,\"ticks\":\"outside\",\"zeroline\":false,\"zerolinecolor\":\"rgb(36,36,36)\"},\"yaxis\":{\"backgroundcolor\":\"white\",\"gridcolor\":\"rgb(232,232,232)\",\"gridwidth\":2,\"linecolor\":\"rgb(36,36,36)\",\"showbackground\":true,\"showgrid\":false,\"showline\":true,\"ticks\":\"outside\",\"zeroline\":false,\"zerolinecolor\":\"rgb(36,36,36)\"},\"zaxis\":{\"backgroundcolor\":\"white\",\"gridcolor\":\"rgb(232,232,232)\",\"gridwidth\":2,\"linecolor\":\"rgb(36,36,36)\",\"showbackground\":true,\"showgrid\":false,\"showline\":true,\"ticks\":\"outside\",\"zeroline\":false,\"zerolinecolor\":\"rgb(36,36,36)\"}},\"shapedefaults\":{\"fillcolor\":\"black\",\"line\":{\"width\":0},\"opacity\":0.3},\"ternary\":{\"aaxis\":{\"gridcolor\":\"rgb(232,232,232)\",\"linecolor\":\"rgb(36,36,36)\",\"showgrid\":false,\"showline\":true,\"ticks\":\"outside\"},\"baxis\":{\"gridcolor\":\"rgb(232,232,232)\",\"linecolor\":\"rgb(36,36,36)\",\"showgrid\":false,\"showline\":true,\"ticks\":\"outside\"},\"bgcolor\":\"white\",\"caxis\":{\"gridcolor\":\"rgb(232,232,232)\",\"linecolor\":\"rgb(36,36,36)\",\"showgrid\":false,\"showline\":true,\"ticks\":\"outside\"}},\"title\":{\"x\":0.05},\"xaxis\":{\"automargin\":true,\"gridcolor\":\"rgb(232,232,232)\",\"linecolor\":\"rgb(36,36,36)\",\"showgrid\":false,\"showline\":true,\"ticks\":\"outside\",\"title\":{\"standoff\":15},\"zeroline\":false,\"zerolinecolor\":\"rgb(36,36,36)\"},\"yaxis\":{\"automargin\":true,\"gridcolor\":\"rgb(232,232,232)\",\"linecolor\":\"rgb(36,36,36)\",\"showgrid\":false,\"showline\":true,\"ticks\":\"outside\",\"title\":{\"standoff\":15},\"zeroline\":false,\"zerolinecolor\":\"rgb(36,36,36)\"}}},\"xaxis\":{\"showgrid\":true},\"yaxis\":{\"showgrid\":true,\"title\":{\"text\":\"Frequency\"}},\"title\":{\"font\":{\"size\":22,\"color\":\"Black\"},\"text\":\"\\u003cb\\u003eTopics over Time\\u003c\\u002fb\\u003e\",\"y\":0.95,\"x\":0.4,\"xanchor\":\"center\",\"yanchor\":\"top\"},\"hoverlabel\":{\"font\":{\"size\":16,\"family\":\"Rockwell\"},\"bgcolor\":\"white\"},\"width\":1250,\"height\":450,\"legend\":{\"title\":{\"text\":\"\\u003cb\\u003eGlobal Topic Representation\"}}},                        {\"responsive\": true}                    )                };                            </script>        </div>"
      ],
      "text/plain": [
       "Figure({\n",
       "    'data': [{'hoverinfo': 'text',\n",
       "              'hovertext': [<b>Topic 0</b><br>Words: ai, humans, us, we, will,\n",
       "                            <b>Topic 0</b><br>Words: ai, will, system, humans, we,\n",
       "                            <b>Topic 0</b><br>Words: ai, we, us, will, humans,\n",
       "                            <b>Topic 0</b><br>Words: ai, humans, we, will, world,\n",
       "                            <b>Topic 0</b><br>Words: ai, automation, will, humans,\n",
       "                            transportation, <b>Topic 0</b><br>Words: ai, humans,\n",
       "                            will, we, be, <b>Topic 0</b><br>Words: ai, will,\n",
       "                            humans, we, be],\n",
       "              'marker': {'color': '#E69F00'},\n",
       "              'mode': 'lines',\n",
       "              'name': '0_ai_will_humans_we',\n",
       "              'type': 'scatter',\n",
       "              'x': array([datetime.datetime(2022, 5, 31, 18, 53, 16, 800000),\n",
       "                          datetime.datetime(2022, 7, 1, 10, 17, 8, 571428),\n",
       "                          datetime.datetime(2022, 7, 31, 20, 34, 17, 142857),\n",
       "                          datetime.datetime(2022, 8, 31, 6, 51, 25, 714285),\n",
       "                          datetime.datetime(2022, 9, 30, 17, 8, 34, 285714),\n",
       "                          datetime.datetime(2022, 10, 31, 3, 25, 42, 857142),\n",
       "                          datetime.datetime(2022, 11, 30, 13, 42, 51, 428571)], dtype=object),\n",
       "              'y': array([ 55,  91,  69,  56,  68,  79, 153], dtype=int64)},\n",
       "             {'hoverinfo': 'text',\n",
       "              'hovertext': [<b>Topic 1</b><br>Words: consciousness, conscious, we,\n",
       "                            nonlocal, of, <b>Topic 1</b><br>Words: consciousness,\n",
       "                            conscious, we, our, of, <b>Topic 1</b><br>Words:\n",
       "                            conscious, consciousness, inner, we, think, <b>Topic\n",
       "                            1</b><br>Words: consciousness, conscious, we, thought,\n",
       "                            subconscious, <b>Topic 1</b><br>Words: consciousness,\n",
       "                            conscious, we, is, of, <b>Topic 1</b><br>Words:\n",
       "                            consciousness, conscious, deterministic, perception,\n",
       "                            tngs, <b>Topic 1</b><br>Words: consciousness,\n",
       "                            conscious, brain, physical, as],\n",
       "              'marker': {'color': '#56B4E9'},\n",
       "              'mode': 'lines',\n",
       "              'name': '1_consciousness_conscious_we_of',\n",
       "              'type': 'scatter',\n",
       "              'x': array([datetime.datetime(2022, 5, 31, 18, 53, 16, 800000),\n",
       "                          datetime.datetime(2022, 7, 1, 10, 17, 8, 571428),\n",
       "                          datetime.datetime(2022, 7, 31, 20, 34, 17, 142857),\n",
       "                          datetime.datetime(2022, 8, 31, 6, 51, 25, 714285),\n",
       "                          datetime.datetime(2022, 9, 30, 17, 8, 34, 285714),\n",
       "                          datetime.datetime(2022, 10, 31, 3, 25, 42, 857142),\n",
       "                          datetime.datetime(2022, 11, 30, 13, 42, 51, 428571)], dtype=object),\n",
       "              'y': array([86, 64, 34, 14, 67, 15, 31], dtype=int64)},\n",
       "             {'hoverinfo': 'text',\n",
       "              'hovertext': [<b>Topic 2</b><br>Words: experiences, art, insane,\n",
       "                            outcome, ourselves, <b>Topic 2</b><br>Words: art,\n",
       "                            chess, better, artists, time, <b>Topic 2</b><br>Words:\n",
       "                            art, artists, digital, will, artist, <b>Topic\n",
       "                            2</b><br>Words: art, artists, artist, painting, will,\n",
       "                            <b>Topic 2</b><br>Words: art, artists, talent, artist,\n",
       "                            people, <b>Topic 2</b><br>Words: art, chess, creative,\n",
       "                            creativity, lifelike, <b>Topic 2</b><br>Words: art,\n",
       "                            artists, creative, artist, people],\n",
       "              'marker': {'color': '#009E73'},\n",
       "              'mode': 'lines',\n",
       "              'name': '2_art_artists_artist_creative',\n",
       "              'type': 'scatter',\n",
       "              'x': array([datetime.datetime(2022, 5, 31, 18, 53, 16, 800000),\n",
       "                          datetime.datetime(2022, 7, 1, 10, 17, 8, 571428),\n",
       "                          datetime.datetime(2022, 7, 31, 20, 34, 17, 142857),\n",
       "                          datetime.datetime(2022, 8, 31, 6, 51, 25, 714285),\n",
       "                          datetime.datetime(2022, 9, 30, 17, 8, 34, 285714),\n",
       "                          datetime.datetime(2022, 10, 31, 3, 25, 42, 857142),\n",
       "                          datetime.datetime(2022, 11, 30, 13, 42, 51, 428571)], dtype=object),\n",
       "              'y': array([ 4, 11, 26, 74, 19, 17, 69], dtype=int64)},\n",
       "             {'hoverinfo': 'text',\n",
       "              'hovertext': [<b>Topic 3</b><br>Words: utopia, money, machines,\n",
       "                            amount, jobs, <b>Topic 3</b><br>Words: wealth, money,\n",
       "                            jobs, prices, society, <b>Topic 3</b><br>Words: jobs,\n",
       "                            machines, money, printers, people, <b>Topic\n",
       "                            3</b><br>Words: horses, technology, tech, insane, fuck,\n",
       "                            <b>Topic 3</b><br>Words: trades, making, progress,\n",
       "                            corporations, push, <b>Topic 3</b><br>Words: starve,\n",
       "                            crop, society, 30, machines, <b>Topic 3</b><br>Words:\n",
       "                            machines, jobs, labor, wealth, work],\n",
       "              'marker': {'color': '#F0E442'},\n",
       "              'mode': 'lines',\n",
       "              'name': '3_machines_jobs_money_wealth',\n",
       "              'type': 'scatter',\n",
       "              'x': array([datetime.datetime(2022, 5, 31, 18, 53, 16, 800000),\n",
       "                          datetime.datetime(2022, 7, 1, 10, 17, 8, 571428),\n",
       "                          datetime.datetime(2022, 7, 31, 20, 34, 17, 142857),\n",
       "                          datetime.datetime(2022, 8, 31, 6, 51, 25, 714285),\n",
       "                          datetime.datetime(2022, 9, 30, 17, 8, 34, 285714),\n",
       "                          datetime.datetime(2022, 10, 31, 3, 25, 42, 857142),\n",
       "                          datetime.datetime(2022, 11, 30, 13, 42, 51, 428571)], dtype=object),\n",
       "              'y': array([21, 33, 29, 14, 11, 20, 73], dtype=int64)},\n",
       "             {'hoverinfo': 'text',\n",
       "              'hovertext': [<b>Topic 4</b><br>Words: ai, showing, gard,\n",
       "                            trainedfed, nate, <b>Topic 4</b><br>Words: pin,\n",
       "                            unpinned, clips, deleted, clip, <b>Topic\n",
       "                            4</b><br>Words: green, color, fruit, pea, pineapple,\n",
       "                            <b>Topic 4</b><br>Words: tile, agent, grid, clean,\n",
       "                            dirty, <b>Topic 4</b><br>Words: ai, how, works, we,\n",
       "                            methods, <b>Topic 4</b><br>Words: ai, folks,\n",
       "                            hahahahahaha, dangai, courtesies, <b>Topic\n",
       "                            4</b><br>Words: ai, knows, bulls, target, hit],\n",
       "              'marker': {'color': '#D55E00'},\n",
       "              'mode': 'lines',\n",
       "              'name': '4_ai_tile_agent_green',\n",
       "              'type': 'scatter',\n",
       "              'x': array([datetime.datetime(2022, 5, 31, 18, 53, 16, 800000),\n",
       "                          datetime.datetime(2022, 7, 1, 10, 17, 8, 571428),\n",
       "                          datetime.datetime(2022, 7, 31, 20, 34, 17, 142857),\n",
       "                          datetime.datetime(2022, 8, 31, 6, 51, 25, 714285),\n",
       "                          datetime.datetime(2022, 9, 30, 17, 8, 34, 285714),\n",
       "                          datetime.datetime(2022, 10, 31, 3, 25, 42, 857142),\n",
       "                          datetime.datetime(2022, 11, 30, 13, 42, 51, 428571)], dtype=object),\n",
       "              'y': array([17, 24, 21, 23, 34, 25, 54], dtype=int64)},\n",
       "             {'hoverinfo': 'text',\n",
       "              'hovertext': [<b>Topic 5</b><br>Words: agi, we, retirement, as, be,\n",
       "                            <b>Topic 5</b><br>Words: agi, we, will, tasks, any,\n",
       "                            <b>Topic 5</b><br>Words: agi, tasks, we, close, deep,\n",
       "                            <b>Topic 5</b><br>Words: agi, symbols, asi, general,\n",
       "                            suddenly, <b>Topic 5</b><br>Words: agi, approaches,\n",
       "                            approach, gtthe, system, <b>Topic 5</b><br>Words: agi,\n",
       "                            filter, space, hunger, animals, <b>Topic\n",
       "                            5</b><br>Words: agi, alien, we, control, will],\n",
       "              'marker': {'color': '#0072B2'},\n",
       "              'mode': 'lines',\n",
       "              'name': '5_agi_we_tasks_as',\n",
       "              'type': 'scatter',\n",
       "              'x': array([datetime.datetime(2022, 5, 31, 18, 53, 16, 800000),\n",
       "                          datetime.datetime(2022, 7, 1, 10, 17, 8, 571428),\n",
       "                          datetime.datetime(2022, 7, 31, 20, 34, 17, 142857),\n",
       "                          datetime.datetime(2022, 8, 31, 6, 51, 25, 714285),\n",
       "                          datetime.datetime(2022, 9, 30, 17, 8, 34, 285714),\n",
       "                          datetime.datetime(2022, 10, 31, 3, 25, 42, 857142),\n",
       "                          datetime.datetime(2022, 11, 30, 13, 42, 51, 428571)], dtype=object),\n",
       "              'y': array([36, 35, 17, 13, 10, 12, 28], dtype=int64)},\n",
       "             {'hoverinfo': 'text',\n",
       "              'hovertext': [<b>Topic 6</b><br>Words: virgins, neckbeard,\n",
       "                            theorists, grifter, mccartney, <b>Topic 6</b><br>Words:\n",
       "                            idiot, reddit, statement, hurts, psychopath, <b>Topic\n",
       "                            6</b><br>Words: conspiracy, joke, homophobic, jokes,\n",
       "                            landing, <b>Topic 6</b><br>Words: excuses, vegan,\n",
       "                            disagree, dumb, naive, <b>Topic 6</b><br>Words:\n",
       "                            sociopath, conspiracy, psychologist, greasy, virgin,\n",
       "                            <b>Topic 6</b><br>Words: responsibility, convenient,\n",
       "                            his, hangover, psychohistorian, <b>Topic\n",
       "                            6</b><br>Words: projecting, kanye, slippery, slope,\n",
       "                            obviously],\n",
       "              'marker': {'color': '#CC79A7'},\n",
       "              'mode': 'lines',\n",
       "              'name': '6_conspiracy_excuses_joke_you',\n",
       "              'type': 'scatter',\n",
       "              'x': array([datetime.datetime(2022, 5, 31, 18, 53, 16, 800000),\n",
       "                          datetime.datetime(2022, 7, 1, 10, 17, 8, 571428),\n",
       "                          datetime.datetime(2022, 7, 31, 20, 34, 17, 142857),\n",
       "                          datetime.datetime(2022, 8, 31, 6, 51, 25, 714285),\n",
       "                          datetime.datetime(2022, 9, 30, 17, 8, 34, 285714),\n",
       "                          datetime.datetime(2022, 10, 31, 3, 25, 42, 857142),\n",
       "                          datetime.datetime(2022, 11, 30, 13, 42, 51, 428571)], dtype=object),\n",
       "              'y': array([12, 19, 16, 16, 34,  7, 18], dtype=int64)},\n",
       "             {'hoverinfo': 'text',\n",
       "              'hovertext': [<b>Topic 7</b><br>Words: diffusion, disco, mj, stable,\n",
       "                            midjourney, <b>Topic 7</b><br>Words: diffusion, stable,\n",
       "                            de2,\n",
       "                            httpshuggingfacecospacesstabilityaistablediffusion,\n",
       "                            midjourney, <b>Topic 7</b><br>Words: diffusion, stable,\n",
       "                            midjourney, image, frame, <b>Topic 7</b><br>Words:\n",
       "                            diffusion, stable, midjourney, dalle2, run, <b>Topic\n",
       "                            7</b><br>Words: diffusion, stable, colab, use, locally,\n",
       "                            <b>Topic 7</b><br>Words: stable, diffusion, midjourney,\n",
       "                            ckpt, safetensors],\n",
       "              'marker': {'color': '#E69F00'},\n",
       "              'mode': 'lines',\n",
       "              'name': '7_diffusion_stable_midjourney_disco',\n",
       "              'type': 'scatter',\n",
       "              'x': array([datetime.datetime(2022, 5, 31, 18, 53, 16, 800000),\n",
       "                          datetime.datetime(2022, 7, 31, 20, 34, 17, 142857),\n",
       "                          datetime.datetime(2022, 8, 31, 6, 51, 25, 714285),\n",
       "                          datetime.datetime(2022, 9, 30, 17, 8, 34, 285714),\n",
       "                          datetime.datetime(2022, 10, 31, 3, 25, 42, 857142),\n",
       "                          datetime.datetime(2022, 11, 30, 13, 42, 51, 428571)], dtype=object),\n",
       "              'y': array([ 8, 12, 27, 20, 24, 30], dtype=int64)},\n",
       "             {'hoverinfo': 'text',\n",
       "              'hovertext': [<b>Topic 8</b><br>Words:\n",
       "                            httpseternalboxdevjukeboxindexhtml, synthesizerv,\n",
       "                            eternal, vocals, jukebox, <b>Topic 8</b><br>Words:\n",
       "                            music, songs, finalists, advertizing, synth, <b>Topic\n",
       "                            8</b><br>Words: music, song, composers, songs, jukebox,\n",
       "                            <b>Topic 8</b><br>Words: music, lyrics, songs, song,\n",
       "                            musician, <b>Topic 8</b><br>Words: music, song, songs,\n",
       "                            riaa, phonk, <b>Topic 8</b><br>Words: music, piano,\n",
       "                            sound, recipes, recognizes, <b>Topic 8</b><br>Words:\n",
       "                            music, lyrics, songs, song, musician],\n",
       "              'marker': {'color': '#56B4E9'},\n",
       "              'mode': 'lines',\n",
       "              'name': '8_music_songs_song_lyrics',\n",
       "              'type': 'scatter',\n",
       "              'x': array([datetime.datetime(2022, 5, 31, 18, 53, 16, 800000),\n",
       "                          datetime.datetime(2022, 7, 1, 10, 17, 8, 571428),\n",
       "                          datetime.datetime(2022, 7, 31, 20, 34, 17, 142857),\n",
       "                          datetime.datetime(2022, 8, 31, 6, 51, 25, 714285),\n",
       "                          datetime.datetime(2022, 9, 30, 17, 8, 34, 285714),\n",
       "                          datetime.datetime(2022, 10, 31, 3, 25, 42, 857142),\n",
       "                          datetime.datetime(2022, 11, 30, 13, 42, 51, 428571)], dtype=object),\n",
       "              'y': array([ 2,  7,  7, 26, 24, 12, 42], dtype=int64)},\n",
       "             {'hoverinfo': 'text',\n",
       "              'hovertext': [<b>Topic 9</b><br>Words: command, search, clarify,\n",
       "                            httpsopenaicomblogcodexappshttpsopenaicomblogcodexapps,\n",
       "                            httpsiamairoadmap, <b>Topic 9</b><br>Words: routines,\n",
       "                            commands, zoom, device, robot, <b>Topic 9</b><br>Words:\n",
       "                            ja, gticsl, murf, httpstmeinternlphttpstmeinternlp, yk,\n",
       "                            <b>Topic 9</b><br>Words: use, jokes, file, copyai, ai,\n",
       "                            <b>Topic 9</b><br>Words: gurps,\n",
       "                            toolshttpswwwaitoolsforcom, tagline, tools, ai,\n",
       "                            <b>Topic 9</b><br>Words: tools, am, ai, guys, topics,\n",
       "                            <b>Topic 9</b><br>Words: ai, interested, accessible,\n",
       "                            thanks, open],\n",
       "              'marker': {'color': '#009E73'},\n",
       "              'mode': 'lines',\n",
       "              'name': '9_ai_tools_use_your',\n",
       "              'type': 'scatter',\n",
       "              'x': array([datetime.datetime(2022, 5, 31, 18, 53, 16, 800000),\n",
       "                          datetime.datetime(2022, 7, 1, 10, 17, 8, 571428),\n",
       "                          datetime.datetime(2022, 7, 31, 20, 34, 17, 142857),\n",
       "                          datetime.datetime(2022, 8, 31, 6, 51, 25, 714285),\n",
       "                          datetime.datetime(2022, 9, 30, 17, 8, 34, 285714),\n",
       "                          datetime.datetime(2022, 10, 31, 3, 25, 42, 857142),\n",
       "                          datetime.datetime(2022, 11, 30, 13, 42, 51, 428571)], dtype=object),\n",
       "              'y': array([ 6,  9,  6, 19, 27, 19, 31], dtype=int64)}],\n",
       "    'layout': {'height': 450,\n",
       "               'hoverlabel': {'bgcolor': 'white', 'font': {'family': 'Rockwell', 'size': 16}},\n",
       "               'legend': {'title': {'text': '<b>Global Topic Representation'}},\n",
       "               'template': '...',\n",
       "               'title': {'font': {'color': 'Black', 'size': 22},\n",
       "                         'text': '<b>Topics over Time</b>',\n",
       "                         'x': 0.4,\n",
       "                         'xanchor': 'center',\n",
       "                         'y': 0.95,\n",
       "                         'yanchor': 'top'},\n",
       "               'width': 1250,\n",
       "               'xaxis': {'showgrid': True},\n",
       "               'yaxis': {'showgrid': True, 'title': {'text': 'Frequency'}}}\n",
       "})"
      ]
     },
     "execution_count": 23,
     "metadata": {},
     "output_type": "execute_result"
    }
   ],
   "source": [
    "# model.visualize_topics()\n",
    "# model.get_topic_info()\n",
    "\n",
    "new_topic_labels = {\n",
    "    0: \"AI and Humanity\",\n",
    "    1: \"Creative Arts with AI\",\n",
    "    2: \"Learning with AI\",\n",
    "    3: \"Music and AI\",\n",
    "    4: \"AI in Jobs and Economy\",\n",
    "    5: \"AI Research Discussions\",\n",
    "    6: \"Question-Answer Systems\",\n",
    "    7: \"AGI and Future\",\n",
    "    8: \"Chatbots and Conversations\",\n",
    "    9: \"Stable Diffusion and AI Art\",\n",
    "}\n",
    "\n",
    "model.set_topic_labels(new_topic_labels)\n",
    "topics_over_time = model.topics_over_time(comments['body'], comments['date'], nr_bins=7, datetime_format='%d, %m, %Y')\n",
    "\n",
    "\n",
    "model.visualize_topics_over_time(topics_over_time, top_n_topics=10)\n",
    "\n",
    "# model.visualize_topics_over_time(topics_over_time, top_n_topics=10)"
   ]
  },
  {
   "cell_type": "code",
   "execution_count": null,
   "id": "efedca72-1162-4c92-bc84-49dfc4014f71",
   "metadata": {},
   "outputs": [
    {
     "ename": "ValueError",
     "evalue": "Mime type rendering requires nbformat>=4.2.0 but it is not installed",
     "output_type": "error",
     "traceback": [
      "\u001b[1;31m---------------------------------------------------------------------------\u001b[0m",
      "\u001b[1;31mValueError\u001b[0m                                Traceback (most recent call last)",
      "File \u001b[1;32mc:\\TU Delft\\BSc WB4\\TI3160TU - Natural Language Processing\\Group Assignment\\NLPGroupProject\\.venv\\Lib\\site-packages\\IPython\\core\\formatters.py:984\u001b[0m, in \u001b[0;36mIPythonDisplayFormatter.__call__\u001b[1;34m(self, obj)\u001b[0m\n\u001b[0;32m    982\u001b[0m method \u001b[39m=\u001b[39m get_real_method(obj, \u001b[39mself\u001b[39m\u001b[39m.\u001b[39mprint_method)\n\u001b[0;32m    983\u001b[0m \u001b[39mif\u001b[39;00m method \u001b[39mis\u001b[39;00m \u001b[39mnot\u001b[39;00m \u001b[39mNone\u001b[39;00m:\n\u001b[1;32m--> 984\u001b[0m     method()\n\u001b[0;32m    985\u001b[0m     \u001b[39mreturn\u001b[39;00m \u001b[39mTrue\u001b[39;00m\n",
      "File \u001b[1;32mc:\\TU Delft\\BSc WB4\\TI3160TU - Natural Language Processing\\Group Assignment\\NLPGroupProject\\.venv\\Lib\\site-packages\\plotly\\basedatatypes.py:832\u001b[0m, in \u001b[0;36mBaseFigure._ipython_display_\u001b[1;34m(self)\u001b[0m\n\u001b[0;32m    829\u001b[0m \u001b[39mimport\u001b[39;00m \u001b[39mplotly\u001b[39;00m\u001b[39m.\u001b[39;00m\u001b[39mio\u001b[39;00m \u001b[39mas\u001b[39;00m \u001b[39mpio\u001b[39;00m\n\u001b[0;32m    831\u001b[0m \u001b[39mif\u001b[39;00m pio\u001b[39m.\u001b[39mrenderers\u001b[39m.\u001b[39mrender_on_display \u001b[39mand\u001b[39;00m pio\u001b[39m.\u001b[39mrenderers\u001b[39m.\u001b[39mdefault:\n\u001b[1;32m--> 832\u001b[0m     pio\u001b[39m.\u001b[39;49mshow(\u001b[39mself\u001b[39;49m)\n\u001b[0;32m    833\u001b[0m \u001b[39melse\u001b[39;00m:\n\u001b[0;32m    834\u001b[0m     \u001b[39mprint\u001b[39m(\u001b[39mrepr\u001b[39m(\u001b[39mself\u001b[39m))\n",
      "File \u001b[1;32mc:\\TU Delft\\BSc WB4\\TI3160TU - Natural Language Processing\\Group Assignment\\NLPGroupProject\\.venv\\Lib\\site-packages\\plotly\\io\\_renderers.py:394\u001b[0m, in \u001b[0;36mshow\u001b[1;34m(fig, renderer, validate, **kwargs)\u001b[0m\n\u001b[0;32m    389\u001b[0m         \u001b[39mraise\u001b[39;00m \u001b[39mValueError\u001b[39;00m(\n\u001b[0;32m    390\u001b[0m             \u001b[39m\"\u001b[39m\u001b[39mMime type rendering requires ipython but it is not installed\u001b[39m\u001b[39m\"\u001b[39m\n\u001b[0;32m    391\u001b[0m         )\n\u001b[0;32m    393\u001b[0m     \u001b[39mif\u001b[39;00m \u001b[39mnot\u001b[39;00m nbformat \u001b[39mor\u001b[39;00m Version(nbformat\u001b[39m.\u001b[39m__version__) \u001b[39m<\u001b[39m Version(\u001b[39m\"\u001b[39m\u001b[39m4.2.0\u001b[39m\u001b[39m\"\u001b[39m):\n\u001b[1;32m--> 394\u001b[0m         \u001b[39mraise\u001b[39;00m \u001b[39mValueError\u001b[39;00m(\n\u001b[0;32m    395\u001b[0m             \u001b[39m\"\u001b[39m\u001b[39mMime type rendering requires nbformat>=4.2.0 but it is not installed\u001b[39m\u001b[39m\"\u001b[39m\n\u001b[0;32m    396\u001b[0m         )\n\u001b[0;32m    398\u001b[0m     ipython_display\u001b[39m.\u001b[39mdisplay(bundle, raw\u001b[39m=\u001b[39m\u001b[39mTrue\u001b[39;00m)\n\u001b[0;32m    400\u001b[0m \u001b[39m# external renderers\u001b[39;00m\n",
      "\u001b[1;31mValueError\u001b[0m: Mime type rendering requires nbformat>=4.2.0 but it is not installed"
     ]
    },
    {
     "data": {
      "application/vnd.plotly.v1+json": {
       "config": {
        "plotlyServerURL": "https://plot.ly"
       },
       "data": [
        {
         "hoverinfo": "text",
         "hovertext": [
          "<b>Topic 0</b><br>Words: ai, humans, us, we, will",
          "<b>Topic 0</b><br>Words: ai, will, system, humans, we",
          "<b>Topic 0</b><br>Words: ai, we, us, will, humans",
          "<b>Topic 0</b><br>Words: ai, humans, we, will, world",
          "<b>Topic 0</b><br>Words: ai, automation, will, humans, transportation",
          "<b>Topic 0</b><br>Words: ai, humans, will, we, be",
          "<b>Topic 0</b><br>Words: ai, will, humans, we, be"
         ],
         "marker": {
          "color": "#E69F00"
         },
         "mode": "lines",
         "name": "0_ai_will_humans_we",
         "type": "scatter",
         "x": [
          "2022-05-31T18:53:16.800000",
          "2022-07-01T10:17:08.571428",
          "2022-07-31T20:34:17.142857",
          "2022-08-31T06:51:25.714285",
          "2022-09-30T17:08:34.285714",
          "2022-10-31T03:25:42.857142",
          "2022-11-30T13:42:51.428571"
         ],
         "y": [
          55,
          91,
          69,
          56,
          68,
          79,
          153
         ]
        },
        {
         "hoverinfo": "text",
         "hovertext": [
          "<b>Topic 1</b><br>Words: consciousness, conscious, we, nonlocal, of",
          "<b>Topic 1</b><br>Words: consciousness, conscious, we, our, of",
          "<b>Topic 1</b><br>Words: conscious, consciousness, inner, we, think",
          "<b>Topic 1</b><br>Words: consciousness, conscious, we, thought, subconscious",
          "<b>Topic 1</b><br>Words: consciousness, conscious, we, is, of",
          "<b>Topic 1</b><br>Words: consciousness, conscious, deterministic, perception, tngs",
          "<b>Topic 1</b><br>Words: consciousness, conscious, brain, physical, as"
         ],
         "marker": {
          "color": "#56B4E9"
         },
         "mode": "lines",
         "name": "1_consciousness_conscious_we_of",
         "type": "scatter",
         "x": [
          "2022-05-31T18:53:16.800000",
          "2022-07-01T10:17:08.571428",
          "2022-07-31T20:34:17.142857",
          "2022-08-31T06:51:25.714285",
          "2022-09-30T17:08:34.285714",
          "2022-10-31T03:25:42.857142",
          "2022-11-30T13:42:51.428571"
         ],
         "y": [
          86,
          64,
          34,
          14,
          67,
          15,
          31
         ]
        },
        {
         "hoverinfo": "text",
         "hovertext": [
          "<b>Topic 2</b><br>Words: experiences, art, insane, outcome, ourselves",
          "<b>Topic 2</b><br>Words: art, chess, better, artists, time",
          "<b>Topic 2</b><br>Words: art, artists, digital, will, artist",
          "<b>Topic 2</b><br>Words: art, artists, artist, painting, will",
          "<b>Topic 2</b><br>Words: art, artists, talent, artist, people",
          "<b>Topic 2</b><br>Words: art, chess, creative, creativity, lifelike",
          "<b>Topic 2</b><br>Words: art, artists, creative, artist, people"
         ],
         "marker": {
          "color": "#009E73"
         },
         "mode": "lines",
         "name": "2_art_artists_artist_creative",
         "type": "scatter",
         "x": [
          "2022-05-31T18:53:16.800000",
          "2022-07-01T10:17:08.571428",
          "2022-07-31T20:34:17.142857",
          "2022-08-31T06:51:25.714285",
          "2022-09-30T17:08:34.285714",
          "2022-10-31T03:25:42.857142",
          "2022-11-30T13:42:51.428571"
         ],
         "y": [
          4,
          11,
          26,
          74,
          19,
          17,
          69
         ]
        },
        {
         "hoverinfo": "text",
         "hovertext": [
          "<b>Topic 3</b><br>Words: utopia, money, machines, amount, jobs",
          "<b>Topic 3</b><br>Words: wealth, money, jobs, prices, society",
          "<b>Topic 3</b><br>Words: jobs, machines, money, printers, people",
          "<b>Topic 3</b><br>Words: horses, technology, tech, insane, fuck",
          "<b>Topic 3</b><br>Words: trades, making, progress, corporations, push",
          "<b>Topic 3</b><br>Words: starve, crop, society, 30, machines",
          "<b>Topic 3</b><br>Words: machines, jobs, labor, wealth, work"
         ],
         "marker": {
          "color": "#F0E442"
         },
         "mode": "lines",
         "name": "3_machines_jobs_money_wealth",
         "type": "scatter",
         "x": [
          "2022-05-31T18:53:16.800000",
          "2022-07-01T10:17:08.571428",
          "2022-07-31T20:34:17.142857",
          "2022-08-31T06:51:25.714285",
          "2022-09-30T17:08:34.285714",
          "2022-10-31T03:25:42.857142",
          "2022-11-30T13:42:51.428571"
         ],
         "y": [
          21,
          33,
          29,
          14,
          11,
          20,
          73
         ]
        },
        {
         "hoverinfo": "text",
         "hovertext": [
          "<b>Topic 4</b><br>Words: ai, showing, gard, trainedfed, nate",
          "<b>Topic 4</b><br>Words: pin, unpinned, clips, deleted, clip",
          "<b>Topic 4</b><br>Words: green, color, fruit, pea, pineapple",
          "<b>Topic 4</b><br>Words: tile, agent, grid, clean, dirty",
          "<b>Topic 4</b><br>Words: ai, how, works, we, methods",
          "<b>Topic 4</b><br>Words: ai, folks, hahahahahaha, dangai, courtesies",
          "<b>Topic 4</b><br>Words: ai, knows, bulls, target, hit"
         ],
         "marker": {
          "color": "#D55E00"
         },
         "mode": "lines",
         "name": "4_ai_tile_agent_green",
         "type": "scatter",
         "x": [
          "2022-05-31T18:53:16.800000",
          "2022-07-01T10:17:08.571428",
          "2022-07-31T20:34:17.142857",
          "2022-08-31T06:51:25.714285",
          "2022-09-30T17:08:34.285714",
          "2022-10-31T03:25:42.857142",
          "2022-11-30T13:42:51.428571"
         ],
         "y": [
          17,
          24,
          21,
          23,
          34,
          25,
          54
         ]
        },
        {
         "hoverinfo": "text",
         "hovertext": [
          "<b>Topic 5</b><br>Words: agi, we, retirement, as, be",
          "<b>Topic 5</b><br>Words: agi, we, will, tasks, any",
          "<b>Topic 5</b><br>Words: agi, tasks, we, close, deep",
          "<b>Topic 5</b><br>Words: agi, symbols, asi, general, suddenly",
          "<b>Topic 5</b><br>Words: agi, approaches, approach, gtthe, system",
          "<b>Topic 5</b><br>Words: agi, filter, space, hunger, animals",
          "<b>Topic 5</b><br>Words: agi, alien, we, control, will"
         ],
         "marker": {
          "color": "#0072B2"
         },
         "mode": "lines",
         "name": "5_agi_we_tasks_as",
         "type": "scatter",
         "x": [
          "2022-05-31T18:53:16.800000",
          "2022-07-01T10:17:08.571428",
          "2022-07-31T20:34:17.142857",
          "2022-08-31T06:51:25.714285",
          "2022-09-30T17:08:34.285714",
          "2022-10-31T03:25:42.857142",
          "2022-11-30T13:42:51.428571"
         ],
         "y": [
          36,
          35,
          17,
          13,
          10,
          12,
          28
         ]
        },
        {
         "hoverinfo": "text",
         "hovertext": [
          "<b>Topic 6</b><br>Words: virgins, neckbeard, theorists, grifter, mccartney",
          "<b>Topic 6</b><br>Words: idiot, reddit, statement, hurts, psychopath",
          "<b>Topic 6</b><br>Words: conspiracy, joke, homophobic, jokes, landing",
          "<b>Topic 6</b><br>Words: excuses, vegan, disagree, dumb, naive",
          "<b>Topic 6</b><br>Words: sociopath, conspiracy, psychologist, greasy, virgin",
          "<b>Topic 6</b><br>Words: responsibility, convenient, his, hangover, psychohistorian",
          "<b>Topic 6</b><br>Words: projecting, kanye, slippery, slope, obviously"
         ],
         "marker": {
          "color": "#CC79A7"
         },
         "mode": "lines",
         "name": "6_conspiracy_excuses_joke_you",
         "type": "scatter",
         "x": [
          "2022-05-31T18:53:16.800000",
          "2022-07-01T10:17:08.571428",
          "2022-07-31T20:34:17.142857",
          "2022-08-31T06:51:25.714285",
          "2022-09-30T17:08:34.285714",
          "2022-10-31T03:25:42.857142",
          "2022-11-30T13:42:51.428571"
         ],
         "y": [
          12,
          19,
          16,
          16,
          34,
          7,
          18
         ]
        },
        {
         "hoverinfo": "text",
         "hovertext": [
          "<b>Topic 7</b><br>Words: diffusion, disco, mj, stable, midjourney",
          "<b>Topic 7</b><br>Words: diffusion, stable, de2, httpshuggingfacecospacesstabilityaistablediffusion, midjourney",
          "<b>Topic 7</b><br>Words: diffusion, stable, midjourney, image, frame",
          "<b>Topic 7</b><br>Words: diffusion, stable, midjourney, dalle2, run",
          "<b>Topic 7</b><br>Words: diffusion, stable, colab, use, locally",
          "<b>Topic 7</b><br>Words: stable, diffusion, midjourney, ckpt, safetensors"
         ],
         "marker": {
          "color": "#E69F00"
         },
         "mode": "lines",
         "name": "7_diffusion_stable_midjourney_disco",
         "type": "scatter",
         "x": [
          "2022-05-31T18:53:16.800000",
          "2022-07-31T20:34:17.142857",
          "2022-08-31T06:51:25.714285",
          "2022-09-30T17:08:34.285714",
          "2022-10-31T03:25:42.857142",
          "2022-11-30T13:42:51.428571"
         ],
         "y": [
          8,
          12,
          27,
          20,
          24,
          30
         ]
        },
        {
         "hoverinfo": "text",
         "hovertext": [
          "<b>Topic 8</b><br>Words: httpseternalboxdevjukeboxindexhtml, synthesizerv, eternal, vocals, jukebox",
          "<b>Topic 8</b><br>Words: music, songs, finalists, advertizing, synth",
          "<b>Topic 8</b><br>Words: music, song, composers, songs, jukebox",
          "<b>Topic 8</b><br>Words: music, lyrics, songs, song, musician",
          "<b>Topic 8</b><br>Words: music, song, songs, riaa, phonk",
          "<b>Topic 8</b><br>Words: music, piano, sound, recipes, recognizes",
          "<b>Topic 8</b><br>Words: music, lyrics, songs, song, musician"
         ],
         "marker": {
          "color": "#56B4E9"
         },
         "mode": "lines",
         "name": "8_music_songs_song_lyrics",
         "type": "scatter",
         "x": [
          "2022-05-31T18:53:16.800000",
          "2022-07-01T10:17:08.571428",
          "2022-07-31T20:34:17.142857",
          "2022-08-31T06:51:25.714285",
          "2022-09-30T17:08:34.285714",
          "2022-10-31T03:25:42.857142",
          "2022-11-30T13:42:51.428571"
         ],
         "y": [
          2,
          7,
          7,
          26,
          24,
          12,
          42
         ]
        },
        {
         "hoverinfo": "text",
         "hovertext": [
          "<b>Topic 9</b><br>Words: command, search, clarify, httpsopenaicomblogcodexappshttpsopenaicomblogcodexapps, httpsiamairoadmap",
          "<b>Topic 9</b><br>Words: routines, commands, zoom, device, robot",
          "<b>Topic 9</b><br>Words: ja, gticsl, murf, httpstmeinternlphttpstmeinternlp, yk",
          "<b>Topic 9</b><br>Words: use, jokes, file, copyai, ai",
          "<b>Topic 9</b><br>Words: gurps, toolshttpswwwaitoolsforcom, tagline, tools, ai",
          "<b>Topic 9</b><br>Words: tools, am, ai, guys, topics",
          "<b>Topic 9</b><br>Words: ai, interested, accessible, thanks, open"
         ],
         "marker": {
          "color": "#009E73"
         },
         "mode": "lines",
         "name": "9_ai_tools_use_your",
         "type": "scatter",
         "x": [
          "2022-05-31T18:53:16.800000",
          "2022-07-01T10:17:08.571428",
          "2022-07-31T20:34:17.142857",
          "2022-08-31T06:51:25.714285",
          "2022-09-30T17:08:34.285714",
          "2022-10-31T03:25:42.857142",
          "2022-11-30T13:42:51.428571"
         ],
         "y": [
          6,
          9,
          6,
          19,
          27,
          19,
          31
         ]
        }
       ],
       "layout": {
        "height": 450,
        "hoverlabel": {
         "bgcolor": "white",
         "font": {
          "family": "Rockwell",
          "size": 16
         }
        },
        "legend": {
         "title": {
          "text": "<b>Global Topic Representation"
         }
        },
        "template": {
         "data": {
          "bar": [
           {
            "error_x": {
             "color": "rgb(36,36,36)"
            },
            "error_y": {
             "color": "rgb(36,36,36)"
            },
            "marker": {
             "line": {
              "color": "white",
              "width": 0.5
             },
             "pattern": {
              "fillmode": "overlay",
              "size": 10,
              "solidity": 0.2
             }
            },
            "type": "bar"
           }
          ],
          "barpolar": [
           {
            "marker": {
             "line": {
              "color": "white",
              "width": 0.5
             },
             "pattern": {
              "fillmode": "overlay",
              "size": 10,
              "solidity": 0.2
             }
            },
            "type": "barpolar"
           }
          ],
          "carpet": [
           {
            "aaxis": {
             "endlinecolor": "rgb(36,36,36)",
             "gridcolor": "white",
             "linecolor": "white",
             "minorgridcolor": "white",
             "startlinecolor": "rgb(36,36,36)"
            },
            "baxis": {
             "endlinecolor": "rgb(36,36,36)",
             "gridcolor": "white",
             "linecolor": "white",
             "minorgridcolor": "white",
             "startlinecolor": "rgb(36,36,36)"
            },
            "type": "carpet"
           }
          ],
          "choropleth": [
           {
            "colorbar": {
             "outlinewidth": 1,
             "tickcolor": "rgb(36,36,36)",
             "ticks": "outside"
            },
            "type": "choropleth"
           }
          ],
          "contour": [
           {
            "colorbar": {
             "outlinewidth": 1,
             "tickcolor": "rgb(36,36,36)",
             "ticks": "outside"
            },
            "colorscale": [
             [
              0,
              "#440154"
             ],
             [
              0.1111111111111111,
              "#482878"
             ],
             [
              0.2222222222222222,
              "#3e4989"
             ],
             [
              0.3333333333333333,
              "#31688e"
             ],
             [
              0.4444444444444444,
              "#26828e"
             ],
             [
              0.5555555555555556,
              "#1f9e89"
             ],
             [
              0.6666666666666666,
              "#35b779"
             ],
             [
              0.7777777777777778,
              "#6ece58"
             ],
             [
              0.8888888888888888,
              "#b5de2b"
             ],
             [
              1,
              "#fde725"
             ]
            ],
            "type": "contour"
           }
          ],
          "contourcarpet": [
           {
            "colorbar": {
             "outlinewidth": 1,
             "tickcolor": "rgb(36,36,36)",
             "ticks": "outside"
            },
            "type": "contourcarpet"
           }
          ],
          "heatmap": [
           {
            "colorbar": {
             "outlinewidth": 1,
             "tickcolor": "rgb(36,36,36)",
             "ticks": "outside"
            },
            "colorscale": [
             [
              0,
              "#440154"
             ],
             [
              0.1111111111111111,
              "#482878"
             ],
             [
              0.2222222222222222,
              "#3e4989"
             ],
             [
              0.3333333333333333,
              "#31688e"
             ],
             [
              0.4444444444444444,
              "#26828e"
             ],
             [
              0.5555555555555556,
              "#1f9e89"
             ],
             [
              0.6666666666666666,
              "#35b779"
             ],
             [
              0.7777777777777778,
              "#6ece58"
             ],
             [
              0.8888888888888888,
              "#b5de2b"
             ],
             [
              1,
              "#fde725"
             ]
            ],
            "type": "heatmap"
           }
          ],
          "heatmapgl": [
           {
            "colorbar": {
             "outlinewidth": 1,
             "tickcolor": "rgb(36,36,36)",
             "ticks": "outside"
            },
            "colorscale": [
             [
              0,
              "#440154"
             ],
             [
              0.1111111111111111,
              "#482878"
             ],
             [
              0.2222222222222222,
              "#3e4989"
             ],
             [
              0.3333333333333333,
              "#31688e"
             ],
             [
              0.4444444444444444,
              "#26828e"
             ],
             [
              0.5555555555555556,
              "#1f9e89"
             ],
             [
              0.6666666666666666,
              "#35b779"
             ],
             [
              0.7777777777777778,
              "#6ece58"
             ],
             [
              0.8888888888888888,
              "#b5de2b"
             ],
             [
              1,
              "#fde725"
             ]
            ],
            "type": "heatmapgl"
           }
          ],
          "histogram": [
           {
            "marker": {
             "line": {
              "color": "white",
              "width": 0.6
             }
            },
            "type": "histogram"
           }
          ],
          "histogram2d": [
           {
            "colorbar": {
             "outlinewidth": 1,
             "tickcolor": "rgb(36,36,36)",
             "ticks": "outside"
            },
            "colorscale": [
             [
              0,
              "#440154"
             ],
             [
              0.1111111111111111,
              "#482878"
             ],
             [
              0.2222222222222222,
              "#3e4989"
             ],
             [
              0.3333333333333333,
              "#31688e"
             ],
             [
              0.4444444444444444,
              "#26828e"
             ],
             [
              0.5555555555555556,
              "#1f9e89"
             ],
             [
              0.6666666666666666,
              "#35b779"
             ],
             [
              0.7777777777777778,
              "#6ece58"
             ],
             [
              0.8888888888888888,
              "#b5de2b"
             ],
             [
              1,
              "#fde725"
             ]
            ],
            "type": "histogram2d"
           }
          ],
          "histogram2dcontour": [
           {
            "colorbar": {
             "outlinewidth": 1,
             "tickcolor": "rgb(36,36,36)",
             "ticks": "outside"
            },
            "colorscale": [
             [
              0,
              "#440154"
             ],
             [
              0.1111111111111111,
              "#482878"
             ],
             [
              0.2222222222222222,
              "#3e4989"
             ],
             [
              0.3333333333333333,
              "#31688e"
             ],
             [
              0.4444444444444444,
              "#26828e"
             ],
             [
              0.5555555555555556,
              "#1f9e89"
             ],
             [
              0.6666666666666666,
              "#35b779"
             ],
             [
              0.7777777777777778,
              "#6ece58"
             ],
             [
              0.8888888888888888,
              "#b5de2b"
             ],
             [
              1,
              "#fde725"
             ]
            ],
            "type": "histogram2dcontour"
           }
          ],
          "mesh3d": [
           {
            "colorbar": {
             "outlinewidth": 1,
             "tickcolor": "rgb(36,36,36)",
             "ticks": "outside"
            },
            "type": "mesh3d"
           }
          ],
          "parcoords": [
           {
            "line": {
             "colorbar": {
              "outlinewidth": 1,
              "tickcolor": "rgb(36,36,36)",
              "ticks": "outside"
             }
            },
            "type": "parcoords"
           }
          ],
          "pie": [
           {
            "automargin": true,
            "type": "pie"
           }
          ],
          "scatter": [
           {
            "fillpattern": {
             "fillmode": "overlay",
             "size": 10,
             "solidity": 0.2
            },
            "type": "scatter"
           }
          ],
          "scatter3d": [
           {
            "line": {
             "colorbar": {
              "outlinewidth": 1,
              "tickcolor": "rgb(36,36,36)",
              "ticks": "outside"
             }
            },
            "marker": {
             "colorbar": {
              "outlinewidth": 1,
              "tickcolor": "rgb(36,36,36)",
              "ticks": "outside"
             }
            },
            "type": "scatter3d"
           }
          ],
          "scattercarpet": [
           {
            "marker": {
             "colorbar": {
              "outlinewidth": 1,
              "tickcolor": "rgb(36,36,36)",
              "ticks": "outside"
             }
            },
            "type": "scattercarpet"
           }
          ],
          "scattergeo": [
           {
            "marker": {
             "colorbar": {
              "outlinewidth": 1,
              "tickcolor": "rgb(36,36,36)",
              "ticks": "outside"
             }
            },
            "type": "scattergeo"
           }
          ],
          "scattergl": [
           {
            "marker": {
             "colorbar": {
              "outlinewidth": 1,
              "tickcolor": "rgb(36,36,36)",
              "ticks": "outside"
             }
            },
            "type": "scattergl"
           }
          ],
          "scattermapbox": [
           {
            "marker": {
             "colorbar": {
              "outlinewidth": 1,
              "tickcolor": "rgb(36,36,36)",
              "ticks": "outside"
             }
            },
            "type": "scattermapbox"
           }
          ],
          "scatterpolar": [
           {
            "marker": {
             "colorbar": {
              "outlinewidth": 1,
              "tickcolor": "rgb(36,36,36)",
              "ticks": "outside"
             }
            },
            "type": "scatterpolar"
           }
          ],
          "scatterpolargl": [
           {
            "marker": {
             "colorbar": {
              "outlinewidth": 1,
              "tickcolor": "rgb(36,36,36)",
              "ticks": "outside"
             }
            },
            "type": "scatterpolargl"
           }
          ],
          "scatterternary": [
           {
            "marker": {
             "colorbar": {
              "outlinewidth": 1,
              "tickcolor": "rgb(36,36,36)",
              "ticks": "outside"
             }
            },
            "type": "scatterternary"
           }
          ],
          "surface": [
           {
            "colorbar": {
             "outlinewidth": 1,
             "tickcolor": "rgb(36,36,36)",
             "ticks": "outside"
            },
            "colorscale": [
             [
              0,
              "#440154"
             ],
             [
              0.1111111111111111,
              "#482878"
             ],
             [
              0.2222222222222222,
              "#3e4989"
             ],
             [
              0.3333333333333333,
              "#31688e"
             ],
             [
              0.4444444444444444,
              "#26828e"
             ],
             [
              0.5555555555555556,
              "#1f9e89"
             ],
             [
              0.6666666666666666,
              "#35b779"
             ],
             [
              0.7777777777777778,
              "#6ece58"
             ],
             [
              0.8888888888888888,
              "#b5de2b"
             ],
             [
              1,
              "#fde725"
             ]
            ],
            "type": "surface"
           }
          ],
          "table": [
           {
            "cells": {
             "fill": {
              "color": "rgb(237,237,237)"
             },
             "line": {
              "color": "white"
             }
            },
            "header": {
             "fill": {
              "color": "rgb(217,217,217)"
             },
             "line": {
              "color": "white"
             }
            },
            "type": "table"
           }
          ]
         },
         "layout": {
          "annotationdefaults": {
           "arrowhead": 0,
           "arrowwidth": 1
          },
          "autotypenumbers": "strict",
          "coloraxis": {
           "colorbar": {
            "outlinewidth": 1,
            "tickcolor": "rgb(36,36,36)",
            "ticks": "outside"
           }
          },
          "colorscale": {
           "diverging": [
            [
             0,
             "rgb(103,0,31)"
            ],
            [
             0.1,
             "rgb(178,24,43)"
            ],
            [
             0.2,
             "rgb(214,96,77)"
            ],
            [
             0.3,
             "rgb(244,165,130)"
            ],
            [
             0.4,
             "rgb(253,219,199)"
            ],
            [
             0.5,
             "rgb(247,247,247)"
            ],
            [
             0.6,
             "rgb(209,229,240)"
            ],
            [
             0.7,
             "rgb(146,197,222)"
            ],
            [
             0.8,
             "rgb(67,147,195)"
            ],
            [
             0.9,
             "rgb(33,102,172)"
            ],
            [
             1,
             "rgb(5,48,97)"
            ]
           ],
           "sequential": [
            [
             0,
             "#440154"
            ],
            [
             0.1111111111111111,
             "#482878"
            ],
            [
             0.2222222222222222,
             "#3e4989"
            ],
            [
             0.3333333333333333,
             "#31688e"
            ],
            [
             0.4444444444444444,
             "#26828e"
            ],
            [
             0.5555555555555556,
             "#1f9e89"
            ],
            [
             0.6666666666666666,
             "#35b779"
            ],
            [
             0.7777777777777778,
             "#6ece58"
            ],
            [
             0.8888888888888888,
             "#b5de2b"
            ],
            [
             1,
             "#fde725"
            ]
           ],
           "sequentialminus": [
            [
             0,
             "#440154"
            ],
            [
             0.1111111111111111,
             "#482878"
            ],
            [
             0.2222222222222222,
             "#3e4989"
            ],
            [
             0.3333333333333333,
             "#31688e"
            ],
            [
             0.4444444444444444,
             "#26828e"
            ],
            [
             0.5555555555555556,
             "#1f9e89"
            ],
            [
             0.6666666666666666,
             "#35b779"
            ],
            [
             0.7777777777777778,
             "#6ece58"
            ],
            [
             0.8888888888888888,
             "#b5de2b"
            ],
            [
             1,
             "#fde725"
            ]
           ]
          },
          "colorway": [
           "#1F77B4",
           "#FF7F0E",
           "#2CA02C",
           "#D62728",
           "#9467BD",
           "#8C564B",
           "#E377C2",
           "#7F7F7F",
           "#BCBD22",
           "#17BECF"
          ],
          "font": {
           "color": "rgb(36,36,36)"
          },
          "geo": {
           "bgcolor": "white",
           "lakecolor": "white",
           "landcolor": "white",
           "showlakes": true,
           "showland": true,
           "subunitcolor": "white"
          },
          "hoverlabel": {
           "align": "left"
          },
          "hovermode": "closest",
          "mapbox": {
           "style": "light"
          },
          "paper_bgcolor": "white",
          "plot_bgcolor": "white",
          "polar": {
           "angularaxis": {
            "gridcolor": "rgb(232,232,232)",
            "linecolor": "rgb(36,36,36)",
            "showgrid": false,
            "showline": true,
            "ticks": "outside"
           },
           "bgcolor": "white",
           "radialaxis": {
            "gridcolor": "rgb(232,232,232)",
            "linecolor": "rgb(36,36,36)",
            "showgrid": false,
            "showline": true,
            "ticks": "outside"
           }
          },
          "scene": {
           "xaxis": {
            "backgroundcolor": "white",
            "gridcolor": "rgb(232,232,232)",
            "gridwidth": 2,
            "linecolor": "rgb(36,36,36)",
            "showbackground": true,
            "showgrid": false,
            "showline": true,
            "ticks": "outside",
            "zeroline": false,
            "zerolinecolor": "rgb(36,36,36)"
           },
           "yaxis": {
            "backgroundcolor": "white",
            "gridcolor": "rgb(232,232,232)",
            "gridwidth": 2,
            "linecolor": "rgb(36,36,36)",
            "showbackground": true,
            "showgrid": false,
            "showline": true,
            "ticks": "outside",
            "zeroline": false,
            "zerolinecolor": "rgb(36,36,36)"
           },
           "zaxis": {
            "backgroundcolor": "white",
            "gridcolor": "rgb(232,232,232)",
            "gridwidth": 2,
            "linecolor": "rgb(36,36,36)",
            "showbackground": true,
            "showgrid": false,
            "showline": true,
            "ticks": "outside",
            "zeroline": false,
            "zerolinecolor": "rgb(36,36,36)"
           }
          },
          "shapedefaults": {
           "fillcolor": "black",
           "line": {
            "width": 0
           },
           "opacity": 0.3
          },
          "ternary": {
           "aaxis": {
            "gridcolor": "rgb(232,232,232)",
            "linecolor": "rgb(36,36,36)",
            "showgrid": false,
            "showline": true,
            "ticks": "outside"
           },
           "baxis": {
            "gridcolor": "rgb(232,232,232)",
            "linecolor": "rgb(36,36,36)",
            "showgrid": false,
            "showline": true,
            "ticks": "outside"
           },
           "bgcolor": "white",
           "caxis": {
            "gridcolor": "rgb(232,232,232)",
            "linecolor": "rgb(36,36,36)",
            "showgrid": false,
            "showline": true,
            "ticks": "outside"
           }
          },
          "title": {
           "x": 0.05
          },
          "xaxis": {
           "automargin": true,
           "gridcolor": "rgb(232,232,232)",
           "linecolor": "rgb(36,36,36)",
           "showgrid": false,
           "showline": true,
           "ticks": "outside",
           "title": {
            "standoff": 15
           },
           "zeroline": false,
           "zerolinecolor": "rgb(36,36,36)"
          },
          "yaxis": {
           "automargin": true,
           "gridcolor": "rgb(232,232,232)",
           "linecolor": "rgb(36,36,36)",
           "showgrid": false,
           "showline": true,
           "ticks": "outside",
           "title": {
            "standoff": 15
           },
           "zeroline": false,
           "zerolinecolor": "rgb(36,36,36)"
          }
         }
        },
        "title": {
         "font": {
          "color": "Black",
          "size": 22
         },
         "text": "<b>Topics over Time</b>",
         "x": 0.4,
         "xanchor": "center",
         "y": 0.95,
         "yanchor": "top"
        },
        "width": 1250,
        "xaxis": {
         "showgrid": true
        },
        "yaxis": {
         "showgrid": true,
         "title": {
          "text": "Frequency"
         }
        }
       }
      },
      "text/html": [
       "<div>                        <script type=\"text/javascript\">window.PlotlyConfig = {MathJaxConfig: 'local'};</script>\n",
       "        <script charset=\"utf-8\" src=\"https://cdn.plot.ly/plotly-2.35.2.min.js\"></script>                <div id=\"92343ee9-0430-4c74-a23b-9296c7f765b1\" class=\"plotly-graph-div\" style=\"height:450px; width:1250px;\"></div>            <script type=\"text/javascript\">                                    window.PLOTLYENV=window.PLOTLYENV || {};                                    if (document.getElementById(\"92343ee9-0430-4c74-a23b-9296c7f765b1\")) {                    Plotly.newPlot(                        \"92343ee9-0430-4c74-a23b-9296c7f765b1\",                        [{\"hoverinfo\":\"text\",\"hovertext\":[\"\\u003cb\\u003eTopic 0\\u003c\\u002fb\\u003e\\u003cbr\\u003eWords: ai, humans, us, we, will\",\"\\u003cb\\u003eTopic 0\\u003c\\u002fb\\u003e\\u003cbr\\u003eWords: ai, will, system, humans, we\",\"\\u003cb\\u003eTopic 0\\u003c\\u002fb\\u003e\\u003cbr\\u003eWords: ai, we, us, will, humans\",\"\\u003cb\\u003eTopic 0\\u003c\\u002fb\\u003e\\u003cbr\\u003eWords: ai, humans, we, will, world\",\"\\u003cb\\u003eTopic 0\\u003c\\u002fb\\u003e\\u003cbr\\u003eWords: ai, automation, will, humans, transportation\",\"\\u003cb\\u003eTopic 0\\u003c\\u002fb\\u003e\\u003cbr\\u003eWords: ai, humans, will, we, be\",\"\\u003cb\\u003eTopic 0\\u003c\\u002fb\\u003e\\u003cbr\\u003eWords: ai, will, humans, we, be\"],\"marker\":{\"color\":\"#E69F00\"},\"mode\":\"lines\",\"name\":\"0_ai_will_humans_we\",\"x\":[\"2022-05-31T18:53:16.800000\",\"2022-07-01T10:17:08.571428\",\"2022-07-31T20:34:17.142857\",\"2022-08-31T06:51:25.714285\",\"2022-09-30T17:08:34.285714\",\"2022-10-31T03:25:42.857142\",\"2022-11-30T13:42:51.428571\"],\"y\":[55,91,69,56,68,79,153],\"type\":\"scatter\"},{\"hoverinfo\":\"text\",\"hovertext\":[\"\\u003cb\\u003eTopic 1\\u003c\\u002fb\\u003e\\u003cbr\\u003eWords: consciousness, conscious, we, nonlocal, of\",\"\\u003cb\\u003eTopic 1\\u003c\\u002fb\\u003e\\u003cbr\\u003eWords: consciousness, conscious, we, our, of\",\"\\u003cb\\u003eTopic 1\\u003c\\u002fb\\u003e\\u003cbr\\u003eWords: conscious, consciousness, inner, we, think\",\"\\u003cb\\u003eTopic 1\\u003c\\u002fb\\u003e\\u003cbr\\u003eWords: consciousness, conscious, we, thought, subconscious\",\"\\u003cb\\u003eTopic 1\\u003c\\u002fb\\u003e\\u003cbr\\u003eWords: consciousness, conscious, we, is, of\",\"\\u003cb\\u003eTopic 1\\u003c\\u002fb\\u003e\\u003cbr\\u003eWords: consciousness, conscious, deterministic, perception, tngs\",\"\\u003cb\\u003eTopic 1\\u003c\\u002fb\\u003e\\u003cbr\\u003eWords: consciousness, conscious, brain, physical, as\"],\"marker\":{\"color\":\"#56B4E9\"},\"mode\":\"lines\",\"name\":\"1_consciousness_conscious_we_of\",\"x\":[\"2022-05-31T18:53:16.800000\",\"2022-07-01T10:17:08.571428\",\"2022-07-31T20:34:17.142857\",\"2022-08-31T06:51:25.714285\",\"2022-09-30T17:08:34.285714\",\"2022-10-31T03:25:42.857142\",\"2022-11-30T13:42:51.428571\"],\"y\":[86,64,34,14,67,15,31],\"type\":\"scatter\"},{\"hoverinfo\":\"text\",\"hovertext\":[\"\\u003cb\\u003eTopic 2\\u003c\\u002fb\\u003e\\u003cbr\\u003eWords: experiences, art, insane, outcome, ourselves\",\"\\u003cb\\u003eTopic 2\\u003c\\u002fb\\u003e\\u003cbr\\u003eWords: art, chess, better, artists, time\",\"\\u003cb\\u003eTopic 2\\u003c\\u002fb\\u003e\\u003cbr\\u003eWords: art, artists, digital, will, artist\",\"\\u003cb\\u003eTopic 2\\u003c\\u002fb\\u003e\\u003cbr\\u003eWords: art, artists, artist, painting, will\",\"\\u003cb\\u003eTopic 2\\u003c\\u002fb\\u003e\\u003cbr\\u003eWords: art, artists, talent, artist, people\",\"\\u003cb\\u003eTopic 2\\u003c\\u002fb\\u003e\\u003cbr\\u003eWords: art, chess, creative, creativity, lifelike\",\"\\u003cb\\u003eTopic 2\\u003c\\u002fb\\u003e\\u003cbr\\u003eWords: art, artists, creative, artist, people\"],\"marker\":{\"color\":\"#009E73\"},\"mode\":\"lines\",\"name\":\"2_art_artists_artist_creative\",\"x\":[\"2022-05-31T18:53:16.800000\",\"2022-07-01T10:17:08.571428\",\"2022-07-31T20:34:17.142857\",\"2022-08-31T06:51:25.714285\",\"2022-09-30T17:08:34.285714\",\"2022-10-31T03:25:42.857142\",\"2022-11-30T13:42:51.428571\"],\"y\":[4,11,26,74,19,17,69],\"type\":\"scatter\"},{\"hoverinfo\":\"text\",\"hovertext\":[\"\\u003cb\\u003eTopic 3\\u003c\\u002fb\\u003e\\u003cbr\\u003eWords: utopia, money, machines, amount, jobs\",\"\\u003cb\\u003eTopic 3\\u003c\\u002fb\\u003e\\u003cbr\\u003eWords: wealth, money, jobs, prices, society\",\"\\u003cb\\u003eTopic 3\\u003c\\u002fb\\u003e\\u003cbr\\u003eWords: jobs, machines, money, printers, people\",\"\\u003cb\\u003eTopic 3\\u003c\\u002fb\\u003e\\u003cbr\\u003eWords: horses, technology, tech, insane, fuck\",\"\\u003cb\\u003eTopic 3\\u003c\\u002fb\\u003e\\u003cbr\\u003eWords: trades, making, progress, corporations, push\",\"\\u003cb\\u003eTopic 3\\u003c\\u002fb\\u003e\\u003cbr\\u003eWords: starve, crop, society, 30, machines\",\"\\u003cb\\u003eTopic 3\\u003c\\u002fb\\u003e\\u003cbr\\u003eWords: machines, jobs, labor, wealth, work\"],\"marker\":{\"color\":\"#F0E442\"},\"mode\":\"lines\",\"name\":\"3_machines_jobs_money_wealth\",\"x\":[\"2022-05-31T18:53:16.800000\",\"2022-07-01T10:17:08.571428\",\"2022-07-31T20:34:17.142857\",\"2022-08-31T06:51:25.714285\",\"2022-09-30T17:08:34.285714\",\"2022-10-31T03:25:42.857142\",\"2022-11-30T13:42:51.428571\"],\"y\":[21,33,29,14,11,20,73],\"type\":\"scatter\"},{\"hoverinfo\":\"text\",\"hovertext\":[\"\\u003cb\\u003eTopic 4\\u003c\\u002fb\\u003e\\u003cbr\\u003eWords: ai, showing, gard, trainedfed, nate\",\"\\u003cb\\u003eTopic 4\\u003c\\u002fb\\u003e\\u003cbr\\u003eWords: pin, unpinned, clips, deleted, clip\",\"\\u003cb\\u003eTopic 4\\u003c\\u002fb\\u003e\\u003cbr\\u003eWords: green, color, fruit, pea, pineapple\",\"\\u003cb\\u003eTopic 4\\u003c\\u002fb\\u003e\\u003cbr\\u003eWords: tile, agent, grid, clean, dirty\",\"\\u003cb\\u003eTopic 4\\u003c\\u002fb\\u003e\\u003cbr\\u003eWords: ai, how, works, we, methods\",\"\\u003cb\\u003eTopic 4\\u003c\\u002fb\\u003e\\u003cbr\\u003eWords: ai, folks, hahahahahaha, dangai, courtesies\",\"\\u003cb\\u003eTopic 4\\u003c\\u002fb\\u003e\\u003cbr\\u003eWords: ai, knows, bulls, target, hit\"],\"marker\":{\"color\":\"#D55E00\"},\"mode\":\"lines\",\"name\":\"4_ai_tile_agent_green\",\"x\":[\"2022-05-31T18:53:16.800000\",\"2022-07-01T10:17:08.571428\",\"2022-07-31T20:34:17.142857\",\"2022-08-31T06:51:25.714285\",\"2022-09-30T17:08:34.285714\",\"2022-10-31T03:25:42.857142\",\"2022-11-30T13:42:51.428571\"],\"y\":[17,24,21,23,34,25,54],\"type\":\"scatter\"},{\"hoverinfo\":\"text\",\"hovertext\":[\"\\u003cb\\u003eTopic 5\\u003c\\u002fb\\u003e\\u003cbr\\u003eWords: agi, we, retirement, as, be\",\"\\u003cb\\u003eTopic 5\\u003c\\u002fb\\u003e\\u003cbr\\u003eWords: agi, we, will, tasks, any\",\"\\u003cb\\u003eTopic 5\\u003c\\u002fb\\u003e\\u003cbr\\u003eWords: agi, tasks, we, close, deep\",\"\\u003cb\\u003eTopic 5\\u003c\\u002fb\\u003e\\u003cbr\\u003eWords: agi, symbols, asi, general, suddenly\",\"\\u003cb\\u003eTopic 5\\u003c\\u002fb\\u003e\\u003cbr\\u003eWords: agi, approaches, approach, gtthe, system\",\"\\u003cb\\u003eTopic 5\\u003c\\u002fb\\u003e\\u003cbr\\u003eWords: agi, filter, space, hunger, animals\",\"\\u003cb\\u003eTopic 5\\u003c\\u002fb\\u003e\\u003cbr\\u003eWords: agi, alien, we, control, will\"],\"marker\":{\"color\":\"#0072B2\"},\"mode\":\"lines\",\"name\":\"5_agi_we_tasks_as\",\"x\":[\"2022-05-31T18:53:16.800000\",\"2022-07-01T10:17:08.571428\",\"2022-07-31T20:34:17.142857\",\"2022-08-31T06:51:25.714285\",\"2022-09-30T17:08:34.285714\",\"2022-10-31T03:25:42.857142\",\"2022-11-30T13:42:51.428571\"],\"y\":[36,35,17,13,10,12,28],\"type\":\"scatter\"},{\"hoverinfo\":\"text\",\"hovertext\":[\"\\u003cb\\u003eTopic 6\\u003c\\u002fb\\u003e\\u003cbr\\u003eWords: virgins, neckbeard, theorists, grifter, mccartney\",\"\\u003cb\\u003eTopic 6\\u003c\\u002fb\\u003e\\u003cbr\\u003eWords: idiot, reddit, statement, hurts, psychopath\",\"\\u003cb\\u003eTopic 6\\u003c\\u002fb\\u003e\\u003cbr\\u003eWords: conspiracy, joke, homophobic, jokes, landing\",\"\\u003cb\\u003eTopic 6\\u003c\\u002fb\\u003e\\u003cbr\\u003eWords: excuses, vegan, disagree, dumb, naive\",\"\\u003cb\\u003eTopic 6\\u003c\\u002fb\\u003e\\u003cbr\\u003eWords: sociopath, conspiracy, psychologist, greasy, virgin\",\"\\u003cb\\u003eTopic 6\\u003c\\u002fb\\u003e\\u003cbr\\u003eWords: responsibility, convenient, his, hangover, psychohistorian\",\"\\u003cb\\u003eTopic 6\\u003c\\u002fb\\u003e\\u003cbr\\u003eWords: projecting, kanye, slippery, slope, obviously\"],\"marker\":{\"color\":\"#CC79A7\"},\"mode\":\"lines\",\"name\":\"6_conspiracy_excuses_joke_you\",\"x\":[\"2022-05-31T18:53:16.800000\",\"2022-07-01T10:17:08.571428\",\"2022-07-31T20:34:17.142857\",\"2022-08-31T06:51:25.714285\",\"2022-09-30T17:08:34.285714\",\"2022-10-31T03:25:42.857142\",\"2022-11-30T13:42:51.428571\"],\"y\":[12,19,16,16,34,7,18],\"type\":\"scatter\"},{\"hoverinfo\":\"text\",\"hovertext\":[\"\\u003cb\\u003eTopic 7\\u003c\\u002fb\\u003e\\u003cbr\\u003eWords: diffusion, disco, mj, stable, midjourney\",\"\\u003cb\\u003eTopic 7\\u003c\\u002fb\\u003e\\u003cbr\\u003eWords: diffusion, stable, de2, httpshuggingfacecospacesstabilityaistablediffusion, midjourney\",\"\\u003cb\\u003eTopic 7\\u003c\\u002fb\\u003e\\u003cbr\\u003eWords: diffusion, stable, midjourney, image, frame\",\"\\u003cb\\u003eTopic 7\\u003c\\u002fb\\u003e\\u003cbr\\u003eWords: diffusion, stable, midjourney, dalle2, run\",\"\\u003cb\\u003eTopic 7\\u003c\\u002fb\\u003e\\u003cbr\\u003eWords: diffusion, stable, colab, use, locally\",\"\\u003cb\\u003eTopic 7\\u003c\\u002fb\\u003e\\u003cbr\\u003eWords: stable, diffusion, midjourney, ckpt, safetensors\"],\"marker\":{\"color\":\"#E69F00\"},\"mode\":\"lines\",\"name\":\"7_diffusion_stable_midjourney_disco\",\"x\":[\"2022-05-31T18:53:16.800000\",\"2022-07-31T20:34:17.142857\",\"2022-08-31T06:51:25.714285\",\"2022-09-30T17:08:34.285714\",\"2022-10-31T03:25:42.857142\",\"2022-11-30T13:42:51.428571\"],\"y\":[8,12,27,20,24,30],\"type\":\"scatter\"},{\"hoverinfo\":\"text\",\"hovertext\":[\"\\u003cb\\u003eTopic 8\\u003c\\u002fb\\u003e\\u003cbr\\u003eWords: httpseternalboxdevjukeboxindexhtml, synthesizerv, eternal, vocals, jukebox\",\"\\u003cb\\u003eTopic 8\\u003c\\u002fb\\u003e\\u003cbr\\u003eWords: music, songs, finalists, advertizing, synth\",\"\\u003cb\\u003eTopic 8\\u003c\\u002fb\\u003e\\u003cbr\\u003eWords: music, song, composers, songs, jukebox\",\"\\u003cb\\u003eTopic 8\\u003c\\u002fb\\u003e\\u003cbr\\u003eWords: music, lyrics, songs, song, musician\",\"\\u003cb\\u003eTopic 8\\u003c\\u002fb\\u003e\\u003cbr\\u003eWords: music, song, songs, riaa, phonk\",\"\\u003cb\\u003eTopic 8\\u003c\\u002fb\\u003e\\u003cbr\\u003eWords: music, piano, sound, recipes, recognizes\",\"\\u003cb\\u003eTopic 8\\u003c\\u002fb\\u003e\\u003cbr\\u003eWords: music, lyrics, songs, song, musician\"],\"marker\":{\"color\":\"#56B4E9\"},\"mode\":\"lines\",\"name\":\"8_music_songs_song_lyrics\",\"x\":[\"2022-05-31T18:53:16.800000\",\"2022-07-01T10:17:08.571428\",\"2022-07-31T20:34:17.142857\",\"2022-08-31T06:51:25.714285\",\"2022-09-30T17:08:34.285714\",\"2022-10-31T03:25:42.857142\",\"2022-11-30T13:42:51.428571\"],\"y\":[2,7,7,26,24,12,42],\"type\":\"scatter\"},{\"hoverinfo\":\"text\",\"hovertext\":[\"\\u003cb\\u003eTopic 9\\u003c\\u002fb\\u003e\\u003cbr\\u003eWords: command, search, clarify, httpsopenaicomblogcodexappshttpsopenaicomblogcodexapps, httpsiamairoadmap\",\"\\u003cb\\u003eTopic 9\\u003c\\u002fb\\u003e\\u003cbr\\u003eWords: routines, commands, zoom, device, robot\",\"\\u003cb\\u003eTopic 9\\u003c\\u002fb\\u003e\\u003cbr\\u003eWords: ja, gticsl, murf, httpstmeinternlphttpstmeinternlp, yk\",\"\\u003cb\\u003eTopic 9\\u003c\\u002fb\\u003e\\u003cbr\\u003eWords: use, jokes, file, copyai, ai\",\"\\u003cb\\u003eTopic 9\\u003c\\u002fb\\u003e\\u003cbr\\u003eWords: gurps, toolshttpswwwaitoolsforcom, tagline, tools, ai\",\"\\u003cb\\u003eTopic 9\\u003c\\u002fb\\u003e\\u003cbr\\u003eWords: tools, am, ai, guys, topics\",\"\\u003cb\\u003eTopic 9\\u003c\\u002fb\\u003e\\u003cbr\\u003eWords: ai, interested, accessible, thanks, open\"],\"marker\":{\"color\":\"#009E73\"},\"mode\":\"lines\",\"name\":\"9_ai_tools_use_your\",\"x\":[\"2022-05-31T18:53:16.800000\",\"2022-07-01T10:17:08.571428\",\"2022-07-31T20:34:17.142857\",\"2022-08-31T06:51:25.714285\",\"2022-09-30T17:08:34.285714\",\"2022-10-31T03:25:42.857142\",\"2022-11-30T13:42:51.428571\"],\"y\":[6,9,6,19,27,19,31],\"type\":\"scatter\"}],                        {\"template\":{\"data\":{\"barpolar\":[{\"marker\":{\"line\":{\"color\":\"white\",\"width\":0.5},\"pattern\":{\"fillmode\":\"overlay\",\"size\":10,\"solidity\":0.2}},\"type\":\"barpolar\"}],\"bar\":[{\"error_x\":{\"color\":\"rgb(36,36,36)\"},\"error_y\":{\"color\":\"rgb(36,36,36)\"},\"marker\":{\"line\":{\"color\":\"white\",\"width\":0.5},\"pattern\":{\"fillmode\":\"overlay\",\"size\":10,\"solidity\":0.2}},\"type\":\"bar\"}],\"carpet\":[{\"aaxis\":{\"endlinecolor\":\"rgb(36,36,36)\",\"gridcolor\":\"white\",\"linecolor\":\"white\",\"minorgridcolor\":\"white\",\"startlinecolor\":\"rgb(36,36,36)\"},\"baxis\":{\"endlinecolor\":\"rgb(36,36,36)\",\"gridcolor\":\"white\",\"linecolor\":\"white\",\"minorgridcolor\":\"white\",\"startlinecolor\":\"rgb(36,36,36)\"},\"type\":\"carpet\"}],\"choropleth\":[{\"colorbar\":{\"outlinewidth\":1,\"tickcolor\":\"rgb(36,36,36)\",\"ticks\":\"outside\"},\"type\":\"choropleth\"}],\"contourcarpet\":[{\"colorbar\":{\"outlinewidth\":1,\"tickcolor\":\"rgb(36,36,36)\",\"ticks\":\"outside\"},\"type\":\"contourcarpet\"}],\"contour\":[{\"colorbar\":{\"outlinewidth\":1,\"tickcolor\":\"rgb(36,36,36)\",\"ticks\":\"outside\"},\"colorscale\":[[0.0,\"#440154\"],[0.1111111111111111,\"#482878\"],[0.2222222222222222,\"#3e4989\"],[0.3333333333333333,\"#31688e\"],[0.4444444444444444,\"#26828e\"],[0.5555555555555556,\"#1f9e89\"],[0.6666666666666666,\"#35b779\"],[0.7777777777777778,\"#6ece58\"],[0.8888888888888888,\"#b5de2b\"],[1.0,\"#fde725\"]],\"type\":\"contour\"}],\"heatmapgl\":[{\"colorbar\":{\"outlinewidth\":1,\"tickcolor\":\"rgb(36,36,36)\",\"ticks\":\"outside\"},\"colorscale\":[[0.0,\"#440154\"],[0.1111111111111111,\"#482878\"],[0.2222222222222222,\"#3e4989\"],[0.3333333333333333,\"#31688e\"],[0.4444444444444444,\"#26828e\"],[0.5555555555555556,\"#1f9e89\"],[0.6666666666666666,\"#35b779\"],[0.7777777777777778,\"#6ece58\"],[0.8888888888888888,\"#b5de2b\"],[1.0,\"#fde725\"]],\"type\":\"heatmapgl\"}],\"heatmap\":[{\"colorbar\":{\"outlinewidth\":1,\"tickcolor\":\"rgb(36,36,36)\",\"ticks\":\"outside\"},\"colorscale\":[[0.0,\"#440154\"],[0.1111111111111111,\"#482878\"],[0.2222222222222222,\"#3e4989\"],[0.3333333333333333,\"#31688e\"],[0.4444444444444444,\"#26828e\"],[0.5555555555555556,\"#1f9e89\"],[0.6666666666666666,\"#35b779\"],[0.7777777777777778,\"#6ece58\"],[0.8888888888888888,\"#b5de2b\"],[1.0,\"#fde725\"]],\"type\":\"heatmap\"}],\"histogram2dcontour\":[{\"colorbar\":{\"outlinewidth\":1,\"tickcolor\":\"rgb(36,36,36)\",\"ticks\":\"outside\"},\"colorscale\":[[0.0,\"#440154\"],[0.1111111111111111,\"#482878\"],[0.2222222222222222,\"#3e4989\"],[0.3333333333333333,\"#31688e\"],[0.4444444444444444,\"#26828e\"],[0.5555555555555556,\"#1f9e89\"],[0.6666666666666666,\"#35b779\"],[0.7777777777777778,\"#6ece58\"],[0.8888888888888888,\"#b5de2b\"],[1.0,\"#fde725\"]],\"type\":\"histogram2dcontour\"}],\"histogram2d\":[{\"colorbar\":{\"outlinewidth\":1,\"tickcolor\":\"rgb(36,36,36)\",\"ticks\":\"outside\"},\"colorscale\":[[0.0,\"#440154\"],[0.1111111111111111,\"#482878\"],[0.2222222222222222,\"#3e4989\"],[0.3333333333333333,\"#31688e\"],[0.4444444444444444,\"#26828e\"],[0.5555555555555556,\"#1f9e89\"],[0.6666666666666666,\"#35b779\"],[0.7777777777777778,\"#6ece58\"],[0.8888888888888888,\"#b5de2b\"],[1.0,\"#fde725\"]],\"type\":\"histogram2d\"}],\"histogram\":[{\"marker\":{\"line\":{\"color\":\"white\",\"width\":0.6}},\"type\":\"histogram\"}],\"mesh3d\":[{\"colorbar\":{\"outlinewidth\":1,\"tickcolor\":\"rgb(36,36,36)\",\"ticks\":\"outside\"},\"type\":\"mesh3d\"}],\"parcoords\":[{\"line\":{\"colorbar\":{\"outlinewidth\":1,\"tickcolor\":\"rgb(36,36,36)\",\"ticks\":\"outside\"}},\"type\":\"parcoords\"}],\"pie\":[{\"automargin\":true,\"type\":\"pie\"}],\"scatter3d\":[{\"line\":{\"colorbar\":{\"outlinewidth\":1,\"tickcolor\":\"rgb(36,36,36)\",\"ticks\":\"outside\"}},\"marker\":{\"colorbar\":{\"outlinewidth\":1,\"tickcolor\":\"rgb(36,36,36)\",\"ticks\":\"outside\"}},\"type\":\"scatter3d\"}],\"scattercarpet\":[{\"marker\":{\"colorbar\":{\"outlinewidth\":1,\"tickcolor\":\"rgb(36,36,36)\",\"ticks\":\"outside\"}},\"type\":\"scattercarpet\"}],\"scattergeo\":[{\"marker\":{\"colorbar\":{\"outlinewidth\":1,\"tickcolor\":\"rgb(36,36,36)\",\"ticks\":\"outside\"}},\"type\":\"scattergeo\"}],\"scattergl\":[{\"marker\":{\"colorbar\":{\"outlinewidth\":1,\"tickcolor\":\"rgb(36,36,36)\",\"ticks\":\"outside\"}},\"type\":\"scattergl\"}],\"scattermapbox\":[{\"marker\":{\"colorbar\":{\"outlinewidth\":1,\"tickcolor\":\"rgb(36,36,36)\",\"ticks\":\"outside\"}},\"type\":\"scattermapbox\"}],\"scatterpolargl\":[{\"marker\":{\"colorbar\":{\"outlinewidth\":1,\"tickcolor\":\"rgb(36,36,36)\",\"ticks\":\"outside\"}},\"type\":\"scatterpolargl\"}],\"scatterpolar\":[{\"marker\":{\"colorbar\":{\"outlinewidth\":1,\"tickcolor\":\"rgb(36,36,36)\",\"ticks\":\"outside\"}},\"type\":\"scatterpolar\"}],\"scatter\":[{\"fillpattern\":{\"fillmode\":\"overlay\",\"size\":10,\"solidity\":0.2},\"type\":\"scatter\"}],\"scatterternary\":[{\"marker\":{\"colorbar\":{\"outlinewidth\":1,\"tickcolor\":\"rgb(36,36,36)\",\"ticks\":\"outside\"}},\"type\":\"scatterternary\"}],\"surface\":[{\"colorbar\":{\"outlinewidth\":1,\"tickcolor\":\"rgb(36,36,36)\",\"ticks\":\"outside\"},\"colorscale\":[[0.0,\"#440154\"],[0.1111111111111111,\"#482878\"],[0.2222222222222222,\"#3e4989\"],[0.3333333333333333,\"#31688e\"],[0.4444444444444444,\"#26828e\"],[0.5555555555555556,\"#1f9e89\"],[0.6666666666666666,\"#35b779\"],[0.7777777777777778,\"#6ece58\"],[0.8888888888888888,\"#b5de2b\"],[1.0,\"#fde725\"]],\"type\":\"surface\"}],\"table\":[{\"cells\":{\"fill\":{\"color\":\"rgb(237,237,237)\"},\"line\":{\"color\":\"white\"}},\"header\":{\"fill\":{\"color\":\"rgb(217,217,217)\"},\"line\":{\"color\":\"white\"}},\"type\":\"table\"}]},\"layout\":{\"annotationdefaults\":{\"arrowhead\":0,\"arrowwidth\":1},\"autotypenumbers\":\"strict\",\"coloraxis\":{\"colorbar\":{\"outlinewidth\":1,\"tickcolor\":\"rgb(36,36,36)\",\"ticks\":\"outside\"}},\"colorscale\":{\"diverging\":[[0.0,\"rgb(103,0,31)\"],[0.1,\"rgb(178,24,43)\"],[0.2,\"rgb(214,96,77)\"],[0.3,\"rgb(244,165,130)\"],[0.4,\"rgb(253,219,199)\"],[0.5,\"rgb(247,247,247)\"],[0.6,\"rgb(209,229,240)\"],[0.7,\"rgb(146,197,222)\"],[0.8,\"rgb(67,147,195)\"],[0.9,\"rgb(33,102,172)\"],[1.0,\"rgb(5,48,97)\"]],\"sequential\":[[0.0,\"#440154\"],[0.1111111111111111,\"#482878\"],[0.2222222222222222,\"#3e4989\"],[0.3333333333333333,\"#31688e\"],[0.4444444444444444,\"#26828e\"],[0.5555555555555556,\"#1f9e89\"],[0.6666666666666666,\"#35b779\"],[0.7777777777777778,\"#6ece58\"],[0.8888888888888888,\"#b5de2b\"],[1.0,\"#fde725\"]],\"sequentialminus\":[[0.0,\"#440154\"],[0.1111111111111111,\"#482878\"],[0.2222222222222222,\"#3e4989\"],[0.3333333333333333,\"#31688e\"],[0.4444444444444444,\"#26828e\"],[0.5555555555555556,\"#1f9e89\"],[0.6666666666666666,\"#35b779\"],[0.7777777777777778,\"#6ece58\"],[0.8888888888888888,\"#b5de2b\"],[1.0,\"#fde725\"]]},\"colorway\":[\"#1F77B4\",\"#FF7F0E\",\"#2CA02C\",\"#D62728\",\"#9467BD\",\"#8C564B\",\"#E377C2\",\"#7F7F7F\",\"#BCBD22\",\"#17BECF\"],\"font\":{\"color\":\"rgb(36,36,36)\"},\"geo\":{\"bgcolor\":\"white\",\"lakecolor\":\"white\",\"landcolor\":\"white\",\"showlakes\":true,\"showland\":true,\"subunitcolor\":\"white\"},\"hoverlabel\":{\"align\":\"left\"},\"hovermode\":\"closest\",\"mapbox\":{\"style\":\"light\"},\"paper_bgcolor\":\"white\",\"plot_bgcolor\":\"white\",\"polar\":{\"angularaxis\":{\"gridcolor\":\"rgb(232,232,232)\",\"linecolor\":\"rgb(36,36,36)\",\"showgrid\":false,\"showline\":true,\"ticks\":\"outside\"},\"bgcolor\":\"white\",\"radialaxis\":{\"gridcolor\":\"rgb(232,232,232)\",\"linecolor\":\"rgb(36,36,36)\",\"showgrid\":false,\"showline\":true,\"ticks\":\"outside\"}},\"scene\":{\"xaxis\":{\"backgroundcolor\":\"white\",\"gridcolor\":\"rgb(232,232,232)\",\"gridwidth\":2,\"linecolor\":\"rgb(36,36,36)\",\"showbackground\":true,\"showgrid\":false,\"showline\":true,\"ticks\":\"outside\",\"zeroline\":false,\"zerolinecolor\":\"rgb(36,36,36)\"},\"yaxis\":{\"backgroundcolor\":\"white\",\"gridcolor\":\"rgb(232,232,232)\",\"gridwidth\":2,\"linecolor\":\"rgb(36,36,36)\",\"showbackground\":true,\"showgrid\":false,\"showline\":true,\"ticks\":\"outside\",\"zeroline\":false,\"zerolinecolor\":\"rgb(36,36,36)\"},\"zaxis\":{\"backgroundcolor\":\"white\",\"gridcolor\":\"rgb(232,232,232)\",\"gridwidth\":2,\"linecolor\":\"rgb(36,36,36)\",\"showbackground\":true,\"showgrid\":false,\"showline\":true,\"ticks\":\"outside\",\"zeroline\":false,\"zerolinecolor\":\"rgb(36,36,36)\"}},\"shapedefaults\":{\"fillcolor\":\"black\",\"line\":{\"width\":0},\"opacity\":0.3},\"ternary\":{\"aaxis\":{\"gridcolor\":\"rgb(232,232,232)\",\"linecolor\":\"rgb(36,36,36)\",\"showgrid\":false,\"showline\":true,\"ticks\":\"outside\"},\"baxis\":{\"gridcolor\":\"rgb(232,232,232)\",\"linecolor\":\"rgb(36,36,36)\",\"showgrid\":false,\"showline\":true,\"ticks\":\"outside\"},\"bgcolor\":\"white\",\"caxis\":{\"gridcolor\":\"rgb(232,232,232)\",\"linecolor\":\"rgb(36,36,36)\",\"showgrid\":false,\"showline\":true,\"ticks\":\"outside\"}},\"title\":{\"x\":0.05},\"xaxis\":{\"automargin\":true,\"gridcolor\":\"rgb(232,232,232)\",\"linecolor\":\"rgb(36,36,36)\",\"showgrid\":false,\"showline\":true,\"ticks\":\"outside\",\"title\":{\"standoff\":15},\"zeroline\":false,\"zerolinecolor\":\"rgb(36,36,36)\"},\"yaxis\":{\"automargin\":true,\"gridcolor\":\"rgb(232,232,232)\",\"linecolor\":\"rgb(36,36,36)\",\"showgrid\":false,\"showline\":true,\"ticks\":\"outside\",\"title\":{\"standoff\":15},\"zeroline\":false,\"zerolinecolor\":\"rgb(36,36,36)\"}}},\"xaxis\":{\"showgrid\":true},\"yaxis\":{\"showgrid\":true,\"title\":{\"text\":\"Frequency\"}},\"title\":{\"font\":{\"size\":22,\"color\":\"Black\"},\"text\":\"\\u003cb\\u003eTopics over Time\\u003c\\u002fb\\u003e\",\"y\":0.95,\"x\":0.4,\"xanchor\":\"center\",\"yanchor\":\"top\"},\"hoverlabel\":{\"font\":{\"size\":16,\"family\":\"Rockwell\"},\"bgcolor\":\"white\"},\"width\":1250,\"height\":450,\"legend\":{\"title\":{\"text\":\"\\u003cb\\u003eGlobal Topic Representation\"}}},                        {\"responsive\": true}                    )                };                            </script>        </div>"
      ],
      "text/plain": [
       "Figure({\n",
       "    'data': [{'hoverinfo': 'text',\n",
       "              'hovertext': [<b>Topic 0</b><br>Words: ai, humans, us, we, will,\n",
       "                            <b>Topic 0</b><br>Words: ai, will, system, humans, we,\n",
       "                            <b>Topic 0</b><br>Words: ai, we, us, will, humans,\n",
       "                            <b>Topic 0</b><br>Words: ai, humans, we, will, world,\n",
       "                            <b>Topic 0</b><br>Words: ai, automation, will, humans,\n",
       "                            transportation, <b>Topic 0</b><br>Words: ai, humans,\n",
       "                            will, we, be, <b>Topic 0</b><br>Words: ai, will,\n",
       "                            humans, we, be],\n",
       "              'marker': {'color': '#E69F00'},\n",
       "              'mode': 'lines',\n",
       "              'name': '0_ai_will_humans_we',\n",
       "              'type': 'scatter',\n",
       "              'x': array([datetime.datetime(2022, 5, 31, 18, 53, 16, 800000),\n",
       "                          datetime.datetime(2022, 7, 1, 10, 17, 8, 571428),\n",
       "                          datetime.datetime(2022, 7, 31, 20, 34, 17, 142857),\n",
       "                          datetime.datetime(2022, 8, 31, 6, 51, 25, 714285),\n",
       "                          datetime.datetime(2022, 9, 30, 17, 8, 34, 285714),\n",
       "                          datetime.datetime(2022, 10, 31, 3, 25, 42, 857142),\n",
       "                          datetime.datetime(2022, 11, 30, 13, 42, 51, 428571)], dtype=object),\n",
       "              'y': array([ 55,  91,  69,  56,  68,  79, 153], dtype=int64)},\n",
       "             {'hoverinfo': 'text',\n",
       "              'hovertext': [<b>Topic 1</b><br>Words: consciousness, conscious, we,\n",
       "                            nonlocal, of, <b>Topic 1</b><br>Words: consciousness,\n",
       "                            conscious, we, our, of, <b>Topic 1</b><br>Words:\n",
       "                            conscious, consciousness, inner, we, think, <b>Topic\n",
       "                            1</b><br>Words: consciousness, conscious, we, thought,\n",
       "                            subconscious, <b>Topic 1</b><br>Words: consciousness,\n",
       "                            conscious, we, is, of, <b>Topic 1</b><br>Words:\n",
       "                            consciousness, conscious, deterministic, perception,\n",
       "                            tngs, <b>Topic 1</b><br>Words: consciousness,\n",
       "                            conscious, brain, physical, as],\n",
       "              'marker': {'color': '#56B4E9'},\n",
       "              'mode': 'lines',\n",
       "              'name': '1_consciousness_conscious_we_of',\n",
       "              'type': 'scatter',\n",
       "              'x': array([datetime.datetime(2022, 5, 31, 18, 53, 16, 800000),\n",
       "                          datetime.datetime(2022, 7, 1, 10, 17, 8, 571428),\n",
       "                          datetime.datetime(2022, 7, 31, 20, 34, 17, 142857),\n",
       "                          datetime.datetime(2022, 8, 31, 6, 51, 25, 714285),\n",
       "                          datetime.datetime(2022, 9, 30, 17, 8, 34, 285714),\n",
       "                          datetime.datetime(2022, 10, 31, 3, 25, 42, 857142),\n",
       "                          datetime.datetime(2022, 11, 30, 13, 42, 51, 428571)], dtype=object),\n",
       "              'y': array([86, 64, 34, 14, 67, 15, 31], dtype=int64)},\n",
       "             {'hoverinfo': 'text',\n",
       "              'hovertext': [<b>Topic 2</b><br>Words: experiences, art, insane,\n",
       "                            outcome, ourselves, <b>Topic 2</b><br>Words: art,\n",
       "                            chess, better, artists, time, <b>Topic 2</b><br>Words:\n",
       "                            art, artists, digital, will, artist, <b>Topic\n",
       "                            2</b><br>Words: art, artists, artist, painting, will,\n",
       "                            <b>Topic 2</b><br>Words: art, artists, talent, artist,\n",
       "                            people, <b>Topic 2</b><br>Words: art, chess, creative,\n",
       "                            creativity, lifelike, <b>Topic 2</b><br>Words: art,\n",
       "                            artists, creative, artist, people],\n",
       "              'marker': {'color': '#009E73'},\n",
       "              'mode': 'lines',\n",
       "              'name': '2_art_artists_artist_creative',\n",
       "              'type': 'scatter',\n",
       "              'x': array([datetime.datetime(2022, 5, 31, 18, 53, 16, 800000),\n",
       "                          datetime.datetime(2022, 7, 1, 10, 17, 8, 571428),\n",
       "                          datetime.datetime(2022, 7, 31, 20, 34, 17, 142857),\n",
       "                          datetime.datetime(2022, 8, 31, 6, 51, 25, 714285),\n",
       "                          datetime.datetime(2022, 9, 30, 17, 8, 34, 285714),\n",
       "                          datetime.datetime(2022, 10, 31, 3, 25, 42, 857142),\n",
       "                          datetime.datetime(2022, 11, 30, 13, 42, 51, 428571)], dtype=object),\n",
       "              'y': array([ 4, 11, 26, 74, 19, 17, 69], dtype=int64)},\n",
       "             {'hoverinfo': 'text',\n",
       "              'hovertext': [<b>Topic 3</b><br>Words: utopia, money, machines,\n",
       "                            amount, jobs, <b>Topic 3</b><br>Words: wealth, money,\n",
       "                            jobs, prices, society, <b>Topic 3</b><br>Words: jobs,\n",
       "                            machines, money, printers, people, <b>Topic\n",
       "                            3</b><br>Words: horses, technology, tech, insane, fuck,\n",
       "                            <b>Topic 3</b><br>Words: trades, making, progress,\n",
       "                            corporations, push, <b>Topic 3</b><br>Words: starve,\n",
       "                            crop, society, 30, machines, <b>Topic 3</b><br>Words:\n",
       "                            machines, jobs, labor, wealth, work],\n",
       "              'marker': {'color': '#F0E442'},\n",
       "              'mode': 'lines',\n",
       "              'name': '3_machines_jobs_money_wealth',\n",
       "              'type': 'scatter',\n",
       "              'x': array([datetime.datetime(2022, 5, 31, 18, 53, 16, 800000),\n",
       "                          datetime.datetime(2022, 7, 1, 10, 17, 8, 571428),\n",
       "                          datetime.datetime(2022, 7, 31, 20, 34, 17, 142857),\n",
       "                          datetime.datetime(2022, 8, 31, 6, 51, 25, 714285),\n",
       "                          datetime.datetime(2022, 9, 30, 17, 8, 34, 285714),\n",
       "                          datetime.datetime(2022, 10, 31, 3, 25, 42, 857142),\n",
       "                          datetime.datetime(2022, 11, 30, 13, 42, 51, 428571)], dtype=object),\n",
       "              'y': array([21, 33, 29, 14, 11, 20, 73], dtype=int64)},\n",
       "             {'hoverinfo': 'text',\n",
       "              'hovertext': [<b>Topic 4</b><br>Words: ai, showing, gard,\n",
       "                            trainedfed, nate, <b>Topic 4</b><br>Words: pin,\n",
       "                            unpinned, clips, deleted, clip, <b>Topic\n",
       "                            4</b><br>Words: green, color, fruit, pea, pineapple,\n",
       "                            <b>Topic 4</b><br>Words: tile, agent, grid, clean,\n",
       "                            dirty, <b>Topic 4</b><br>Words: ai, how, works, we,\n",
       "                            methods, <b>Topic 4</b><br>Words: ai, folks,\n",
       "                            hahahahahaha, dangai, courtesies, <b>Topic\n",
       "                            4</b><br>Words: ai, knows, bulls, target, hit],\n",
       "              'marker': {'color': '#D55E00'},\n",
       "              'mode': 'lines',\n",
       "              'name': '4_ai_tile_agent_green',\n",
       "              'type': 'scatter',\n",
       "              'x': array([datetime.datetime(2022, 5, 31, 18, 53, 16, 800000),\n",
       "                          datetime.datetime(2022, 7, 1, 10, 17, 8, 571428),\n",
       "                          datetime.datetime(2022, 7, 31, 20, 34, 17, 142857),\n",
       "                          datetime.datetime(2022, 8, 31, 6, 51, 25, 714285),\n",
       "                          datetime.datetime(2022, 9, 30, 17, 8, 34, 285714),\n",
       "                          datetime.datetime(2022, 10, 31, 3, 25, 42, 857142),\n",
       "                          datetime.datetime(2022, 11, 30, 13, 42, 51, 428571)], dtype=object),\n",
       "              'y': array([17, 24, 21, 23, 34, 25, 54], dtype=int64)},\n",
       "             {'hoverinfo': 'text',\n",
       "              'hovertext': [<b>Topic 5</b><br>Words: agi, we, retirement, as, be,\n",
       "                            <b>Topic 5</b><br>Words: agi, we, will, tasks, any,\n",
       "                            <b>Topic 5</b><br>Words: agi, tasks, we, close, deep,\n",
       "                            <b>Topic 5</b><br>Words: agi, symbols, asi, general,\n",
       "                            suddenly, <b>Topic 5</b><br>Words: agi, approaches,\n",
       "                            approach, gtthe, system, <b>Topic 5</b><br>Words: agi,\n",
       "                            filter, space, hunger, animals, <b>Topic\n",
       "                            5</b><br>Words: agi, alien, we, control, will],\n",
       "              'marker': {'color': '#0072B2'},\n",
       "              'mode': 'lines',\n",
       "              'name': '5_agi_we_tasks_as',\n",
       "              'type': 'scatter',\n",
       "              'x': array([datetime.datetime(2022, 5, 31, 18, 53, 16, 800000),\n",
       "                          datetime.datetime(2022, 7, 1, 10, 17, 8, 571428),\n",
       "                          datetime.datetime(2022, 7, 31, 20, 34, 17, 142857),\n",
       "                          datetime.datetime(2022, 8, 31, 6, 51, 25, 714285),\n",
       "                          datetime.datetime(2022, 9, 30, 17, 8, 34, 285714),\n",
       "                          datetime.datetime(2022, 10, 31, 3, 25, 42, 857142),\n",
       "                          datetime.datetime(2022, 11, 30, 13, 42, 51, 428571)], dtype=object),\n",
       "              'y': array([36, 35, 17, 13, 10, 12, 28], dtype=int64)},\n",
       "             {'hoverinfo': 'text',\n",
       "              'hovertext': [<b>Topic 6</b><br>Words: virgins, neckbeard,\n",
       "                            theorists, grifter, mccartney, <b>Topic 6</b><br>Words:\n",
       "                            idiot, reddit, statement, hurts, psychopath, <b>Topic\n",
       "                            6</b><br>Words: conspiracy, joke, homophobic, jokes,\n",
       "                            landing, <b>Topic 6</b><br>Words: excuses, vegan,\n",
       "                            disagree, dumb, naive, <b>Topic 6</b><br>Words:\n",
       "                            sociopath, conspiracy, psychologist, greasy, virgin,\n",
       "                            <b>Topic 6</b><br>Words: responsibility, convenient,\n",
       "                            his, hangover, psychohistorian, <b>Topic\n",
       "                            6</b><br>Words: projecting, kanye, slippery, slope,\n",
       "                            obviously],\n",
       "              'marker': {'color': '#CC79A7'},\n",
       "              'mode': 'lines',\n",
       "              'name': '6_conspiracy_excuses_joke_you',\n",
       "              'type': 'scatter',\n",
       "              'x': array([datetime.datetime(2022, 5, 31, 18, 53, 16, 800000),\n",
       "                          datetime.datetime(2022, 7, 1, 10, 17, 8, 571428),\n",
       "                          datetime.datetime(2022, 7, 31, 20, 34, 17, 142857),\n",
       "                          datetime.datetime(2022, 8, 31, 6, 51, 25, 714285),\n",
       "                          datetime.datetime(2022, 9, 30, 17, 8, 34, 285714),\n",
       "                          datetime.datetime(2022, 10, 31, 3, 25, 42, 857142),\n",
       "                          datetime.datetime(2022, 11, 30, 13, 42, 51, 428571)], dtype=object),\n",
       "              'y': array([12, 19, 16, 16, 34,  7, 18], dtype=int64)},\n",
       "             {'hoverinfo': 'text',\n",
       "              'hovertext': [<b>Topic 7</b><br>Words: diffusion, disco, mj, stable,\n",
       "                            midjourney, <b>Topic 7</b><br>Words: diffusion, stable,\n",
       "                            de2,\n",
       "                            httpshuggingfacecospacesstabilityaistablediffusion,\n",
       "                            midjourney, <b>Topic 7</b><br>Words: diffusion, stable,\n",
       "                            midjourney, image, frame, <b>Topic 7</b><br>Words:\n",
       "                            diffusion, stable, midjourney, dalle2, run, <b>Topic\n",
       "                            7</b><br>Words: diffusion, stable, colab, use, locally,\n",
       "                            <b>Topic 7</b><br>Words: stable, diffusion, midjourney,\n",
       "                            ckpt, safetensors],\n",
       "              'marker': {'color': '#E69F00'},\n",
       "              'mode': 'lines',\n",
       "              'name': '7_diffusion_stable_midjourney_disco',\n",
       "              'type': 'scatter',\n",
       "              'x': array([datetime.datetime(2022, 5, 31, 18, 53, 16, 800000),\n",
       "                          datetime.datetime(2022, 7, 31, 20, 34, 17, 142857),\n",
       "                          datetime.datetime(2022, 8, 31, 6, 51, 25, 714285),\n",
       "                          datetime.datetime(2022, 9, 30, 17, 8, 34, 285714),\n",
       "                          datetime.datetime(2022, 10, 31, 3, 25, 42, 857142),\n",
       "                          datetime.datetime(2022, 11, 30, 13, 42, 51, 428571)], dtype=object),\n",
       "              'y': array([ 8, 12, 27, 20, 24, 30], dtype=int64)},\n",
       "             {'hoverinfo': 'text',\n",
       "              'hovertext': [<b>Topic 8</b><br>Words:\n",
       "                            httpseternalboxdevjukeboxindexhtml, synthesizerv,\n",
       "                            eternal, vocals, jukebox, <b>Topic 8</b><br>Words:\n",
       "                            music, songs, finalists, advertizing, synth, <b>Topic\n",
       "                            8</b><br>Words: music, song, composers, songs, jukebox,\n",
       "                            <b>Topic 8</b><br>Words: music, lyrics, songs, song,\n",
       "                            musician, <b>Topic 8</b><br>Words: music, song, songs,\n",
       "                            riaa, phonk, <b>Topic 8</b><br>Words: music, piano,\n",
       "                            sound, recipes, recognizes, <b>Topic 8</b><br>Words:\n",
       "                            music, lyrics, songs, song, musician],\n",
       "              'marker': {'color': '#56B4E9'},\n",
       "              'mode': 'lines',\n",
       "              'name': '8_music_songs_song_lyrics',\n",
       "              'type': 'scatter',\n",
       "              'x': array([datetime.datetime(2022, 5, 31, 18, 53, 16, 800000),\n",
       "                          datetime.datetime(2022, 7, 1, 10, 17, 8, 571428),\n",
       "                          datetime.datetime(2022, 7, 31, 20, 34, 17, 142857),\n",
       "                          datetime.datetime(2022, 8, 31, 6, 51, 25, 714285),\n",
       "                          datetime.datetime(2022, 9, 30, 17, 8, 34, 285714),\n",
       "                          datetime.datetime(2022, 10, 31, 3, 25, 42, 857142),\n",
       "                          datetime.datetime(2022, 11, 30, 13, 42, 51, 428571)], dtype=object),\n",
       "              'y': array([ 2,  7,  7, 26, 24, 12, 42], dtype=int64)},\n",
       "             {'hoverinfo': 'text',\n",
       "              'hovertext': [<b>Topic 9</b><br>Words: command, search, clarify,\n",
       "                            httpsopenaicomblogcodexappshttpsopenaicomblogcodexapps,\n",
       "                            httpsiamairoadmap, <b>Topic 9</b><br>Words: routines,\n",
       "                            commands, zoom, device, robot, <b>Topic 9</b><br>Words:\n",
       "                            ja, gticsl, murf, httpstmeinternlphttpstmeinternlp, yk,\n",
       "                            <b>Topic 9</b><br>Words: use, jokes, file, copyai, ai,\n",
       "                            <b>Topic 9</b><br>Words: gurps,\n",
       "                            toolshttpswwwaitoolsforcom, tagline, tools, ai,\n",
       "                            <b>Topic 9</b><br>Words: tools, am, ai, guys, topics,\n",
       "                            <b>Topic 9</b><br>Words: ai, interested, accessible,\n",
       "                            thanks, open],\n",
       "              'marker': {'color': '#009E73'},\n",
       "              'mode': 'lines',\n",
       "              'name': '9_ai_tools_use_your',\n",
       "              'type': 'scatter',\n",
       "              'x': array([datetime.datetime(2022, 5, 31, 18, 53, 16, 800000),\n",
       "                          datetime.datetime(2022, 7, 1, 10, 17, 8, 571428),\n",
       "                          datetime.datetime(2022, 7, 31, 20, 34, 17, 142857),\n",
       "                          datetime.datetime(2022, 8, 31, 6, 51, 25, 714285),\n",
       "                          datetime.datetime(2022, 9, 30, 17, 8, 34, 285714),\n",
       "                          datetime.datetime(2022, 10, 31, 3, 25, 42, 857142),\n",
       "                          datetime.datetime(2022, 11, 30, 13, 42, 51, 428571)], dtype=object),\n",
       "              'y': array([ 6,  9,  6, 19, 27, 19, 31], dtype=int64)}],\n",
       "    'layout': {'height': 450,\n",
       "               'hoverlabel': {'bgcolor': 'white', 'font': {'family': 'Rockwell', 'size': 16}},\n",
       "               'legend': {'title': {'text': '<b>Global Topic Representation'}},\n",
       "               'template': '...',\n",
       "               'title': {'font': {'color': 'Black', 'size': 22},\n",
       "                         'text': '<b>Topics over Time</b>',\n",
       "                         'x': 0.4,\n",
       "                         'xanchor': 'center',\n",
       "                         'y': 0.95,\n",
       "                         'yanchor': 'top'},\n",
       "               'width': 1250,\n",
       "               'xaxis': {'showgrid': True},\n",
       "               'yaxis': {'showgrid': True, 'title': {'text': 'Frequency'}}}\n",
       "})"
      ]
     },
     "execution_count": 24,
     "metadata": {},
     "output_type": "execute_result"
    }
   ],
   "source": [
    "# model.visualize_topics()\n",
    "# model.get_topic_info()\n",
    "\n",
    "new_topic_labels = {\n",
    "    0: \"AI and Humanity\",\n",
    "    1: \"Creative Arts with AI\",\n",
    "    2: \"Learning with AI\",\n",
    "    3: \"Music and AI\",\n",
    "    4: \"AI in Jobs and Economy\",\n",
    "    5: \"AI Research Discussions\",\n",
    "    6: \"Question-Answer Systems\",\n",
    "    7: \"AGI and Future\",\n",
    "    8: \"Chatbots and Conversations\",\n",
    "    9: \"Stable Diffusion and AI Art\",\n",
    "}\n",
    "\n",
    "\n",
    "topics_over_time = model.topics_over_time(comments['body'], comments['date'], nr_bins=7, datetime_format='%d, %m, %Y')\n",
    "model.set_topic_labels(new_topic_labels)\n",
    "\n",
    "model.visualize_topics_over_time(topics_over_time, top_n_topics=10)\n",
    "\n",
    "# model.visualize_topics_over_time(topics_over_time, top_n_topics=10)"
   ]
  },
  {
   "cell_type": "code",
   "execution_count": null,
   "id": "ffe89094-5804-4d55-a5b0-e620c6ab3537",
   "metadata": {},
   "outputs": [
    {
     "ename": "ValueError",
     "evalue": "Mime type rendering requires nbformat>=4.2.0 but it is not installed",
     "output_type": "error",
     "traceback": [
      "\u001b[1;31m---------------------------------------------------------------------------\u001b[0m",
      "\u001b[1;31mValueError\u001b[0m                                Traceback (most recent call last)",
      "File \u001b[1;32mc:\\TU Delft\\BSc WB4\\TI3160TU - Natural Language Processing\\Group Assignment\\NLPGroupProject\\.venv\\Lib\\site-packages\\IPython\\core\\formatters.py:984\u001b[0m, in \u001b[0;36mIPythonDisplayFormatter.__call__\u001b[1;34m(self, obj)\u001b[0m\n\u001b[0;32m    982\u001b[0m method \u001b[39m=\u001b[39m get_real_method(obj, \u001b[39mself\u001b[39m\u001b[39m.\u001b[39mprint_method)\n\u001b[0;32m    983\u001b[0m \u001b[39mif\u001b[39;00m method \u001b[39mis\u001b[39;00m \u001b[39mnot\u001b[39;00m \u001b[39mNone\u001b[39;00m:\n\u001b[1;32m--> 984\u001b[0m     method()\n\u001b[0;32m    985\u001b[0m     \u001b[39mreturn\u001b[39;00m \u001b[39mTrue\u001b[39;00m\n",
      "File \u001b[1;32mc:\\TU Delft\\BSc WB4\\TI3160TU - Natural Language Processing\\Group Assignment\\NLPGroupProject\\.venv\\Lib\\site-packages\\plotly\\basedatatypes.py:832\u001b[0m, in \u001b[0;36mBaseFigure._ipython_display_\u001b[1;34m(self)\u001b[0m\n\u001b[0;32m    829\u001b[0m \u001b[39mimport\u001b[39;00m \u001b[39mplotly\u001b[39;00m\u001b[39m.\u001b[39;00m\u001b[39mio\u001b[39;00m \u001b[39mas\u001b[39;00m \u001b[39mpio\u001b[39;00m\n\u001b[0;32m    831\u001b[0m \u001b[39mif\u001b[39;00m pio\u001b[39m.\u001b[39mrenderers\u001b[39m.\u001b[39mrender_on_display \u001b[39mand\u001b[39;00m pio\u001b[39m.\u001b[39mrenderers\u001b[39m.\u001b[39mdefault:\n\u001b[1;32m--> 832\u001b[0m     pio\u001b[39m.\u001b[39;49mshow(\u001b[39mself\u001b[39;49m)\n\u001b[0;32m    833\u001b[0m \u001b[39melse\u001b[39;00m:\n\u001b[0;32m    834\u001b[0m     \u001b[39mprint\u001b[39m(\u001b[39mrepr\u001b[39m(\u001b[39mself\u001b[39m))\n",
      "File \u001b[1;32mc:\\TU Delft\\BSc WB4\\TI3160TU - Natural Language Processing\\Group Assignment\\NLPGroupProject\\.venv\\Lib\\site-packages\\plotly\\io\\_renderers.py:394\u001b[0m, in \u001b[0;36mshow\u001b[1;34m(fig, renderer, validate, **kwargs)\u001b[0m\n\u001b[0;32m    389\u001b[0m         \u001b[39mraise\u001b[39;00m \u001b[39mValueError\u001b[39;00m(\n\u001b[0;32m    390\u001b[0m             \u001b[39m\"\u001b[39m\u001b[39mMime type rendering requires ipython but it is not installed\u001b[39m\u001b[39m\"\u001b[39m\n\u001b[0;32m    391\u001b[0m         )\n\u001b[0;32m    393\u001b[0m     \u001b[39mif\u001b[39;00m \u001b[39mnot\u001b[39;00m nbformat \u001b[39mor\u001b[39;00m Version(nbformat\u001b[39m.\u001b[39m__version__) \u001b[39m<\u001b[39m Version(\u001b[39m\"\u001b[39m\u001b[39m4.2.0\u001b[39m\u001b[39m\"\u001b[39m):\n\u001b[1;32m--> 394\u001b[0m         \u001b[39mraise\u001b[39;00m \u001b[39mValueError\u001b[39;00m(\n\u001b[0;32m    395\u001b[0m             \u001b[39m\"\u001b[39m\u001b[39mMime type rendering requires nbformat>=4.2.0 but it is not installed\u001b[39m\u001b[39m\"\u001b[39m\n\u001b[0;32m    396\u001b[0m         )\n\u001b[0;32m    398\u001b[0m     ipython_display\u001b[39m.\u001b[39mdisplay(bundle, raw\u001b[39m=\u001b[39m\u001b[39mTrue\u001b[39;00m)\n\u001b[0;32m    400\u001b[0m \u001b[39m# external renderers\u001b[39;00m\n",
      "\u001b[1;31mValueError\u001b[0m: Mime type rendering requires nbformat>=4.2.0 but it is not installed"
     ]
    },
    {
     "data": {
      "application/vnd.plotly.v1+json": {
       "config": {
        "plotlyServerURL": "https://plot.ly"
       },
       "data": [
        {
         "hoverinfo": "text",
         "hovertext": [
          "<b>Topic 0</b><br>Words: ai, humans, us, we, will",
          "<b>Topic 0</b><br>Words: ai, will, system, humans, we",
          "<b>Topic 0</b><br>Words: ai, we, us, will, humans",
          "<b>Topic 0</b><br>Words: ai, humans, we, will, world",
          "<b>Topic 0</b><br>Words: ai, automation, will, humans, transportation",
          "<b>Topic 0</b><br>Words: ai, humans, will, we, be",
          "<b>Topic 0</b><br>Words: ai, will, humans, we, be"
         ],
         "marker": {
          "color": "#E69F00"
         },
         "mode": "lines",
         "name": "0_ai_will_humans_we",
         "type": "scatter",
         "x": [
          "2022-05-31T18:53:16.800000",
          "2022-07-01T10:17:08.571428",
          "2022-07-31T20:34:17.142857",
          "2022-08-31T06:51:25.714285",
          "2022-09-30T17:08:34.285714",
          "2022-10-31T03:25:42.857142",
          "2022-11-30T13:42:51.428571"
         ],
         "y": [
          55,
          91,
          69,
          56,
          68,
          79,
          153
         ]
        },
        {
         "hoverinfo": "text",
         "hovertext": [
          "<b>Topic 1</b><br>Words: consciousness, conscious, we, nonlocal, of",
          "<b>Topic 1</b><br>Words: consciousness, conscious, we, our, of",
          "<b>Topic 1</b><br>Words: conscious, consciousness, inner, we, think",
          "<b>Topic 1</b><br>Words: consciousness, conscious, we, thought, subconscious",
          "<b>Topic 1</b><br>Words: consciousness, conscious, we, is, of",
          "<b>Topic 1</b><br>Words: consciousness, conscious, deterministic, perception, tngs",
          "<b>Topic 1</b><br>Words: consciousness, conscious, brain, physical, as"
         ],
         "marker": {
          "color": "#56B4E9"
         },
         "mode": "lines",
         "name": "1_consciousness_conscious_we_of",
         "type": "scatter",
         "x": [
          "2022-05-31T18:53:16.800000",
          "2022-07-01T10:17:08.571428",
          "2022-07-31T20:34:17.142857",
          "2022-08-31T06:51:25.714285",
          "2022-09-30T17:08:34.285714",
          "2022-10-31T03:25:42.857142",
          "2022-11-30T13:42:51.428571"
         ],
         "y": [
          86,
          64,
          34,
          14,
          67,
          15,
          31
         ]
        },
        {
         "hoverinfo": "text",
         "hovertext": [
          "<b>Topic 2</b><br>Words: experiences, art, insane, outcome, ourselves",
          "<b>Topic 2</b><br>Words: art, chess, better, artists, time",
          "<b>Topic 2</b><br>Words: art, artists, digital, will, artist",
          "<b>Topic 2</b><br>Words: art, artists, artist, painting, will",
          "<b>Topic 2</b><br>Words: art, artists, talent, artist, people",
          "<b>Topic 2</b><br>Words: art, chess, creative, creativity, lifelike",
          "<b>Topic 2</b><br>Words: art, artists, creative, artist, people"
         ],
         "marker": {
          "color": "#009E73"
         },
         "mode": "lines",
         "name": "2_art_artists_artist_creative",
         "type": "scatter",
         "x": [
          "2022-05-31T18:53:16.800000",
          "2022-07-01T10:17:08.571428",
          "2022-07-31T20:34:17.142857",
          "2022-08-31T06:51:25.714285",
          "2022-09-30T17:08:34.285714",
          "2022-10-31T03:25:42.857142",
          "2022-11-30T13:42:51.428571"
         ],
         "y": [
          4,
          11,
          26,
          74,
          19,
          17,
          69
         ]
        },
        {
         "hoverinfo": "text",
         "hovertext": [
          "<b>Topic 3</b><br>Words: utopia, money, machines, amount, jobs",
          "<b>Topic 3</b><br>Words: wealth, money, jobs, prices, society",
          "<b>Topic 3</b><br>Words: jobs, machines, money, printers, people",
          "<b>Topic 3</b><br>Words: horses, technology, tech, insane, fuck",
          "<b>Topic 3</b><br>Words: trades, making, progress, corporations, push",
          "<b>Topic 3</b><br>Words: starve, crop, society, 30, machines",
          "<b>Topic 3</b><br>Words: machines, jobs, labor, wealth, work"
         ],
         "marker": {
          "color": "#F0E442"
         },
         "mode": "lines",
         "name": "3_machines_jobs_money_wealth",
         "type": "scatter",
         "x": [
          "2022-05-31T18:53:16.800000",
          "2022-07-01T10:17:08.571428",
          "2022-07-31T20:34:17.142857",
          "2022-08-31T06:51:25.714285",
          "2022-09-30T17:08:34.285714",
          "2022-10-31T03:25:42.857142",
          "2022-11-30T13:42:51.428571"
         ],
         "y": [
          21,
          33,
          29,
          14,
          11,
          20,
          73
         ]
        },
        {
         "hoverinfo": "text",
         "hovertext": [
          "<b>Topic 4</b><br>Words: ai, showing, gard, trainedfed, nate",
          "<b>Topic 4</b><br>Words: pin, unpinned, clips, deleted, clip",
          "<b>Topic 4</b><br>Words: green, color, fruit, pea, pineapple",
          "<b>Topic 4</b><br>Words: tile, agent, grid, clean, dirty",
          "<b>Topic 4</b><br>Words: ai, how, works, we, methods",
          "<b>Topic 4</b><br>Words: ai, folks, hahahahahaha, dangai, courtesies",
          "<b>Topic 4</b><br>Words: ai, knows, bulls, target, hit"
         ],
         "marker": {
          "color": "#D55E00"
         },
         "mode": "lines",
         "name": "4_ai_tile_agent_green",
         "type": "scatter",
         "x": [
          "2022-05-31T18:53:16.800000",
          "2022-07-01T10:17:08.571428",
          "2022-07-31T20:34:17.142857",
          "2022-08-31T06:51:25.714285",
          "2022-09-30T17:08:34.285714",
          "2022-10-31T03:25:42.857142",
          "2022-11-30T13:42:51.428571"
         ],
         "y": [
          17,
          24,
          21,
          23,
          34,
          25,
          54
         ]
        }
       ],
       "layout": {
        "height": 450,
        "hoverlabel": {
         "bgcolor": "white",
         "font": {
          "family": "Rockwell",
          "size": 16
         }
        },
        "legend": {
         "title": {
          "text": "<b>Global Topic Representation"
         }
        },
        "template": {
         "data": {
          "bar": [
           {
            "error_x": {
             "color": "rgb(36,36,36)"
            },
            "error_y": {
             "color": "rgb(36,36,36)"
            },
            "marker": {
             "line": {
              "color": "white",
              "width": 0.5
             },
             "pattern": {
              "fillmode": "overlay",
              "size": 10,
              "solidity": 0.2
             }
            },
            "type": "bar"
           }
          ],
          "barpolar": [
           {
            "marker": {
             "line": {
              "color": "white",
              "width": 0.5
             },
             "pattern": {
              "fillmode": "overlay",
              "size": 10,
              "solidity": 0.2
             }
            },
            "type": "barpolar"
           }
          ],
          "carpet": [
           {
            "aaxis": {
             "endlinecolor": "rgb(36,36,36)",
             "gridcolor": "white",
             "linecolor": "white",
             "minorgridcolor": "white",
             "startlinecolor": "rgb(36,36,36)"
            },
            "baxis": {
             "endlinecolor": "rgb(36,36,36)",
             "gridcolor": "white",
             "linecolor": "white",
             "minorgridcolor": "white",
             "startlinecolor": "rgb(36,36,36)"
            },
            "type": "carpet"
           }
          ],
          "choropleth": [
           {
            "colorbar": {
             "outlinewidth": 1,
             "tickcolor": "rgb(36,36,36)",
             "ticks": "outside"
            },
            "type": "choropleth"
           }
          ],
          "contour": [
           {
            "colorbar": {
             "outlinewidth": 1,
             "tickcolor": "rgb(36,36,36)",
             "ticks": "outside"
            },
            "colorscale": [
             [
              0,
              "#440154"
             ],
             [
              0.1111111111111111,
              "#482878"
             ],
             [
              0.2222222222222222,
              "#3e4989"
             ],
             [
              0.3333333333333333,
              "#31688e"
             ],
             [
              0.4444444444444444,
              "#26828e"
             ],
             [
              0.5555555555555556,
              "#1f9e89"
             ],
             [
              0.6666666666666666,
              "#35b779"
             ],
             [
              0.7777777777777778,
              "#6ece58"
             ],
             [
              0.8888888888888888,
              "#b5de2b"
             ],
             [
              1,
              "#fde725"
             ]
            ],
            "type": "contour"
           }
          ],
          "contourcarpet": [
           {
            "colorbar": {
             "outlinewidth": 1,
             "tickcolor": "rgb(36,36,36)",
             "ticks": "outside"
            },
            "type": "contourcarpet"
           }
          ],
          "heatmap": [
           {
            "colorbar": {
             "outlinewidth": 1,
             "tickcolor": "rgb(36,36,36)",
             "ticks": "outside"
            },
            "colorscale": [
             [
              0,
              "#440154"
             ],
             [
              0.1111111111111111,
              "#482878"
             ],
             [
              0.2222222222222222,
              "#3e4989"
             ],
             [
              0.3333333333333333,
              "#31688e"
             ],
             [
              0.4444444444444444,
              "#26828e"
             ],
             [
              0.5555555555555556,
              "#1f9e89"
             ],
             [
              0.6666666666666666,
              "#35b779"
             ],
             [
              0.7777777777777778,
              "#6ece58"
             ],
             [
              0.8888888888888888,
              "#b5de2b"
             ],
             [
              1,
              "#fde725"
             ]
            ],
            "type": "heatmap"
           }
          ],
          "heatmapgl": [
           {
            "colorbar": {
             "outlinewidth": 1,
             "tickcolor": "rgb(36,36,36)",
             "ticks": "outside"
            },
            "colorscale": [
             [
              0,
              "#440154"
             ],
             [
              0.1111111111111111,
              "#482878"
             ],
             [
              0.2222222222222222,
              "#3e4989"
             ],
             [
              0.3333333333333333,
              "#31688e"
             ],
             [
              0.4444444444444444,
              "#26828e"
             ],
             [
              0.5555555555555556,
              "#1f9e89"
             ],
             [
              0.6666666666666666,
              "#35b779"
             ],
             [
              0.7777777777777778,
              "#6ece58"
             ],
             [
              0.8888888888888888,
              "#b5de2b"
             ],
             [
              1,
              "#fde725"
             ]
            ],
            "type": "heatmapgl"
           }
          ],
          "histogram": [
           {
            "marker": {
             "line": {
              "color": "white",
              "width": 0.6
             }
            },
            "type": "histogram"
           }
          ],
          "histogram2d": [
           {
            "colorbar": {
             "outlinewidth": 1,
             "tickcolor": "rgb(36,36,36)",
             "ticks": "outside"
            },
            "colorscale": [
             [
              0,
              "#440154"
             ],
             [
              0.1111111111111111,
              "#482878"
             ],
             [
              0.2222222222222222,
              "#3e4989"
             ],
             [
              0.3333333333333333,
              "#31688e"
             ],
             [
              0.4444444444444444,
              "#26828e"
             ],
             [
              0.5555555555555556,
              "#1f9e89"
             ],
             [
              0.6666666666666666,
              "#35b779"
             ],
             [
              0.7777777777777778,
              "#6ece58"
             ],
             [
              0.8888888888888888,
              "#b5de2b"
             ],
             [
              1,
              "#fde725"
             ]
            ],
            "type": "histogram2d"
           }
          ],
          "histogram2dcontour": [
           {
            "colorbar": {
             "outlinewidth": 1,
             "tickcolor": "rgb(36,36,36)",
             "ticks": "outside"
            },
            "colorscale": [
             [
              0,
              "#440154"
             ],
             [
              0.1111111111111111,
              "#482878"
             ],
             [
              0.2222222222222222,
              "#3e4989"
             ],
             [
              0.3333333333333333,
              "#31688e"
             ],
             [
              0.4444444444444444,
              "#26828e"
             ],
             [
              0.5555555555555556,
              "#1f9e89"
             ],
             [
              0.6666666666666666,
              "#35b779"
             ],
             [
              0.7777777777777778,
              "#6ece58"
             ],
             [
              0.8888888888888888,
              "#b5de2b"
             ],
             [
              1,
              "#fde725"
             ]
            ],
            "type": "histogram2dcontour"
           }
          ],
          "mesh3d": [
           {
            "colorbar": {
             "outlinewidth": 1,
             "tickcolor": "rgb(36,36,36)",
             "ticks": "outside"
            },
            "type": "mesh3d"
           }
          ],
          "parcoords": [
           {
            "line": {
             "colorbar": {
              "outlinewidth": 1,
              "tickcolor": "rgb(36,36,36)",
              "ticks": "outside"
             }
            },
            "type": "parcoords"
           }
          ],
          "pie": [
           {
            "automargin": true,
            "type": "pie"
           }
          ],
          "scatter": [
           {
            "fillpattern": {
             "fillmode": "overlay",
             "size": 10,
             "solidity": 0.2
            },
            "type": "scatter"
           }
          ],
          "scatter3d": [
           {
            "line": {
             "colorbar": {
              "outlinewidth": 1,
              "tickcolor": "rgb(36,36,36)",
              "ticks": "outside"
             }
            },
            "marker": {
             "colorbar": {
              "outlinewidth": 1,
              "tickcolor": "rgb(36,36,36)",
              "ticks": "outside"
             }
            },
            "type": "scatter3d"
           }
          ],
          "scattercarpet": [
           {
            "marker": {
             "colorbar": {
              "outlinewidth": 1,
              "tickcolor": "rgb(36,36,36)",
              "ticks": "outside"
             }
            },
            "type": "scattercarpet"
           }
          ],
          "scattergeo": [
           {
            "marker": {
             "colorbar": {
              "outlinewidth": 1,
              "tickcolor": "rgb(36,36,36)",
              "ticks": "outside"
             }
            },
            "type": "scattergeo"
           }
          ],
          "scattergl": [
           {
            "marker": {
             "colorbar": {
              "outlinewidth": 1,
              "tickcolor": "rgb(36,36,36)",
              "ticks": "outside"
             }
            },
            "type": "scattergl"
           }
          ],
          "scattermapbox": [
           {
            "marker": {
             "colorbar": {
              "outlinewidth": 1,
              "tickcolor": "rgb(36,36,36)",
              "ticks": "outside"
             }
            },
            "type": "scattermapbox"
           }
          ],
          "scatterpolar": [
           {
            "marker": {
             "colorbar": {
              "outlinewidth": 1,
              "tickcolor": "rgb(36,36,36)",
              "ticks": "outside"
             }
            },
            "type": "scatterpolar"
           }
          ],
          "scatterpolargl": [
           {
            "marker": {
             "colorbar": {
              "outlinewidth": 1,
              "tickcolor": "rgb(36,36,36)",
              "ticks": "outside"
             }
            },
            "type": "scatterpolargl"
           }
          ],
          "scatterternary": [
           {
            "marker": {
             "colorbar": {
              "outlinewidth": 1,
              "tickcolor": "rgb(36,36,36)",
              "ticks": "outside"
             }
            },
            "type": "scatterternary"
           }
          ],
          "surface": [
           {
            "colorbar": {
             "outlinewidth": 1,
             "tickcolor": "rgb(36,36,36)",
             "ticks": "outside"
            },
            "colorscale": [
             [
              0,
              "#440154"
             ],
             [
              0.1111111111111111,
              "#482878"
             ],
             [
              0.2222222222222222,
              "#3e4989"
             ],
             [
              0.3333333333333333,
              "#31688e"
             ],
             [
              0.4444444444444444,
              "#26828e"
             ],
             [
              0.5555555555555556,
              "#1f9e89"
             ],
             [
              0.6666666666666666,
              "#35b779"
             ],
             [
              0.7777777777777778,
              "#6ece58"
             ],
             [
              0.8888888888888888,
              "#b5de2b"
             ],
             [
              1,
              "#fde725"
             ]
            ],
            "type": "surface"
           }
          ],
          "table": [
           {
            "cells": {
             "fill": {
              "color": "rgb(237,237,237)"
             },
             "line": {
              "color": "white"
             }
            },
            "header": {
             "fill": {
              "color": "rgb(217,217,217)"
             },
             "line": {
              "color": "white"
             }
            },
            "type": "table"
           }
          ]
         },
         "layout": {
          "annotationdefaults": {
           "arrowhead": 0,
           "arrowwidth": 1
          },
          "autotypenumbers": "strict",
          "coloraxis": {
           "colorbar": {
            "outlinewidth": 1,
            "tickcolor": "rgb(36,36,36)",
            "ticks": "outside"
           }
          },
          "colorscale": {
           "diverging": [
            [
             0,
             "rgb(103,0,31)"
            ],
            [
             0.1,
             "rgb(178,24,43)"
            ],
            [
             0.2,
             "rgb(214,96,77)"
            ],
            [
             0.3,
             "rgb(244,165,130)"
            ],
            [
             0.4,
             "rgb(253,219,199)"
            ],
            [
             0.5,
             "rgb(247,247,247)"
            ],
            [
             0.6,
             "rgb(209,229,240)"
            ],
            [
             0.7,
             "rgb(146,197,222)"
            ],
            [
             0.8,
             "rgb(67,147,195)"
            ],
            [
             0.9,
             "rgb(33,102,172)"
            ],
            [
             1,
             "rgb(5,48,97)"
            ]
           ],
           "sequential": [
            [
             0,
             "#440154"
            ],
            [
             0.1111111111111111,
             "#482878"
            ],
            [
             0.2222222222222222,
             "#3e4989"
            ],
            [
             0.3333333333333333,
             "#31688e"
            ],
            [
             0.4444444444444444,
             "#26828e"
            ],
            [
             0.5555555555555556,
             "#1f9e89"
            ],
            [
             0.6666666666666666,
             "#35b779"
            ],
            [
             0.7777777777777778,
             "#6ece58"
            ],
            [
             0.8888888888888888,
             "#b5de2b"
            ],
            [
             1,
             "#fde725"
            ]
           ],
           "sequentialminus": [
            [
             0,
             "#440154"
            ],
            [
             0.1111111111111111,
             "#482878"
            ],
            [
             0.2222222222222222,
             "#3e4989"
            ],
            [
             0.3333333333333333,
             "#31688e"
            ],
            [
             0.4444444444444444,
             "#26828e"
            ],
            [
             0.5555555555555556,
             "#1f9e89"
            ],
            [
             0.6666666666666666,
             "#35b779"
            ],
            [
             0.7777777777777778,
             "#6ece58"
            ],
            [
             0.8888888888888888,
             "#b5de2b"
            ],
            [
             1,
             "#fde725"
            ]
           ]
          },
          "colorway": [
           "#1F77B4",
           "#FF7F0E",
           "#2CA02C",
           "#D62728",
           "#9467BD",
           "#8C564B",
           "#E377C2",
           "#7F7F7F",
           "#BCBD22",
           "#17BECF"
          ],
          "font": {
           "color": "rgb(36,36,36)"
          },
          "geo": {
           "bgcolor": "white",
           "lakecolor": "white",
           "landcolor": "white",
           "showlakes": true,
           "showland": true,
           "subunitcolor": "white"
          },
          "hoverlabel": {
           "align": "left"
          },
          "hovermode": "closest",
          "mapbox": {
           "style": "light"
          },
          "paper_bgcolor": "white",
          "plot_bgcolor": "white",
          "polar": {
           "angularaxis": {
            "gridcolor": "rgb(232,232,232)",
            "linecolor": "rgb(36,36,36)",
            "showgrid": false,
            "showline": true,
            "ticks": "outside"
           },
           "bgcolor": "white",
           "radialaxis": {
            "gridcolor": "rgb(232,232,232)",
            "linecolor": "rgb(36,36,36)",
            "showgrid": false,
            "showline": true,
            "ticks": "outside"
           }
          },
          "scene": {
           "xaxis": {
            "backgroundcolor": "white",
            "gridcolor": "rgb(232,232,232)",
            "gridwidth": 2,
            "linecolor": "rgb(36,36,36)",
            "showbackground": true,
            "showgrid": false,
            "showline": true,
            "ticks": "outside",
            "zeroline": false,
            "zerolinecolor": "rgb(36,36,36)"
           },
           "yaxis": {
            "backgroundcolor": "white",
            "gridcolor": "rgb(232,232,232)",
            "gridwidth": 2,
            "linecolor": "rgb(36,36,36)",
            "showbackground": true,
            "showgrid": false,
            "showline": true,
            "ticks": "outside",
            "zeroline": false,
            "zerolinecolor": "rgb(36,36,36)"
           },
           "zaxis": {
            "backgroundcolor": "white",
            "gridcolor": "rgb(232,232,232)",
            "gridwidth": 2,
            "linecolor": "rgb(36,36,36)",
            "showbackground": true,
            "showgrid": false,
            "showline": true,
            "ticks": "outside",
            "zeroline": false,
            "zerolinecolor": "rgb(36,36,36)"
           }
          },
          "shapedefaults": {
           "fillcolor": "black",
           "line": {
            "width": 0
           },
           "opacity": 0.3
          },
          "ternary": {
           "aaxis": {
            "gridcolor": "rgb(232,232,232)",
            "linecolor": "rgb(36,36,36)",
            "showgrid": false,
            "showline": true,
            "ticks": "outside"
           },
           "baxis": {
            "gridcolor": "rgb(232,232,232)",
            "linecolor": "rgb(36,36,36)",
            "showgrid": false,
            "showline": true,
            "ticks": "outside"
           },
           "bgcolor": "white",
           "caxis": {
            "gridcolor": "rgb(232,232,232)",
            "linecolor": "rgb(36,36,36)",
            "showgrid": false,
            "showline": true,
            "ticks": "outside"
           }
          },
          "title": {
           "x": 0.05
          },
          "xaxis": {
           "automargin": true,
           "gridcolor": "rgb(232,232,232)",
           "linecolor": "rgb(36,36,36)",
           "showgrid": false,
           "showline": true,
           "ticks": "outside",
           "title": {
            "standoff": 15
           },
           "zeroline": false,
           "zerolinecolor": "rgb(36,36,36)"
          },
          "yaxis": {
           "automargin": true,
           "gridcolor": "rgb(232,232,232)",
           "linecolor": "rgb(36,36,36)",
           "showgrid": false,
           "showline": true,
           "ticks": "outside",
           "title": {
            "standoff": 15
           },
           "zeroline": false,
           "zerolinecolor": "rgb(36,36,36)"
          }
         }
        },
        "title": {
         "font": {
          "color": "Black",
          "size": 22
         },
         "text": "<b>Topics over Time</b>",
         "x": 0.4,
         "xanchor": "center",
         "y": 0.95,
         "yanchor": "top"
        },
        "width": 1250,
        "xaxis": {
         "showgrid": true
        },
        "yaxis": {
         "showgrid": true,
         "title": {
          "text": "Frequency"
         }
        }
       }
      },
      "text/html": [
       "<div>                        <script type=\"text/javascript\">window.PlotlyConfig = {MathJaxConfig: 'local'};</script>\n",
       "        <script charset=\"utf-8\" src=\"https://cdn.plot.ly/plotly-2.35.2.min.js\"></script>                <div id=\"9f87637a-8edd-4a0d-a41e-efa12c6f26be\" class=\"plotly-graph-div\" style=\"height:450px; width:1250px;\"></div>            <script type=\"text/javascript\">                                    window.PLOTLYENV=window.PLOTLYENV || {};                                    if (document.getElementById(\"9f87637a-8edd-4a0d-a41e-efa12c6f26be\")) {                    Plotly.newPlot(                        \"9f87637a-8edd-4a0d-a41e-efa12c6f26be\",                        [{\"hoverinfo\":\"text\",\"hovertext\":[\"\\u003cb\\u003eTopic 0\\u003c\\u002fb\\u003e\\u003cbr\\u003eWords: ai, humans, us, we, will\",\"\\u003cb\\u003eTopic 0\\u003c\\u002fb\\u003e\\u003cbr\\u003eWords: ai, will, system, humans, we\",\"\\u003cb\\u003eTopic 0\\u003c\\u002fb\\u003e\\u003cbr\\u003eWords: ai, we, us, will, humans\",\"\\u003cb\\u003eTopic 0\\u003c\\u002fb\\u003e\\u003cbr\\u003eWords: ai, humans, we, will, world\",\"\\u003cb\\u003eTopic 0\\u003c\\u002fb\\u003e\\u003cbr\\u003eWords: ai, automation, will, humans, transportation\",\"\\u003cb\\u003eTopic 0\\u003c\\u002fb\\u003e\\u003cbr\\u003eWords: ai, humans, will, we, be\",\"\\u003cb\\u003eTopic 0\\u003c\\u002fb\\u003e\\u003cbr\\u003eWords: ai, will, humans, we, be\"],\"marker\":{\"color\":\"#E69F00\"},\"mode\":\"lines\",\"name\":\"0_ai_will_humans_we\",\"x\":[\"2022-05-31T18:53:16.800000\",\"2022-07-01T10:17:08.571428\",\"2022-07-31T20:34:17.142857\",\"2022-08-31T06:51:25.714285\",\"2022-09-30T17:08:34.285714\",\"2022-10-31T03:25:42.857142\",\"2022-11-30T13:42:51.428571\"],\"y\":[55,91,69,56,68,79,153],\"type\":\"scatter\"},{\"hoverinfo\":\"text\",\"hovertext\":[\"\\u003cb\\u003eTopic 1\\u003c\\u002fb\\u003e\\u003cbr\\u003eWords: consciousness, conscious, we, nonlocal, of\",\"\\u003cb\\u003eTopic 1\\u003c\\u002fb\\u003e\\u003cbr\\u003eWords: consciousness, conscious, we, our, of\",\"\\u003cb\\u003eTopic 1\\u003c\\u002fb\\u003e\\u003cbr\\u003eWords: conscious, consciousness, inner, we, think\",\"\\u003cb\\u003eTopic 1\\u003c\\u002fb\\u003e\\u003cbr\\u003eWords: consciousness, conscious, we, thought, subconscious\",\"\\u003cb\\u003eTopic 1\\u003c\\u002fb\\u003e\\u003cbr\\u003eWords: consciousness, conscious, we, is, of\",\"\\u003cb\\u003eTopic 1\\u003c\\u002fb\\u003e\\u003cbr\\u003eWords: consciousness, conscious, deterministic, perception, tngs\",\"\\u003cb\\u003eTopic 1\\u003c\\u002fb\\u003e\\u003cbr\\u003eWords: consciousness, conscious, brain, physical, as\"],\"marker\":{\"color\":\"#56B4E9\"},\"mode\":\"lines\",\"name\":\"1_consciousness_conscious_we_of\",\"x\":[\"2022-05-31T18:53:16.800000\",\"2022-07-01T10:17:08.571428\",\"2022-07-31T20:34:17.142857\",\"2022-08-31T06:51:25.714285\",\"2022-09-30T17:08:34.285714\",\"2022-10-31T03:25:42.857142\",\"2022-11-30T13:42:51.428571\"],\"y\":[86,64,34,14,67,15,31],\"type\":\"scatter\"},{\"hoverinfo\":\"text\",\"hovertext\":[\"\\u003cb\\u003eTopic 2\\u003c\\u002fb\\u003e\\u003cbr\\u003eWords: experiences, art, insane, outcome, ourselves\",\"\\u003cb\\u003eTopic 2\\u003c\\u002fb\\u003e\\u003cbr\\u003eWords: art, chess, better, artists, time\",\"\\u003cb\\u003eTopic 2\\u003c\\u002fb\\u003e\\u003cbr\\u003eWords: art, artists, digital, will, artist\",\"\\u003cb\\u003eTopic 2\\u003c\\u002fb\\u003e\\u003cbr\\u003eWords: art, artists, artist, painting, will\",\"\\u003cb\\u003eTopic 2\\u003c\\u002fb\\u003e\\u003cbr\\u003eWords: art, artists, talent, artist, people\",\"\\u003cb\\u003eTopic 2\\u003c\\u002fb\\u003e\\u003cbr\\u003eWords: art, chess, creative, creativity, lifelike\",\"\\u003cb\\u003eTopic 2\\u003c\\u002fb\\u003e\\u003cbr\\u003eWords: art, artists, creative, artist, people\"],\"marker\":{\"color\":\"#009E73\"},\"mode\":\"lines\",\"name\":\"2_art_artists_artist_creative\",\"x\":[\"2022-05-31T18:53:16.800000\",\"2022-07-01T10:17:08.571428\",\"2022-07-31T20:34:17.142857\",\"2022-08-31T06:51:25.714285\",\"2022-09-30T17:08:34.285714\",\"2022-10-31T03:25:42.857142\",\"2022-11-30T13:42:51.428571\"],\"y\":[4,11,26,74,19,17,69],\"type\":\"scatter\"},{\"hoverinfo\":\"text\",\"hovertext\":[\"\\u003cb\\u003eTopic 3\\u003c\\u002fb\\u003e\\u003cbr\\u003eWords: utopia, money, machines, amount, jobs\",\"\\u003cb\\u003eTopic 3\\u003c\\u002fb\\u003e\\u003cbr\\u003eWords: wealth, money, jobs, prices, society\",\"\\u003cb\\u003eTopic 3\\u003c\\u002fb\\u003e\\u003cbr\\u003eWords: jobs, machines, money, printers, people\",\"\\u003cb\\u003eTopic 3\\u003c\\u002fb\\u003e\\u003cbr\\u003eWords: horses, technology, tech, insane, fuck\",\"\\u003cb\\u003eTopic 3\\u003c\\u002fb\\u003e\\u003cbr\\u003eWords: trades, making, progress, corporations, push\",\"\\u003cb\\u003eTopic 3\\u003c\\u002fb\\u003e\\u003cbr\\u003eWords: starve, crop, society, 30, machines\",\"\\u003cb\\u003eTopic 3\\u003c\\u002fb\\u003e\\u003cbr\\u003eWords: machines, jobs, labor, wealth, work\"],\"marker\":{\"color\":\"#F0E442\"},\"mode\":\"lines\",\"name\":\"3_machines_jobs_money_wealth\",\"x\":[\"2022-05-31T18:53:16.800000\",\"2022-07-01T10:17:08.571428\",\"2022-07-31T20:34:17.142857\",\"2022-08-31T06:51:25.714285\",\"2022-09-30T17:08:34.285714\",\"2022-10-31T03:25:42.857142\",\"2022-11-30T13:42:51.428571\"],\"y\":[21,33,29,14,11,20,73],\"type\":\"scatter\"},{\"hoverinfo\":\"text\",\"hovertext\":[\"\\u003cb\\u003eTopic 4\\u003c\\u002fb\\u003e\\u003cbr\\u003eWords: ai, showing, gard, trainedfed, nate\",\"\\u003cb\\u003eTopic 4\\u003c\\u002fb\\u003e\\u003cbr\\u003eWords: pin, unpinned, clips, deleted, clip\",\"\\u003cb\\u003eTopic 4\\u003c\\u002fb\\u003e\\u003cbr\\u003eWords: green, color, fruit, pea, pineapple\",\"\\u003cb\\u003eTopic 4\\u003c\\u002fb\\u003e\\u003cbr\\u003eWords: tile, agent, grid, clean, dirty\",\"\\u003cb\\u003eTopic 4\\u003c\\u002fb\\u003e\\u003cbr\\u003eWords: ai, how, works, we, methods\",\"\\u003cb\\u003eTopic 4\\u003c\\u002fb\\u003e\\u003cbr\\u003eWords: ai, folks, hahahahahaha, dangai, courtesies\",\"\\u003cb\\u003eTopic 4\\u003c\\u002fb\\u003e\\u003cbr\\u003eWords: ai, knows, bulls, target, hit\"],\"marker\":{\"color\":\"#D55E00\"},\"mode\":\"lines\",\"name\":\"4_ai_tile_agent_green\",\"x\":[\"2022-05-31T18:53:16.800000\",\"2022-07-01T10:17:08.571428\",\"2022-07-31T20:34:17.142857\",\"2022-08-31T06:51:25.714285\",\"2022-09-30T17:08:34.285714\",\"2022-10-31T03:25:42.857142\",\"2022-11-30T13:42:51.428571\"],\"y\":[17,24,21,23,34,25,54],\"type\":\"scatter\"}],                        {\"template\":{\"data\":{\"barpolar\":[{\"marker\":{\"line\":{\"color\":\"white\",\"width\":0.5},\"pattern\":{\"fillmode\":\"overlay\",\"size\":10,\"solidity\":0.2}},\"type\":\"barpolar\"}],\"bar\":[{\"error_x\":{\"color\":\"rgb(36,36,36)\"},\"error_y\":{\"color\":\"rgb(36,36,36)\"},\"marker\":{\"line\":{\"color\":\"white\",\"width\":0.5},\"pattern\":{\"fillmode\":\"overlay\",\"size\":10,\"solidity\":0.2}},\"type\":\"bar\"}],\"carpet\":[{\"aaxis\":{\"endlinecolor\":\"rgb(36,36,36)\",\"gridcolor\":\"white\",\"linecolor\":\"white\",\"minorgridcolor\":\"white\",\"startlinecolor\":\"rgb(36,36,36)\"},\"baxis\":{\"endlinecolor\":\"rgb(36,36,36)\",\"gridcolor\":\"white\",\"linecolor\":\"white\",\"minorgridcolor\":\"white\",\"startlinecolor\":\"rgb(36,36,36)\"},\"type\":\"carpet\"}],\"choropleth\":[{\"colorbar\":{\"outlinewidth\":1,\"tickcolor\":\"rgb(36,36,36)\",\"ticks\":\"outside\"},\"type\":\"choropleth\"}],\"contourcarpet\":[{\"colorbar\":{\"outlinewidth\":1,\"tickcolor\":\"rgb(36,36,36)\",\"ticks\":\"outside\"},\"type\":\"contourcarpet\"}],\"contour\":[{\"colorbar\":{\"outlinewidth\":1,\"tickcolor\":\"rgb(36,36,36)\",\"ticks\":\"outside\"},\"colorscale\":[[0.0,\"#440154\"],[0.1111111111111111,\"#482878\"],[0.2222222222222222,\"#3e4989\"],[0.3333333333333333,\"#31688e\"],[0.4444444444444444,\"#26828e\"],[0.5555555555555556,\"#1f9e89\"],[0.6666666666666666,\"#35b779\"],[0.7777777777777778,\"#6ece58\"],[0.8888888888888888,\"#b5de2b\"],[1.0,\"#fde725\"]],\"type\":\"contour\"}],\"heatmapgl\":[{\"colorbar\":{\"outlinewidth\":1,\"tickcolor\":\"rgb(36,36,36)\",\"ticks\":\"outside\"},\"colorscale\":[[0.0,\"#440154\"],[0.1111111111111111,\"#482878\"],[0.2222222222222222,\"#3e4989\"],[0.3333333333333333,\"#31688e\"],[0.4444444444444444,\"#26828e\"],[0.5555555555555556,\"#1f9e89\"],[0.6666666666666666,\"#35b779\"],[0.7777777777777778,\"#6ece58\"],[0.8888888888888888,\"#b5de2b\"],[1.0,\"#fde725\"]],\"type\":\"heatmapgl\"}],\"heatmap\":[{\"colorbar\":{\"outlinewidth\":1,\"tickcolor\":\"rgb(36,36,36)\",\"ticks\":\"outside\"},\"colorscale\":[[0.0,\"#440154\"],[0.1111111111111111,\"#482878\"],[0.2222222222222222,\"#3e4989\"],[0.3333333333333333,\"#31688e\"],[0.4444444444444444,\"#26828e\"],[0.5555555555555556,\"#1f9e89\"],[0.6666666666666666,\"#35b779\"],[0.7777777777777778,\"#6ece58\"],[0.8888888888888888,\"#b5de2b\"],[1.0,\"#fde725\"]],\"type\":\"heatmap\"}],\"histogram2dcontour\":[{\"colorbar\":{\"outlinewidth\":1,\"tickcolor\":\"rgb(36,36,36)\",\"ticks\":\"outside\"},\"colorscale\":[[0.0,\"#440154\"],[0.1111111111111111,\"#482878\"],[0.2222222222222222,\"#3e4989\"],[0.3333333333333333,\"#31688e\"],[0.4444444444444444,\"#26828e\"],[0.5555555555555556,\"#1f9e89\"],[0.6666666666666666,\"#35b779\"],[0.7777777777777778,\"#6ece58\"],[0.8888888888888888,\"#b5de2b\"],[1.0,\"#fde725\"]],\"type\":\"histogram2dcontour\"}],\"histogram2d\":[{\"colorbar\":{\"outlinewidth\":1,\"tickcolor\":\"rgb(36,36,36)\",\"ticks\":\"outside\"},\"colorscale\":[[0.0,\"#440154\"],[0.1111111111111111,\"#482878\"],[0.2222222222222222,\"#3e4989\"],[0.3333333333333333,\"#31688e\"],[0.4444444444444444,\"#26828e\"],[0.5555555555555556,\"#1f9e89\"],[0.6666666666666666,\"#35b779\"],[0.7777777777777778,\"#6ece58\"],[0.8888888888888888,\"#b5de2b\"],[1.0,\"#fde725\"]],\"type\":\"histogram2d\"}],\"histogram\":[{\"marker\":{\"line\":{\"color\":\"white\",\"width\":0.6}},\"type\":\"histogram\"}],\"mesh3d\":[{\"colorbar\":{\"outlinewidth\":1,\"tickcolor\":\"rgb(36,36,36)\",\"ticks\":\"outside\"},\"type\":\"mesh3d\"}],\"parcoords\":[{\"line\":{\"colorbar\":{\"outlinewidth\":1,\"tickcolor\":\"rgb(36,36,36)\",\"ticks\":\"outside\"}},\"type\":\"parcoords\"}],\"pie\":[{\"automargin\":true,\"type\":\"pie\"}],\"scatter3d\":[{\"line\":{\"colorbar\":{\"outlinewidth\":1,\"tickcolor\":\"rgb(36,36,36)\",\"ticks\":\"outside\"}},\"marker\":{\"colorbar\":{\"outlinewidth\":1,\"tickcolor\":\"rgb(36,36,36)\",\"ticks\":\"outside\"}},\"type\":\"scatter3d\"}],\"scattercarpet\":[{\"marker\":{\"colorbar\":{\"outlinewidth\":1,\"tickcolor\":\"rgb(36,36,36)\",\"ticks\":\"outside\"}},\"type\":\"scattercarpet\"}],\"scattergeo\":[{\"marker\":{\"colorbar\":{\"outlinewidth\":1,\"tickcolor\":\"rgb(36,36,36)\",\"ticks\":\"outside\"}},\"type\":\"scattergeo\"}],\"scattergl\":[{\"marker\":{\"colorbar\":{\"outlinewidth\":1,\"tickcolor\":\"rgb(36,36,36)\",\"ticks\":\"outside\"}},\"type\":\"scattergl\"}],\"scattermapbox\":[{\"marker\":{\"colorbar\":{\"outlinewidth\":1,\"tickcolor\":\"rgb(36,36,36)\",\"ticks\":\"outside\"}},\"type\":\"scattermapbox\"}],\"scatterpolargl\":[{\"marker\":{\"colorbar\":{\"outlinewidth\":1,\"tickcolor\":\"rgb(36,36,36)\",\"ticks\":\"outside\"}},\"type\":\"scatterpolargl\"}],\"scatterpolar\":[{\"marker\":{\"colorbar\":{\"outlinewidth\":1,\"tickcolor\":\"rgb(36,36,36)\",\"ticks\":\"outside\"}},\"type\":\"scatterpolar\"}],\"scatter\":[{\"fillpattern\":{\"fillmode\":\"overlay\",\"size\":10,\"solidity\":0.2},\"type\":\"scatter\"}],\"scatterternary\":[{\"marker\":{\"colorbar\":{\"outlinewidth\":1,\"tickcolor\":\"rgb(36,36,36)\",\"ticks\":\"outside\"}},\"type\":\"scatterternary\"}],\"surface\":[{\"colorbar\":{\"outlinewidth\":1,\"tickcolor\":\"rgb(36,36,36)\",\"ticks\":\"outside\"},\"colorscale\":[[0.0,\"#440154\"],[0.1111111111111111,\"#482878\"],[0.2222222222222222,\"#3e4989\"],[0.3333333333333333,\"#31688e\"],[0.4444444444444444,\"#26828e\"],[0.5555555555555556,\"#1f9e89\"],[0.6666666666666666,\"#35b779\"],[0.7777777777777778,\"#6ece58\"],[0.8888888888888888,\"#b5de2b\"],[1.0,\"#fde725\"]],\"type\":\"surface\"}],\"table\":[{\"cells\":{\"fill\":{\"color\":\"rgb(237,237,237)\"},\"line\":{\"color\":\"white\"}},\"header\":{\"fill\":{\"color\":\"rgb(217,217,217)\"},\"line\":{\"color\":\"white\"}},\"type\":\"table\"}]},\"layout\":{\"annotationdefaults\":{\"arrowhead\":0,\"arrowwidth\":1},\"autotypenumbers\":\"strict\",\"coloraxis\":{\"colorbar\":{\"outlinewidth\":1,\"tickcolor\":\"rgb(36,36,36)\",\"ticks\":\"outside\"}},\"colorscale\":{\"diverging\":[[0.0,\"rgb(103,0,31)\"],[0.1,\"rgb(178,24,43)\"],[0.2,\"rgb(214,96,77)\"],[0.3,\"rgb(244,165,130)\"],[0.4,\"rgb(253,219,199)\"],[0.5,\"rgb(247,247,247)\"],[0.6,\"rgb(209,229,240)\"],[0.7,\"rgb(146,197,222)\"],[0.8,\"rgb(67,147,195)\"],[0.9,\"rgb(33,102,172)\"],[1.0,\"rgb(5,48,97)\"]],\"sequential\":[[0.0,\"#440154\"],[0.1111111111111111,\"#482878\"],[0.2222222222222222,\"#3e4989\"],[0.3333333333333333,\"#31688e\"],[0.4444444444444444,\"#26828e\"],[0.5555555555555556,\"#1f9e89\"],[0.6666666666666666,\"#35b779\"],[0.7777777777777778,\"#6ece58\"],[0.8888888888888888,\"#b5de2b\"],[1.0,\"#fde725\"]],\"sequentialminus\":[[0.0,\"#440154\"],[0.1111111111111111,\"#482878\"],[0.2222222222222222,\"#3e4989\"],[0.3333333333333333,\"#31688e\"],[0.4444444444444444,\"#26828e\"],[0.5555555555555556,\"#1f9e89\"],[0.6666666666666666,\"#35b779\"],[0.7777777777777778,\"#6ece58\"],[0.8888888888888888,\"#b5de2b\"],[1.0,\"#fde725\"]]},\"colorway\":[\"#1F77B4\",\"#FF7F0E\",\"#2CA02C\",\"#D62728\",\"#9467BD\",\"#8C564B\",\"#E377C2\",\"#7F7F7F\",\"#BCBD22\",\"#17BECF\"],\"font\":{\"color\":\"rgb(36,36,36)\"},\"geo\":{\"bgcolor\":\"white\",\"lakecolor\":\"white\",\"landcolor\":\"white\",\"showlakes\":true,\"showland\":true,\"subunitcolor\":\"white\"},\"hoverlabel\":{\"align\":\"left\"},\"hovermode\":\"closest\",\"mapbox\":{\"style\":\"light\"},\"paper_bgcolor\":\"white\",\"plot_bgcolor\":\"white\",\"polar\":{\"angularaxis\":{\"gridcolor\":\"rgb(232,232,232)\",\"linecolor\":\"rgb(36,36,36)\",\"showgrid\":false,\"showline\":true,\"ticks\":\"outside\"},\"bgcolor\":\"white\",\"radialaxis\":{\"gridcolor\":\"rgb(232,232,232)\",\"linecolor\":\"rgb(36,36,36)\",\"showgrid\":false,\"showline\":true,\"ticks\":\"outside\"}},\"scene\":{\"xaxis\":{\"backgroundcolor\":\"white\",\"gridcolor\":\"rgb(232,232,232)\",\"gridwidth\":2,\"linecolor\":\"rgb(36,36,36)\",\"showbackground\":true,\"showgrid\":false,\"showline\":true,\"ticks\":\"outside\",\"zeroline\":false,\"zerolinecolor\":\"rgb(36,36,36)\"},\"yaxis\":{\"backgroundcolor\":\"white\",\"gridcolor\":\"rgb(232,232,232)\",\"gridwidth\":2,\"linecolor\":\"rgb(36,36,36)\",\"showbackground\":true,\"showgrid\":false,\"showline\":true,\"ticks\":\"outside\",\"zeroline\":false,\"zerolinecolor\":\"rgb(36,36,36)\"},\"zaxis\":{\"backgroundcolor\":\"white\",\"gridcolor\":\"rgb(232,232,232)\",\"gridwidth\":2,\"linecolor\":\"rgb(36,36,36)\",\"showbackground\":true,\"showgrid\":false,\"showline\":true,\"ticks\":\"outside\",\"zeroline\":false,\"zerolinecolor\":\"rgb(36,36,36)\"}},\"shapedefaults\":{\"fillcolor\":\"black\",\"line\":{\"width\":0},\"opacity\":0.3},\"ternary\":{\"aaxis\":{\"gridcolor\":\"rgb(232,232,232)\",\"linecolor\":\"rgb(36,36,36)\",\"showgrid\":false,\"showline\":true,\"ticks\":\"outside\"},\"baxis\":{\"gridcolor\":\"rgb(232,232,232)\",\"linecolor\":\"rgb(36,36,36)\",\"showgrid\":false,\"showline\":true,\"ticks\":\"outside\"},\"bgcolor\":\"white\",\"caxis\":{\"gridcolor\":\"rgb(232,232,232)\",\"linecolor\":\"rgb(36,36,36)\",\"showgrid\":false,\"showline\":true,\"ticks\":\"outside\"}},\"title\":{\"x\":0.05},\"xaxis\":{\"automargin\":true,\"gridcolor\":\"rgb(232,232,232)\",\"linecolor\":\"rgb(36,36,36)\",\"showgrid\":false,\"showline\":true,\"ticks\":\"outside\",\"title\":{\"standoff\":15},\"zeroline\":false,\"zerolinecolor\":\"rgb(36,36,36)\"},\"yaxis\":{\"automargin\":true,\"gridcolor\":\"rgb(232,232,232)\",\"linecolor\":\"rgb(36,36,36)\",\"showgrid\":false,\"showline\":true,\"ticks\":\"outside\",\"title\":{\"standoff\":15},\"zeroline\":false,\"zerolinecolor\":\"rgb(36,36,36)\"}}},\"xaxis\":{\"showgrid\":true},\"yaxis\":{\"showgrid\":true,\"title\":{\"text\":\"Frequency\"}},\"title\":{\"font\":{\"size\":22,\"color\":\"Black\"},\"text\":\"\\u003cb\\u003eTopics over Time\\u003c\\u002fb\\u003e\",\"y\":0.95,\"x\":0.4,\"xanchor\":\"center\",\"yanchor\":\"top\"},\"hoverlabel\":{\"font\":{\"size\":16,\"family\":\"Rockwell\"},\"bgcolor\":\"white\"},\"width\":1250,\"height\":450,\"legend\":{\"title\":{\"text\":\"\\u003cb\\u003eGlobal Topic Representation\"}}},                        {\"responsive\": true}                    )                };                            </script>        </div>"
      ],
      "text/plain": [
       "Figure({\n",
       "    'data': [{'hoverinfo': 'text',\n",
       "              'hovertext': [<b>Topic 0</b><br>Words: ai, humans, us, we, will,\n",
       "                            <b>Topic 0</b><br>Words: ai, will, system, humans, we,\n",
       "                            <b>Topic 0</b><br>Words: ai, we, us, will, humans,\n",
       "                            <b>Topic 0</b><br>Words: ai, humans, we, will, world,\n",
       "                            <b>Topic 0</b><br>Words: ai, automation, will, humans,\n",
       "                            transportation, <b>Topic 0</b><br>Words: ai, humans,\n",
       "                            will, we, be, <b>Topic 0</b><br>Words: ai, will,\n",
       "                            humans, we, be],\n",
       "              'marker': {'color': '#E69F00'},\n",
       "              'mode': 'lines',\n",
       "              'name': '0_ai_will_humans_we',\n",
       "              'type': 'scatter',\n",
       "              'x': array([datetime.datetime(2022, 5, 31, 18, 53, 16, 800000),\n",
       "                          datetime.datetime(2022, 7, 1, 10, 17, 8, 571428),\n",
       "                          datetime.datetime(2022, 7, 31, 20, 34, 17, 142857),\n",
       "                          datetime.datetime(2022, 8, 31, 6, 51, 25, 714285),\n",
       "                          datetime.datetime(2022, 9, 30, 17, 8, 34, 285714),\n",
       "                          datetime.datetime(2022, 10, 31, 3, 25, 42, 857142),\n",
       "                          datetime.datetime(2022, 11, 30, 13, 42, 51, 428571)], dtype=object),\n",
       "              'y': array([ 55,  91,  69,  56,  68,  79, 153], dtype=int64)},\n",
       "             {'hoverinfo': 'text',\n",
       "              'hovertext': [<b>Topic 1</b><br>Words: consciousness, conscious, we,\n",
       "                            nonlocal, of, <b>Topic 1</b><br>Words: consciousness,\n",
       "                            conscious, we, our, of, <b>Topic 1</b><br>Words:\n",
       "                            conscious, consciousness, inner, we, think, <b>Topic\n",
       "                            1</b><br>Words: consciousness, conscious, we, thought,\n",
       "                            subconscious, <b>Topic 1</b><br>Words: consciousness,\n",
       "                            conscious, we, is, of, <b>Topic 1</b><br>Words:\n",
       "                            consciousness, conscious, deterministic, perception,\n",
       "                            tngs, <b>Topic 1</b><br>Words: consciousness,\n",
       "                            conscious, brain, physical, as],\n",
       "              'marker': {'color': '#56B4E9'},\n",
       "              'mode': 'lines',\n",
       "              'name': '1_consciousness_conscious_we_of',\n",
       "              'type': 'scatter',\n",
       "              'x': array([datetime.datetime(2022, 5, 31, 18, 53, 16, 800000),\n",
       "                          datetime.datetime(2022, 7, 1, 10, 17, 8, 571428),\n",
       "                          datetime.datetime(2022, 7, 31, 20, 34, 17, 142857),\n",
       "                          datetime.datetime(2022, 8, 31, 6, 51, 25, 714285),\n",
       "                          datetime.datetime(2022, 9, 30, 17, 8, 34, 285714),\n",
       "                          datetime.datetime(2022, 10, 31, 3, 25, 42, 857142),\n",
       "                          datetime.datetime(2022, 11, 30, 13, 42, 51, 428571)], dtype=object),\n",
       "              'y': array([86, 64, 34, 14, 67, 15, 31], dtype=int64)},\n",
       "             {'hoverinfo': 'text',\n",
       "              'hovertext': [<b>Topic 2</b><br>Words: experiences, art, insane,\n",
       "                            outcome, ourselves, <b>Topic 2</b><br>Words: art,\n",
       "                            chess, better, artists, time, <b>Topic 2</b><br>Words:\n",
       "                            art, artists, digital, will, artist, <b>Topic\n",
       "                            2</b><br>Words: art, artists, artist, painting, will,\n",
       "                            <b>Topic 2</b><br>Words: art, artists, talent, artist,\n",
       "                            people, <b>Topic 2</b><br>Words: art, chess, creative,\n",
       "                            creativity, lifelike, <b>Topic 2</b><br>Words: art,\n",
       "                            artists, creative, artist, people],\n",
       "              'marker': {'color': '#009E73'},\n",
       "              'mode': 'lines',\n",
       "              'name': '2_art_artists_artist_creative',\n",
       "              'type': 'scatter',\n",
       "              'x': array([datetime.datetime(2022, 5, 31, 18, 53, 16, 800000),\n",
       "                          datetime.datetime(2022, 7, 1, 10, 17, 8, 571428),\n",
       "                          datetime.datetime(2022, 7, 31, 20, 34, 17, 142857),\n",
       "                          datetime.datetime(2022, 8, 31, 6, 51, 25, 714285),\n",
       "                          datetime.datetime(2022, 9, 30, 17, 8, 34, 285714),\n",
       "                          datetime.datetime(2022, 10, 31, 3, 25, 42, 857142),\n",
       "                          datetime.datetime(2022, 11, 30, 13, 42, 51, 428571)], dtype=object),\n",
       "              'y': array([ 4, 11, 26, 74, 19, 17, 69], dtype=int64)},\n",
       "             {'hoverinfo': 'text',\n",
       "              'hovertext': [<b>Topic 3</b><br>Words: utopia, money, machines,\n",
       "                            amount, jobs, <b>Topic 3</b><br>Words: wealth, money,\n",
       "                            jobs, prices, society, <b>Topic 3</b><br>Words: jobs,\n",
       "                            machines, money, printers, people, <b>Topic\n",
       "                            3</b><br>Words: horses, technology, tech, insane, fuck,\n",
       "                            <b>Topic 3</b><br>Words: trades, making, progress,\n",
       "                            corporations, push, <b>Topic 3</b><br>Words: starve,\n",
       "                            crop, society, 30, machines, <b>Topic 3</b><br>Words:\n",
       "                            machines, jobs, labor, wealth, work],\n",
       "              'marker': {'color': '#F0E442'},\n",
       "              'mode': 'lines',\n",
       "              'name': '3_machines_jobs_money_wealth',\n",
       "              'type': 'scatter',\n",
       "              'x': array([datetime.datetime(2022, 5, 31, 18, 53, 16, 800000),\n",
       "                          datetime.datetime(2022, 7, 1, 10, 17, 8, 571428),\n",
       "                          datetime.datetime(2022, 7, 31, 20, 34, 17, 142857),\n",
       "                          datetime.datetime(2022, 8, 31, 6, 51, 25, 714285),\n",
       "                          datetime.datetime(2022, 9, 30, 17, 8, 34, 285714),\n",
       "                          datetime.datetime(2022, 10, 31, 3, 25, 42, 857142),\n",
       "                          datetime.datetime(2022, 11, 30, 13, 42, 51, 428571)], dtype=object),\n",
       "              'y': array([21, 33, 29, 14, 11, 20, 73], dtype=int64)},\n",
       "             {'hoverinfo': 'text',\n",
       "              'hovertext': [<b>Topic 4</b><br>Words: ai, showing, gard,\n",
       "                            trainedfed, nate, <b>Topic 4</b><br>Words: pin,\n",
       "                            unpinned, clips, deleted, clip, <b>Topic\n",
       "                            4</b><br>Words: green, color, fruit, pea, pineapple,\n",
       "                            <b>Topic 4</b><br>Words: tile, agent, grid, clean,\n",
       "                            dirty, <b>Topic 4</b><br>Words: ai, how, works, we,\n",
       "                            methods, <b>Topic 4</b><br>Words: ai, folks,\n",
       "                            hahahahahaha, dangai, courtesies, <b>Topic\n",
       "                            4</b><br>Words: ai, knows, bulls, target, hit],\n",
       "              'marker': {'color': '#D55E00'},\n",
       "              'mode': 'lines',\n",
       "              'name': '4_ai_tile_agent_green',\n",
       "              'type': 'scatter',\n",
       "              'x': array([datetime.datetime(2022, 5, 31, 18, 53, 16, 800000),\n",
       "                          datetime.datetime(2022, 7, 1, 10, 17, 8, 571428),\n",
       "                          datetime.datetime(2022, 7, 31, 20, 34, 17, 142857),\n",
       "                          datetime.datetime(2022, 8, 31, 6, 51, 25, 714285),\n",
       "                          datetime.datetime(2022, 9, 30, 17, 8, 34, 285714),\n",
       "                          datetime.datetime(2022, 10, 31, 3, 25, 42, 857142),\n",
       "                          datetime.datetime(2022, 11, 30, 13, 42, 51, 428571)], dtype=object),\n",
       "              'y': array([17, 24, 21, 23, 34, 25, 54], dtype=int64)}],\n",
       "    'layout': {'height': 450,\n",
       "               'hoverlabel': {'bgcolor': 'white', 'font': {'family': 'Rockwell', 'size': 16}},\n",
       "               'legend': {'title': {'text': '<b>Global Topic Representation'}},\n",
       "               'template': '...',\n",
       "               'title': {'font': {'color': 'Black', 'size': 22},\n",
       "                         'text': '<b>Topics over Time</b>',\n",
       "                         'x': 0.4,\n",
       "                         'xanchor': 'center',\n",
       "                         'y': 0.95,\n",
       "                         'yanchor': 'top'},\n",
       "               'width': 1250,\n",
       "               'xaxis': {'showgrid': True},\n",
       "               'yaxis': {'showgrid': True, 'title': {'text': 'Frequency'}}}\n",
       "})"
      ]
     },
     "execution_count": 25,
     "metadata": {},
     "output_type": "execute_result"
    }
   ],
   "source": [
    "# model.visualize_topics()\n",
    "# model.get_topic_info()\n",
    "\n",
    "new_topic_labels = {\n",
    "    0: \"AI and Humanity\",\n",
    "    1: \"Creative Arts with AI\",\n",
    "    2: \"Learning with AI\",\n",
    "    3: \"Music and AI\",\n",
    "    4: \"AI in Jobs and Economy\",\n",
    "    5: \"AI Research Discussions\",\n",
    "    6: \"Question-Answer Systems\",\n",
    "    7: \"AGI and Future\",\n",
    "    8: \"Chatbots and Conversations\",\n",
    "    9: \"Stable Diffusion and AI Art\",\n",
    "}\n",
    "\n",
    "\n",
    "topics_over_time = model.topics_over_time(comments['body'], comments['date'], nr_bins=7, datetime_format='%d, %m, %Y')\n",
    "model.set_topic_labels(new_topic_labels)\n",
    "\n",
    "model.visualize_topics_over_time(topics_over_time, top_n_topics=5)\n",
    "\n",
    "# model.visualize_topics_over_time(topics_over_time, top_n_topics=10)"
   ]
  },
  {
   "cell_type": "markdown",
   "metadata": {},
   "source": [
    "No kernel connected"
   ]
  }
 ],
 "metadata": {
  "kernelspec": {
   "display_name": ".venv",
   "language": "python",
   "name": "python3"
  },
  "language_info": {
   "codemirror_mode": {
    "name": "ipython",
    "version": 3
   },
   "file_extension": ".py",
   "mimetype": "text/x-python",
   "name": "python",
   "nbconvert_exporter": "python",
   "pygments_lexer": "ipython3",
   "version": "3.12.6"
  }
 },
 "nbformat": 4,
 "nbformat_minor": 2
}
